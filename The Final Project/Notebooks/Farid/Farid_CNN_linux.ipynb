{
  "cells": [
    {
      "cell_type": "markdown",
      "metadata": {
        "id": "VRuP0t80QNEW"
      },
      "source": [
        "#Libraries"
      ]
    },
    {
      "cell_type": "code",
      "execution_count": 1,
      "metadata": {
        "id": "at5bJWeFFBEv"
      },
      "outputs": [
        {
          "name": "stderr",
          "output_type": "stream",
          "text": [
            "2024-09-30 19:17:59.423810: I tensorflow/stream_executor/platform/default/dso_loader.cc:49] Successfully opened dynamic library libcudart.so.10.1\n"
          ]
        }
      ],
      "source": [
        "import time\n",
        "import random\n",
        "import numpy as np\n",
        "import pandas as pd\n",
        "import tensorflow as tf\n",
        "from imutils import paths\n",
        "from tensorflow import keras\n",
        "import matplotlib.pyplot as plt\n",
        "from collections import Counter\n",
        "from sklearn.metrics import confusion_matrix\n",
        "from sklearn.metrics import ConfusionMatrixDisplay\n",
        "from sklearn.model_selection import train_test_split\n",
        "from tensorflow.keras.preprocessing.image import ImageDataGenerator\n",
        "from sklearn.metrics import accuracy_score, precision_score, recall_score"
      ]
    },
    {
      "cell_type": "markdown",
      "metadata": {
        "id": "3sKp0QE8fVLM"
      },
      "source": [
        "#**Fetching**"
      ]
    },
    {
      "cell_type": "code",
      "execution_count": 2,
      "metadata": {
        "colab": {
          "base_uri": "https://localhost:8080/"
        },
        "id": "5M1CL73yFqJd",
        "outputId": "a886bb58-7be6-471c-b16d-0df974417fdb"
      },
      "outputs": [
        {
          "name": "stderr",
          "output_type": "stream",
          "text": [
            "2024-09-30 19:18:01.023681: I tensorflow/compiler/jit/xla_cpu_device.cc:41] Not creating XLA devices, tf_xla_enable_xla_devices not set\n",
            "2024-09-30 19:18:01.025512: I tensorflow/stream_executor/platform/default/dso_loader.cc:49] Successfully opened dynamic library libcuda.so.1\n",
            "2024-09-30 19:18:01.032071: E tensorflow/stream_executor/cuda/cuda_driver.cc:328] failed call to cuInit: CUDA_ERROR_UNKNOWN: unknown error\n",
            "2024-09-30 19:18:01.032095: I tensorflow/stream_executor/cuda/cuda_diagnostics.cc:169] retrieving CUDA diagnostic information for host: gunner-ThinkPad-P52\n",
            "2024-09-30 19:18:01.032102: I tensorflow/stream_executor/cuda/cuda_diagnostics.cc:176] hostname: gunner-ThinkPad-P52\n",
            "2024-09-30 19:18:01.032194: I tensorflow/stream_executor/cuda/cuda_diagnostics.cc:200] libcuda reported version is: 535.171.4\n",
            "2024-09-30 19:18:01.032215: I tensorflow/stream_executor/cuda/cuda_diagnostics.cc:204] kernel reported version is: 535.171.4\n",
            "2024-09-30 19:18:01.032221: I tensorflow/stream_executor/cuda/cuda_diagnostics.cc:310] kernel version seems to match DSO: 535.171.4\n",
            "2024-09-30 19:18:01.032599: I tensorflow/core/platform/cpu_feature_guard.cc:142] This TensorFlow binary is optimized with oneAPI Deep Neural Network Library (oneDNN) to use the following CPU instructions in performance-critical operations:  SSE4.1 SSE4.2 AVX AVX2 FMA\n",
            "To enable them in other operations, rebuild TensorFlow with the appropriate compiler flags.\n",
            "2024-09-30 19:18:01.033756: I tensorflow/compiler/jit/xla_gpu_device.cc:99] Not creating XLA devices, tf_xla_enable_xla_devices not set\n"
          ]
        },
        {
          "name": "stdout",
          "output_type": "stream",
          "text": [
            "Loaded FR0... 6066 files has loaded.\n"
          ]
        }
      ],
      "source": [
        "# Reading FRI Images\n",
        "imagePaths = list(paths.list_images(r\"/media/gunner/5A300FFA300FDC3F/My Projects/Temp/Data-Mining/Dataset/FR0\"))\n",
        "\n",
        "data = []\n",
        "data_cropped = []\n",
        "labels = []\n",
        "label = 0\n",
        "counter_0 = 0\n",
        "\n",
        "for imagePath in imagePaths:\n",
        "  image = tf.io.read_file(imagePath)\n",
        "  image = tf.image.decode_image(image, channels=1)\n",
        "  data.append(image)\n",
        "  labels.append(label)\n",
        "  counter_0 += 1\n",
        "print(f'Loaded FR0... {counter_0} files has loaded.')"
      ]
    },
    {
      "cell_type": "code",
      "execution_count": 3,
      "metadata": {
        "colab": {
          "base_uri": "https://localhost:8080/"
        },
        "id": "9NmnZ6cZjobL",
        "outputId": "d17ed0e1-0b79-4a5c-e08a-e0069e540a82"
      },
      "outputs": [
        {
          "name": "stdout",
          "output_type": "stream",
          "text": [
            "Loaded FRI... 5008 files has loaded.\n"
          ]
        }
      ],
      "source": [
        "# Reading FRI Images\n",
        "imagePaths = list(paths.list_images(r\"/media/gunner/5A300FFA300FDC3F/My Projects/Temp/Data-Mining/Dataset/FRI\"))\n",
        "\n",
        "\n",
        "label = 1\n",
        "counter_1 = 0\n",
        "\n",
        "for imagePath in imagePaths:\n",
        "  image = tf.io.read_file(imagePath)\n",
        "  image = tf.image.decode_image(image, channels=1)\n",
        "  data.append(image)\n",
        "  labels.append(label)\n",
        "  counter_1 += 1\n",
        "print(f'Loaded FRI... {counter_1} files has loaded.')"
      ]
    },
    {
      "cell_type": "code",
      "execution_count": 4,
      "metadata": {
        "colab": {
          "base_uri": "https://localhost:8080/"
        },
        "id": "Ni70OrxGP6CG",
        "outputId": "2631d9c6-ce4b-4dd6-c245-a37522820b11"
      },
      "outputs": [
        {
          "name": "stdout",
          "output_type": "stream",
          "text": [
            "Loaded FRII... 2066 files has loaded.\n"
          ]
        }
      ],
      "source": [
        "# Reading FRI Images\n",
        "imagePaths = list(paths.list_images(r\"/media/gunner/5A300FFA300FDC3F/My Projects/Temp/Data-Mining/Dataset/FRII\"))\n",
        "\n",
        "label = 2\n",
        "counter_2 = 0\n",
        "\n",
        "for imagePath in imagePaths:\n",
        "  image = tf.io.read_file(imagePath)\n",
        "  image = tf.image.decode_image(image, channels=1)\n",
        "  data.append(image)\n",
        "  labels.append(label)\n",
        "  counter_2 += 1\n",
        "print(f'Loaded FRII... {counter_2} files has loaded.')"
      ]
    },
    {
      "cell_type": "markdown",
      "metadata": {
        "id": "54B3uVoAQATm"
      },
      "source": [
        "#**Cropping**"
      ]
    },
    {
      "cell_type": "code",
      "execution_count": 5,
      "metadata": {
        "id": "mg2Fz6RUKbF3"
      },
      "outputs": [],
      "source": [
        "data_cropped = []\n",
        "for image in data:\n",
        "  image = tf.image.crop_to_bounding_box(image, 120, 120, 60, 60)\n",
        "  data_cropped.append(image)\n"
      ]
    },
    {
      "cell_type": "markdown",
      "metadata": {
        "id": "C_EYq2cD2S9o"
      },
      "source": [
        "#**EDA**"
      ]
    },
    {
      "cell_type": "code",
      "execution_count": 6,
      "metadata": {
        "colab": {
          "base_uri": "https://localhost:8080/",
          "height": 472
        },
        "id": "WxXep8unzj8T",
        "outputId": "1729e778-fd25-46f8-c54d-7d41cacd5527"
      },
      "outputs": [
        {
          "data": {
            "image/png": "[encoded data removed]",
            "text/plain": [
              "<Figure size 640x480 with 1 Axes>"
            ]
          },
          "metadata": {},
          "output_type": "display_data"
        }
      ],
      "source": [
        "counter = Counter(labels)\n",
        "sorted_counts = dict(sorted(counter.items()))\n",
        "plt.bar(sorted_counts.keys(), sorted_counts.values(), color='skyblue')\n",
        "plt.xlabel('Class')\n",
        "plt.ylabel('Count')\n",
        "plt.title('Count of Each Class in the Dataset')\n",
        "plt.xticks(range(3))\n",
        "plt.show()"
      ]
    },
    {
      "cell_type": "code",
      "execution_count": 7,
      "metadata": {
        "id": "AgbTDA9wQEWw"
      },
      "outputs": [],
      "source": [
        "labels = np.array(labels,dtype='uint8')\n",
        "data = np.array(data,dtype='uint8')\n",
        "data_cropped = np.array(data_cropped,dtype='uint8')"
      ]
    },
    {
      "cell_type": "code",
      "execution_count": 8,
      "metadata": {
        "colab": {
          "base_uri": "https://localhost:8080/",
          "height": 205
        },
        "id": "4l5LfN-uS8iz",
        "outputId": "dfbe0a4c-fa2f-4d50-eace-2e5056ee44c7"
      },
      "outputs": [
        {
          "data": {
            "image/png": "[encoded data removed]",
            "text/plain": [
              "<Figure size 640x480 with 3 Axes>"
            ]
          },
          "metadata": {},
          "output_type": "display_data"
        }
      ],
      "source": [
        "class_0 = data[labels == 0]\n",
        "image = np.squeeze(class_0[1])\n",
        "plt.subplot(1, 3, 1)\n",
        "plt.imshow(image, cmap='gray')\n",
        "plt.axis('off')\n",
        "plt.title(f\"Image at FR0\")\n",
        "\n",
        "class_1 = data[labels == 1]\n",
        "image = np.squeeze(class_1[1])\n",
        "plt.subplot(1, 3, 2)\n",
        "plt.imshow(image, cmap='gray')\n",
        "plt.axis('off')\n",
        "plt.title(f\"Image at FRI\")\n",
        "\n",
        "class_2 = data[labels == 2]\n",
        "image = np.squeeze(class_2[1])\n",
        "plt.subplot(1, 3, 3)\n",
        "plt.imshow(image, cmap='gray')\n",
        "plt.axis('off')\n",
        "plt.title(f\"Image at FRII\")\n",
        "\n",
        "\n",
        "plt.show()"
      ]
    },
    {
      "cell_type": "code",
      "execution_count": 9,
      "metadata": {
        "colab": {
          "base_uri": "https://localhost:8080/",
          "height": 205
        },
        "id": "AwomotIWl0aV",
        "outputId": "4f8130bd-b838-4d49-e2e8-64a9335050d0"
      },
      "outputs": [
        {
          "data": {
            "image/png": "[encoded data removed]",
            "text/plain": [
              "<Figure size 640x480 with 3 Axes>"
            ]
          },
          "metadata": {},
          "output_type": "display_data"
        }
      ],
      "source": [
        "class_0 = data_cropped[labels == 0]\n",
        "image = np.squeeze(class_0[1])\n",
        "plt.subplot(1, 3, 1)\n",
        "plt.imshow(image, cmap='gray')\n",
        "plt.axis('off')\n",
        "plt.title(f\"Image at FR0\")\n",
        "\n",
        "class_1 = data_cropped[labels == 1]\n",
        "image = np.squeeze(class_1[1])\n",
        "plt.subplot(1, 3, 2)\n",
        "plt.imshow(image, cmap='gray')\n",
        "plt.axis('off')\n",
        "plt.title(f\"Image at FRI\")\n",
        "\n",
        "class_2 = data_cropped[labels == 2]\n",
        "image = np.squeeze(class_2[1])\n",
        "plt.subplot(1, 3, 3)\n",
        "plt.imshow(image, cmap='gray')\n",
        "plt.axis('off')\n",
        "plt.title(f\"Image at FRII\")\n",
        "\n",
        "\n",
        "plt.show()"
      ]
    },
    {
      "cell_type": "markdown",
      "metadata": {
        "id": "VlyWTML7fVLR"
      },
      "source": [
        "#**Filterring**"
      ]
    },
    {
      "cell_type": "code",
      "execution_count": 10,
      "metadata": {
        "colab": {
          "base_uri": "https://localhost:8080/"
        },
        "id": "KW1YQ7_3fVLR",
        "outputId": "eed6e58a-4490-4e61-8179-a651fae8cb58"
      },
      "outputs": [
        {
          "data": {
            "text/plain": [
              "((13140, 60, 60, 1), (13140,))"
            ]
          },
          "execution_count": 10,
          "metadata": {},
          "output_type": "execute_result"
        }
      ],
      "source": [
        "data_cropped.shape, labels.shape"
      ]
    },
    {
      "cell_type": "code",
      "execution_count": 11,
      "metadata": {
        "id": "uvGBTW9JfVLS"
      },
      "outputs": [],
      "source": [
        "mask = np.array([np.max(image) >= 5 for image in data_cropped])\n",
        "filtered_data = data_cropped[mask]\n",
        "filtered_labels = labels[mask]"
      ]
    },
    {
      "cell_type": "code",
      "execution_count": 12,
      "metadata": {
        "id": "4bKvNQOkZfvb"
      },
      "outputs": [],
      "source": [
        "mask_useless = np.array([np.max(image) < 5 for image in data_cropped])\n",
        "useless_data = data_cropped[mask_useless]\n",
        "useless_labels = labels[mask_useless]"
      ]
    },
    {
      "cell_type": "code",
      "execution_count": 13,
      "metadata": {
        "id": "gsfmQCzWZh3P"
      },
      "outputs": [],
      "source": [
        "class_0_useless = useless_data[useless_labels == 0]\n",
        "class_1_useless = useless_data[useless_labels == 1]\n",
        "class_2_useless = useless_data[useless_labels == 2]"
      ]
    },
    {
      "cell_type": "code",
      "execution_count": 14,
      "metadata": {
        "colab": {
          "base_uri": "https://localhost:8080/"
        },
        "id": "EzxJ3uNoaauA",
        "outputId": "0802308f-4e58-4ed9-a803-69cfd5a1397b"
      },
      "outputs": [
        {
          "data": {
            "text/plain": [
              "(2, 0, 2)"
            ]
          },
          "execution_count": 14,
          "metadata": {},
          "output_type": "execute_result"
        }
      ],
      "source": [
        "np.max(class_0_useless), np.max(class_1_useless), np.max(class_2_useless)"
      ]
    },
    {
      "cell_type": "code",
      "execution_count": 15,
      "metadata": {
        "colab": {
          "base_uri": "https://localhost:8080/"
        },
        "id": "DXXX-agPabXu",
        "outputId": "b1058458-d630-49ca-e3e4-de54d2c2ce3d"
      },
      "outputs": [
        {
          "data": {
            "text/plain": [
              "((94, 60, 60, 1), (40, 60, 60, 1), (36, 60, 60, 1))"
            ]
          },
          "execution_count": 15,
          "metadata": {},
          "output_type": "execute_result"
        }
      ],
      "source": [
        "class_0_useless.shape, class_1_useless.shape, class_2_useless.shape"
      ]
    },
    {
      "cell_type": "code",
      "execution_count": 16,
      "metadata": {
        "colab": {
          "base_uri": "https://localhost:8080/",
          "height": 205
        },
        "id": "SpXNXvsBahhg",
        "outputId": "5364ea7b-15dc-4e53-9af3-f5259081d695"
      },
      "outputs": [
        {
          "data": {
            "image/png": "[encoded data removed]",
            "text/plain": [
              "<Figure size 640x480 with 3 Axes>"
            ]
          },
          "metadata": {},
          "output_type": "display_data"
        }
      ],
      "source": [
        "temp = 0\n",
        "for i in class_0_useless:\n",
        "  if np.max(i) >temp:\n",
        "    temp = np.max(i)\n",
        "    image = np.squeeze(i)\n",
        "plt.subplot(1, 3, 1)\n",
        "plt.imshow(image, cmap='gray')\n",
        "plt.axis('off')\n",
        "plt.title(f\"Image at FR0\")\n",
        "\n",
        "temp = 0\n",
        "for i in class_1_useless:\n",
        "  if np.max(i) >temp:\n",
        "    temp = np.max(i)\n",
        "    image = np.squeeze(i)\n",
        "plt.subplot(1, 3, 2)\n",
        "plt.imshow(image, cmap='gray')\n",
        "plt.axis('off')\n",
        "plt.title(f\"Image at FRI\")\n",
        "\n",
        "temp = 0\n",
        "for i in class_2_useless:\n",
        "  if np.max(i) >temp:\n",
        "    temp = np.max(i)\n",
        "    image = np.squeeze(i)\n",
        "plt.subplot(1, 3, 3)\n",
        "plt.imshow(image, cmap='gray')\n",
        "plt.axis('off')\n",
        "plt.title(f\"Image at FRII\")\n",
        "\n",
        "\n",
        "plt.show()"
      ]
    },
    {
      "cell_type": "code",
      "execution_count": 17,
      "metadata": {
        "colab": {
          "base_uri": "https://localhost:8080/",
          "height": 472
        },
        "id": "FnpKQ12ufVLS",
        "outputId": "7435b038-5420-475d-fa4c-b932bfabf171"
      },
      "outputs": [
        {
          "data": {
            "image/png": "[encoded data removed]",
            "text/plain": [
              "<Figure size 640x480 with 1 Axes>"
            ]
          },
          "metadata": {},
          "output_type": "display_data"
        }
      ],
      "source": [
        "counter = Counter(filtered_labels)\n",
        "sorted_counts = dict(sorted(counter.items()))\n",
        "plt.bar(sorted_counts.keys(), sorted_counts.values(), color='skyblue')\n",
        "plt.grid(True)\n",
        "plt.xlabel('Class')\n",
        "plt.ylabel('Count')\n",
        "plt.title('Count of Each Class in the Dataset')\n",
        "plt.xticks(range(3))\n",
        "plt.show()"
      ]
    },
    {
      "cell_type": "code",
      "execution_count": 18,
      "metadata": {
        "colab": {
          "base_uri": "https://localhost:8080/"
        },
        "id": "Cu2nSNfpfVLS",
        "outputId": "46ead441-402f-44fd-8721-d4b3fd10faa9"
      },
      "outputs": [
        {
          "data": {
            "text/plain": [
              "((5972, 60, 60, 1), (4968, 60, 60, 1), (2030, 60, 60, 1))"
            ]
          },
          "execution_count": 18,
          "metadata": {},
          "output_type": "execute_result"
        }
      ],
      "source": [
        "class_0_image = filtered_data[filtered_labels == 0]\n",
        "class_1_image = filtered_data[filtered_labels == 1]\n",
        "class_2_image = filtered_data[filtered_labels == 2]\n",
        "class_0_image.shape, class_1_image.shape, class_2_image.shape"
      ]
    },
    {
      "cell_type": "markdown",
      "metadata": {
        "id": "qaga7tmlfVLT"
      },
      "source": [
        "#**Augmentation**"
      ]
    },
    {
      "cell_type": "code",
      "execution_count": 19,
      "metadata": {
        "id": "x9xgpaW2fVLT"
      },
      "outputs": [],
      "source": [
        "datagen = ImageDataGenerator(rotation_range=30,\n",
        "                             width_shift_range=0.2,\n",
        "                             height_shift_range=0.2,\n",
        "                             zoom_range=0.2,\n",
        "                             shear_range=0.2,\n",
        "                             horizontal_flip=True,\n",
        "                             fill_mode='nearest')\n",
        "class_2_data = filtered_data[filtered_labels == 2]\n",
        "class_1_data = filtered_data[filtered_labels == 1]\n",
        "\n",
        "\n",
        "augmented_class_2_data = []\n",
        "augmented_class_2_labels = []\n",
        "\n",
        "for i in range(4000):\n",
        "    image = class_2_data[np.random.randint(0, len(class_2_data))]\n",
        "    augmented_image = datagen.random_transform(image)\n",
        "    augmented_class_2_data.append(augmented_image)\n",
        "    augmented_class_2_labels.append(2)\n",
        "\n",
        "\n",
        "\n",
        "augmented_class_1_data = []\n",
        "augmented_class_1_labels = []\n",
        "\n",
        "for i in range(1000):\n",
        "    image = class_1_data[np.random.randint(0, len(class_1_data))]\n",
        "    augmented_image = datagen.random_transform(image)\n",
        "    augmented_class_1_data.append(augmented_image)\n",
        "    augmented_class_1_labels.append(1)\n",
        "\n"
      ]
    },
    {
      "cell_type": "code",
      "execution_count": 20,
      "metadata": {
        "id": "Lt8W7FhwfVLT"
      },
      "outputs": [],
      "source": [
        "augmented_class_2_data = np.array(augmented_class_2_data)\n",
        "augmented_class_2_labels = np.array(augmented_class_2_labels)\n",
        "\n",
        "augmented_class_1_data = np.array(augmented_class_1_data)\n",
        "augmented_class_1_labels = np.array(augmented_class_1_labels)\n",
        "\n",
        "final_data = np.concatenate((filtered_data, augmented_class_2_data, augmented_class_1_data), axis=0)\n",
        "final_labels = np.concatenate((filtered_labels, augmented_class_2_labels, augmented_class_1_labels), axis=0)"
      ]
    },
    {
      "cell_type": "code",
      "execution_count": 21,
      "metadata": {
        "colab": {
          "base_uri": "https://localhost:8080/"
        },
        "id": "NRKu9lKXfVLT",
        "outputId": "be3a529f-0244-4438-8b7e-521fd96374af"
      },
      "outputs": [
        {
          "name": "stdout",
          "output_type": "stream",
          "text": [
            "Final data shape: (1000, 60, 60, 1)\n",
            "Final labels shape: (4000, 60, 60, 1)\n",
            "Final data shape: (17970, 60, 60, 1)\n",
            "Final labels shape: (17970,)\n"
          ]
        }
      ],
      "source": [
        "print(\"Final data shape:\", augmented_class_1_data.shape)\n",
        "print(\"Final labels shape:\", augmented_class_2_data.shape)\n",
        "print(\"Final data shape:\", final_data.shape)\n",
        "print(\"Final labels shape:\", final_labels.shape)"
      ]
    },
    {
      "cell_type": "code",
      "execution_count": 22,
      "metadata": {
        "colab": {
          "base_uri": "https://localhost:8080/",
          "height": 472
        },
        "id": "2zRA-xjEfVLU",
        "outputId": "131c6e70-487c-4bb2-a453-3ea323d043a3"
      },
      "outputs": [
        {
          "data": {
            "image/png": "[encoded data removed]",
            "text/plain": [
              "<Figure size 640x480 with 1 Axes>"
            ]
          },
          "metadata": {},
          "output_type": "display_data"
        }
      ],
      "source": [
        "counter = Counter(final_labels)\n",
        "sorted_counts = dict(sorted(counter.items()))\n",
        "plt.bar(sorted_counts.keys(), sorted_counts.values(), color='skyblue')\n",
        "plt.grid(True)\n",
        "plt.xlabel('Class')\n",
        "plt.ylabel('Count')\n",
        "plt.title('Count of Each Class in the Dataset')\n",
        "plt.xticks(range(3))\n",
        "plt.show()"
      ]
    },
    {
      "cell_type": "markdown",
      "metadata": {
        "id": "3javIkUqrHCu"
      },
      "source": [
        "#**Preprocessing**"
      ]
    },
    {
      "cell_type": "code",
      "execution_count": 30,
      "metadata": {
        "colab": {
          "base_uri": "https://localhost:8080/"
        },
        "id": "poCgRYqYPX0x",
        "outputId": "97295f8e-2f88-4b5f-8517-58b74783f5ec"
      },
      "outputs": [
        {
          "data": {
            "text/plain": [
              "(0, 248)"
            ]
          },
          "execution_count": 30,
          "metadata": {},
          "output_type": "execute_result"
        }
      ],
      "source": [
        "np.min(final_data[0]), np.max(final_data[0])"
      ]
    },
    {
      "cell_type": "code",
      "execution_count": 31,
      "metadata": {
        "id": "zpeQhX80ruoD"
      },
      "outputs": [],
      "source": [
        "data_normalized = final_data / 255"
      ]
    },
    {
      "cell_type": "code",
      "execution_count": 32,
      "metadata": {
        "colab": {
          "base_uri": "https://localhost:8080/"
        },
        "id": "5FNEuTr7r3vt",
        "outputId": "63ae00d5-6d5f-49ba-8f54-ef4e6822f858"
      },
      "outputs": [
        {
          "name": "stdout",
          "output_type": "stream",
          "text": [
            "Min of original = 0\n",
            "Max of original = 248\n",
            "Min of original = 0.0\n",
            "Max of original = 0.9725490196078431\n"
          ]
        }
      ],
      "source": [
        "print(f'Min of original = {np.min(final_data[0])}')\n",
        "print(f'Max of original = {np.max(final_data[0])}')\n",
        "print(f'Min of original = {np.min(data_normalized[0])}')\n",
        "print(f'Max of original = {np.max(data_normalized[0])}')"
      ]
    },
    {
      "cell_type": "code",
      "execution_count": 33,
      "metadata": {
        "colab": {
          "base_uri": "https://localhost:8080/",
          "height": 507
        },
        "id": "ctW2qI2Wwov1",
        "outputId": "1b601228-875b-4862-d5de-132b21d56329"
      },
      "outputs": [
        {
          "data": {
            "image/png": "[encoded data removed]",
            "text/plain": [
              "<Figure size 1000x500 with 2 Axes>"
            ]
          },
          "metadata": {},
          "output_type": "display_data"
        }
      ],
      "source": [
        "cropped_flat = final_data.flatten()\n",
        "normalized_flat = data_normalized.flatten()\n",
        "\n",
        "plt.figure(figsize=(10, 5))\n",
        "\n",
        "plt.subplot(1, 2, 1)\n",
        "plt.boxplot(cropped_flat)\n",
        "plt.title(\"Original Pixel Values (0-255)\")\n",
        "plt.ylabel(\"Pixel Intensity\")\n",
        "\n",
        "plt.subplot(1, 2, 2)\n",
        "plt.boxplot(normalized_flat)\n",
        "plt.title(\"Normalized Pixel Values (0-1)\")\n",
        "plt.ylabel(\"Pixel Intensity\")\n",
        "\n",
        "plt.tight_layout()\n",
        "plt.show()"
      ]
    },
    {
      "cell_type": "code",
      "execution_count": 44,
      "metadata": {},
      "outputs": [
        {
          "data": {
            "text/plain": [
              "((5972, 3600), (5968, 3600), (6030, 3600))"
            ]
          },
          "execution_count": 44,
          "metadata": {},
          "output_type": "execute_result"
        }
      ],
      "source": [
        "class_0_flatten = []\n",
        "class_1_flatten = []\n",
        "class_2_flatten = []\n",
        "\n",
        "\n",
        "for image in final_data[final_labels == 0]:\n",
        "    class_0_flatten.append(image.flatten())\n",
        "\n",
        "for image in final_data[final_labels == 1]:\n",
        "    class_1_flatten.append(image.flatten())\n",
        "\n",
        "for image in final_data[final_labels == 2]:\n",
        "    class_2_flatten.append(image.flatten())\n",
        "\n",
        "\n",
        "class_0_flatten = np.array(class_0_flatten, dtype='uint8')\n",
        "class_1_flatten = np.array(class_1_flatten, dtype='uint8')\n",
        "class_2_flatten = np.array(class_2_flatten, dtype='uint8')\n",
        "\n",
        "class_0_flatten.shape, class_1_flatten.shape, class_2_flatten.shape"
      ]
    },
    {
      "cell_type": "code",
      "execution_count": 58,
      "metadata": {},
      "outputs": [
        {
          "data": {
            "image/png": "[encoded data removed]",
            "text/plain": [
              "<Figure size 640x480 with 1 Axes>"
            ]
          },
          "metadata": {},
          "output_type": "display_data"
        }
      ],
      "source": [
        "for i in range(100):\n",
        "    plt.plot(class_0_flatten[i], color='red')\n",
        "\n",
        "plt.show();"
      ]
    },
    {
      "cell_type": "code",
      "execution_count": 59,
      "metadata": {},
      "outputs": [
        {
          "data": {
            "image/png": "[encoded data removed]",
            "text/plain": [
              "<Figure size 640x480 with 1 Axes>"
            ]
          },
          "metadata": {},
          "output_type": "display_data"
        }
      ],
      "source": [
        "for i in range(100):\n",
        "    plt.plot(class_1_flatten[i], color='red')\n",
        "\n",
        "plt.show();"
      ]
    },
    {
      "cell_type": "code",
      "execution_count": 60,
      "metadata": {},
      "outputs": [
        {
          "data": {
            "image/png": "[encoded data removed]",
            "text/plain": [
              "<Figure size 640x480 with 1 Axes>"
            ]
          },
          "metadata": {},
          "output_type": "display_data"
        }
      ],
      "source": [
        "for i in range(100):\n",
        "    plt.plot(class_2_flatten[i], color='red')\n",
        "\n",
        "plt.show();"
      ]
    },
    {
      "cell_type": "markdown",
      "metadata": {
        "id": "IUaWnZu7n2LV"
      },
      "source": [
        "#**Splitting**"
      ]
    },
    {
      "cell_type": "code",
      "execution_count": 61,
      "metadata": {
        "colab": {
          "base_uri": "https://localhost:8080/"
        },
        "id": "wo4aF9gKm17L",
        "outputId": "67d64fee-4d0d-4697-8d68-b4a9e378c6e0"
      },
      "outputs": [
        {
          "data": {
            "text/plain": [
              "((12579, 60, 60, 1), (12579,), (5391, 60, 60, 1), (5391,))"
            ]
          },
          "execution_count": 61,
          "metadata": {},
          "output_type": "execute_result"
        }
      ],
      "source": [
        "x = data_normalized\n",
        "y = final_labels\n",
        "x_train, x_test, y_train, y_test = train_test_split(x, y, test_size=0.3)\n",
        "\n",
        "x_train.shape, y_train.shape, x_test.shape, y_test.shape"
      ]
    },
    {
      "cell_type": "markdown",
      "metadata": {
        "id": "8GJDR8PefVLV"
      },
      "source": [
        "#**CNN**"
      ]
    },
    {
      "cell_type": "code",
      "execution_count": 62,
      "metadata": {
        "colab": {
          "base_uri": "https://localhost:8080/",
          "height": 1000
        },
        "id": "eEn1myKsfVLV",
        "outputId": "5715c07f-3686-40b4-aa22-b2628500b0a0"
      },
      "outputs": [
        {
          "name": "stdout",
          "output_type": "stream",
          "text": [
            "Model: \"sequential\"\n",
            "_________________________________________________________________\n",
            "Layer (type)                 Output Shape              Param #   \n",
            "=================================================================\n",
            "conv2d (Conv2D)              (None, 58, 58, 64)        640       \n",
            "_________________________________________________________________\n",
            "batch_normalization (BatchNo (None, 58, 58, 64)        256       \n",
            "_________________________________________________________________\n",
            "activation (Activation)      (None, 58, 58, 64)        0         \n",
            "_________________________________________________________________\n",
            "max_pooling2d (MaxPooling2D) (None, 29, 29, 64)        0         \n",
            "_________________________________________________________________\n",
            "conv2d_1 (Conv2D)            (None, 27, 27, 64)        36928     \n",
            "_________________________________________________________________\n",
            "batch_normalization_1 (Batch (None, 27, 27, 64)        256       \n",
            "_________________________________________________________________\n",
            "activation_1 (Activation)    (None, 27, 27, 64)        0         \n",
            "_________________________________________________________________\n",
            "max_pooling2d_1 (MaxPooling2 (None, 13, 13, 64)        0         \n",
            "_________________________________________________________________\n",
            "conv2d_2 (Conv2D)            (None, 11, 11, 64)        36928     \n",
            "_________________________________________________________________\n",
            "batch_normalization_2 (Batch (None, 11, 11, 64)        256       \n",
            "_________________________________________________________________\n",
            "activation_2 (Activation)    (None, 11, 11, 64)        0         \n",
            "_________________________________________________________________\n",
            "max_pooling2d_2 (MaxPooling2 (None, 5, 5, 64)          0         \n",
            "_________________________________________________________________\n",
            "conv2d_3 (Conv2D)            (None, 3, 3, 64)          36928     \n",
            "_________________________________________________________________\n",
            "batch_normalization_3 (Batch (None, 3, 3, 64)          256       \n",
            "_________________________________________________________________\n",
            "activation_3 (Activation)    (None, 3, 3, 64)          0         \n",
            "_________________________________________________________________\n",
            "max_pooling2d_3 (MaxPooling2 (None, 1, 1, 64)          0         \n",
            "_________________________________________________________________\n",
            "flatten (Flatten)            (None, 64)                0         \n",
            "_________________________________________________________________\n",
            "dense (Dense)                (None, 256)               16640     \n",
            "_________________________________________________________________\n",
            "dropout (Dropout)            (None, 256)               0         \n",
            "_________________________________________________________________\n",
            "dense_1 (Dense)              (None, 256)               65792     \n",
            "_________________________________________________________________\n",
            "dropout_1 (Dropout)          (None, 256)               0         \n",
            "_________________________________________________________________\n",
            "dense_2 (Dense)              (None, 256)               65792     \n",
            "_________________________________________________________________\n",
            "dropout_2 (Dropout)          (None, 256)               0         \n",
            "_________________________________________________________________\n",
            "dense_3 (Dense)              (None, 256)               65792     \n",
            "_________________________________________________________________\n",
            "dropout_3 (Dropout)          (None, 256)               0         \n",
            "_________________________________________________________________\n",
            "dense_4 (Dense)              (None, 256)               65792     \n",
            "_________________________________________________________________\n",
            "dropout_4 (Dropout)          (None, 256)               0         \n",
            "_________________________________________________________________\n",
            "dense_5 (Dense)              (None, 3)                 771       \n",
            "=================================================================\n",
            "Total params: 393,027\n",
            "Trainable params: 392,515\n",
            "Non-trainable params: 512\n",
            "_________________________________________________________________\n"
          ]
        }
      ],
      "source": [
        "model_cnn = keras.Sequential()\n",
        "\n",
        "#CNN\n",
        "model_cnn.add(keras.layers.Conv2D(64, kernel_size=(3,3), input_shape=(60, 60, 1)))\n",
        "model_cnn.add(keras.layers.BatchNormalization())\n",
        "model_cnn.add(keras.layers.Activation('relu'))\n",
        "model_cnn.add(keras.layers.MaxPool2D(pool_size=(2, 2)))\n",
        "\n",
        "model_cnn.add(keras.layers.Conv2D(64, kernel_size=(3,3)))\n",
        "model_cnn.add(keras.layers.BatchNormalization())\n",
        "model_cnn.add(keras.layers.Activation('relu'))\n",
        "model_cnn.add(keras.layers.MaxPooling2D(pool_size=(2, 2)))\n",
        "\n",
        "model_cnn.add(keras.layers.Conv2D(64, kernel_size=(3,3)))\n",
        "model_cnn.add(keras.layers.BatchNormalization())\n",
        "model_cnn.add(keras.layers.Activation('relu'))\n",
        "model_cnn.add(keras.layers.MaxPool2D(pool_size=(2, 2)))\n",
        "\n",
        "model_cnn.add(keras.layers.Conv2D(64, kernel_size=(3,3)))\n",
        "model_cnn.add(keras.layers.BatchNormalization())\n",
        "model_cnn.add(keras.layers.Activation('relu'))\n",
        "model_cnn.add(keras.layers.MaxPool2D(pool_size=(2, 2)))\n",
        "\n",
        "\n",
        "#Dense\n",
        "model_cnn.add(keras.layers.Flatten())\n",
        "model_cnn.add(keras.layers.Dense(units=256, activation='relu'))\n",
        "model_cnn.add(keras.layers.Dropout(0.5))\n",
        "model_cnn.add(keras.layers.Dense(units=256, activation='relu'))\n",
        "model_cnn.add(keras.layers.Dropout(0.4))\n",
        "model_cnn.add(keras.layers.Dense(units=256, activation='relu'))\n",
        "model_cnn.add(keras.layers.Dropout(0.4))\n",
        "model_cnn.add(keras.layers.Dense(units=256, activation='relu'))\n",
        "model_cnn.add(keras.layers.Dropout(0.4))\n",
        "model_cnn.add(keras.layers.Dense(units=256, activation='relu'))\n",
        "model_cnn.add(keras.layers.Dropout(0.4))\n",
        "\n",
        "\n",
        "#Output\n",
        "model_cnn.add(keras.layers.Dense(units=3, activation=keras.activations.softmax))\n",
        "\n",
        "\n",
        "#Model Compiling\n",
        "optimizer = keras.optimizers.Adam(learning_rate=0.000002)\n",
        "loss = keras.losses.SparseCategoricalCrossentropy()\n",
        "metric = [keras.metrics.CategoricalAccuracy()]\n",
        "\n",
        "model_cnn.compile(optimizer=optimizer, loss=loss, metrics=['accuracy'])\n",
        "\n",
        "\n",
        "#Builing and Summury\n",
        "model_cnn.summary()"
      ]
    },
    {
      "cell_type": "code",
      "execution_count": 63,
      "metadata": {
        "id": "x43LJNOofVLW"
      },
      "outputs": [],
      "source": [
        "early_stopping = tf.keras.callbacks.EarlyStopping(monitor='val_loss', patience=50, restore_best_weights=True)"
      ]
    },
    {
      "cell_type": "code",
      "execution_count": null,
      "metadata": {
        "colab": {
          "base_uri": "https://localhost:8080/"
        },
        "id": "I2LmSftPfVLW",
        "outputId": "9eee5312-08b8-4077-dc43-d664badd426f"
      },
      "outputs": [],
      "source": [
        "start = time.perf_counter()\n",
        "hist = model_cnn.fit(x_train, y_train, batch_size=256, epochs=200, validation_data=(x_test, y_test), callbacks=[early_stopping])\n",
        "end = time.perf_counter()"
      ]
    },
    {
      "cell_type": "code",
      "execution_count": null,
      "metadata": {
        "id": "NxHE-DWkfVLW"
      },
      "outputs": [],
      "source": [
        "(end - start)/ 60"
      ]
    },
    {
      "cell_type": "code",
      "execution_count": null,
      "metadata": {
        "id": "4buFuPDafVLW"
      },
      "outputs": [],
      "source": [
        "acc_train = hist.history['accuracy']\n",
        "acc_test = hist.history['val_accuracy']\n",
        "loss_train = hist.history['loss']\n",
        "loss_test = hist.history['val_loss']\n",
        "\n",
        "plt.axes().set_facecolor('gray')\n",
        "plt.grid('True')\n",
        "\n",
        "\n",
        "plt.plot(loss_train, color='green', label='Train loss')\n",
        "plt.plot(loss_test, color='yellow', label='Test loss')\n",
        "plt.plot(acc_train, color='blue', label='Train acc')\n",
        "plt.plot(acc_test, color='red', label='Test acc')\n",
        "\n",
        "\n",
        "plt.show()"
      ]
    },
    {
      "cell_type": "code",
      "execution_count": null,
      "metadata": {
        "id": "shyaqqSGfVLW"
      },
      "outputs": [],
      "source": [
        "acc_train = hist.history['accuracy']\n",
        "acc_test = hist.history['val_accuracy']\n",
        "\n",
        "plt.axes().set_facecolor('gray')\n",
        "plt.grid('True')\n",
        "\n",
        "\n",
        "plt.plot(acc_train, color='blue', label='Train acc');\n",
        "plt.plot(acc_test, color='red', label='Test acc');\n"
      ]
    },
    {
      "cell_type": "code",
      "execution_count": null,
      "metadata": {
        "id": "vo3F6Ss0fVLW"
      },
      "outputs": [],
      "source": [
        "loss_train = hist.history['loss']\n",
        "loss_test = hist.history['val_loss']\n",
        "\n",
        "plt.axes().set_facecolor('gray')\n",
        "plt.grid('True')\n",
        "\n",
        "\n",
        "plt.plot(loss_train, color='blue', label='Train loss');\n",
        "plt.plot(loss_test, color='red', label='Test loss');\n",
        "\n"
      ]
    },
    {
      "cell_type": "code",
      "execution_count": null,
      "metadata": {
        "id": "2mL7GanLfVLX"
      },
      "outputs": [],
      "source": [
        "print(f'y_train: {y_train[index_train]} y_pred_train:{y_pred_train_smax[index_train]}')\n",
        "\n",
        "index_test = random.randint(0, 3948)\n",
        "print(f'y_test: {y_test[index_test]} y_pred_test:{y_pred_test_smax[index_test]}')"
      ]
    },
    {
      "cell_type": "code",
      "execution_count": null,
      "metadata": {
        "id": "-ryHffq7fVLX"
      },
      "outputs": [],
      "source": [
        "\n",
        "acc_train = accuracy_score(y_train, y_pred_train_smax)\n",
        "acc_test = accuracy_score(y_test, y_pred_test_smax)\n",
        "\n",
        "p = precision_score(y_test, y_pred_test_smax, average='micro')\n",
        "r = recall_score(y_test, y_pred_test_smax, average='micro')\n",
        "\n",
        "\n",
        "print(f'Acc Train: {acc_train} - Acc Test: {acc_test} - Percision: {p} - Recall: {r}')"
      ]
    },
    {
      "cell_type": "code",
      "execution_count": null,
      "metadata": {
        "id": "aByN9t4RfVLX"
      },
      "outputs": [],
      "source": [
        "model_cnn.evaluate(x=x_test, y=y_test)\n",
        "model_cnn.evaluate(x=x_train, y=y_train)"
      ]
    },
    {
      "cell_type": "code",
      "execution_count": null,
      "metadata": {
        "id": "5sWijBqefVLX"
      },
      "outputs": [],
      "source": [
        "cm_train = confusion_matrix(y_true=y_train, y_pred=y_pred_train_smax)\n",
        "disp_cm_train = ConfusionMatrixDisplay(cm_train)\n",
        "\n",
        "cm_train = cm_train.astype('float') / cm_train.sum(axis=1)[:, np.newaxis]\n",
        "disp_cm_train_perce = ConfusionMatrixDisplay(cm_train)\n",
        "\n",
        "\n",
        "fig , (ax1, ax2) = plt.subplots(1, 2, figsize=(10, 5))\n",
        "ax1.set_title('Values')\n",
        "ax2.set_title('Percentage')\n",
        "disp_cm_train.plot(ax=ax1);\n",
        "disp_cm_train_perce.plot(ax=ax2);"
      ]
    },
    {
      "cell_type": "code",
      "execution_count": null,
      "metadata": {
        "id": "e94Yw9qtfVLY"
      },
      "outputs": [],
      "source": [
        "cm_test = confusion_matrix(y_true=y_test, y_pred=y_pred_test_smax)\n",
        "disp_cm_test = ConfusionMatrixDisplay(cm_test)\n",
        "\n",
        "cm_test = cm_test.astype('float') / cm_test.sum(axis=1)[:, np.newaxis]\n",
        "disp_cm_test_perce = ConfusionMatrixDisplay(cm_test)\n",
        "\n",
        "\n",
        "fig , (ax1, ax2) = plt.subplots(1, 2, figsize=(10, 5))\n",
        "ax1.set_title('Values')\n",
        "ax2.set_title('Percentage')\n",
        "disp_cm_test.plot(ax=ax1);\n",
        "disp_cm_test_perce.plot(ax=ax2);"
      ]
    },
    {
      "cell_type": "code",
      "execution_count": null,
      "metadata": {
        "id": "j664Nkq4fVLY"
      },
      "outputs": [],
      "source": []
    }
  ],
  "metadata": {
    "accelerator": "GPU",
    "colab": {
      "collapsed_sections": [
        "MEr0GLZcQRiw",
        "VRuP0t80QNEW",
        "3sKp0QE8fVLM",
        "54B3uVoAQATm",
        "C_EYq2cD2S9o",
        "VlyWTML7fVLR",
        "qaga7tmlfVLT",
        "3javIkUqrHCu",
        "IUaWnZu7n2LV"
      ],
      "gpuType": "T4",
      "include_colab_link": true,
      "provenance": []
    },
    "kernelspec": {
      "display_name": "new_tf",
      "language": "python",
      "name": "python3"
    },
    "language_info": {
      "codemirror_mode": {
        "name": "ipython",
        "version": 3
      },
      "file_extension": ".py",
      "mimetype": "text/x-python",
      "name": "python",
      "nbconvert_exporter": "python",
      "pygments_lexer": "ipython3",
      "version": "3.9.19"
    }
  },
  "nbformat": 4,
  "nbformat_minor": 0
}
