{
 "cells": [
  {
   "cell_type": "code",
   "execution_count": null,
   "metadata": {
    "id": "at5bJWeFFBEv"
   },
   "outputs": [],
   "source": [
    "from imutils import paths\n",
    "import tensorflow as tf\n",
    "from tensorflow import keras\n",
    "import numpy as np\n",
    "import pandas as pd\n",
    "import matplotlib.pyplot as plt\n",
    "from collections import Counter\n",
    "from sklearn.model_selection import train_test_split\n",
    "import random"
   ]
  },
  {
   "cell_type": "code",
   "execution_count": null,
   "metadata": {},
   "outputs": [],
   "source": [
    "print(\"Num GPUs Available: \", len(tf.config.list_physical_devices('GPU')))"
   ]
  },
  {
   "cell_type": "code",
   "execution_count": null,
   "metadata": {},
   "outputs": [],
   "source": [
    "tf.config.list_physical_devices('GPU')"
   ]
  },
  {
   "cell_type": "markdown",
   "metadata": {},
   "source": [
    "#**Fetching**"
   ]
  },
  {
   "cell_type": "code",
   "execution_count": null,
   "metadata": {
    "colab": {
     "base_uri": "https://localhost:8080/"
    },
    "id": "5M1CL73yFqJd",
    "outputId": "196459b5-efd5-4c82-d3fe-307d9dcfb9f4"
   },
   "outputs": [],
   "source": [
    "# Reading FRI Images\n",
    "imagePaths = list(paths.list_images(r\"/media/gunner/5A300FFA300FDC3F/My Projects/Temp/Data-Mining/Dataset/FR0\"))\n",
    "\n",
    "data = []\n",
    "data_cropped = []\n",
    "labels = []\n",
    "label = 0\n",
    "counter_0 = 0\n",
    "\n",
    "for imagePath in imagePaths:\n",
    "  image = tf.io.read_file(imagePath)\n",
    "  image = tf.image.decode_image(image, channels=1)\n",
    "  data.append(image)\n",
    "  image = tf.image.crop_to_bounding_box(image, 124, 124, 50, 50)\n",
    "  data_cropped.append(image)\n",
    "  labels.append(label)\n",
    "  counter_0 += 1\n",
    "print(f'Loaded FR0... {counter_0} files has loaded.')"
   ]
  },
  {
   "cell_type": "code",
   "execution_count": null,
   "metadata": {
    "colab": {
     "base_uri": "https://localhost:8080/"
    },
    "id": "9NmnZ6cZjobL",
    "outputId": "11ef93bc-1237-41bc-b595-1c382c54d63a"
   },
   "outputs": [],
   "source": [
    "# Reading FRI Images\n",
    "imagePaths = list(paths.list_images(r\"/media/gunner/5A300FFA300FDC3F/My Projects/Temp/Data-Mining/Dataset/FRI\"))\n",
    "\n",
    "\n",
    "label = 1\n",
    "counter_1 = 0\n",
    "\n",
    "for imagePath in imagePaths:\n",
    "  image = tf.io.read_file(imagePath)\n",
    "  image = tf.image.decode_image(image, channels=1)\n",
    "  data.append(image)\n",
    "  image = tf.image.crop_to_bounding_box(image, 124, 124, 50, 50)\n",
    "  data_cropped.append(image)\n",
    "  labels.append(label)\n",
    "  counter_1 += 1\n",
    "print(f'Loaded FRI... {counter_1} files has loaded.')"
   ]
  },
  {
   "cell_type": "code",
   "execution_count": null,
   "metadata": {
    "colab": {
     "base_uri": "https://localhost:8080/"
    },
    "id": "Ni70OrxGP6CG",
    "outputId": "c29db458-124f-4459-f61e-0578e0806de0"
   },
   "outputs": [],
   "source": [
    "# Reading FRI Images\n",
    "imagePaths = list(paths.list_images(r\"/media/gunner/5A300FFA300FDC3F/My Projects/Temp/Data-Mining/Dataset/FRII\"))\n",
    "\n",
    "label = 2\n",
    "counter_2 = 0\n",
    "\n",
    "for imagePath in imagePaths:\n",
    "  image = tf.io.read_file(imagePath)\n",
    "  image = tf.image.decode_image(image, channels=1)\n",
    "  data.append(image)\n",
    "  image = tf.image.crop_to_bounding_box(image, 124, 124, 50, 50)\n",
    "  data_cropped.append(image)\n",
    "  labels.append(label)\n",
    "  counter_2 += 1\n",
    "print(f'Loaded FRII... {counter_2} files has loaded.')"
   ]
  },
  {
   "cell_type": "markdown",
   "metadata": {
    "id": "C_EYq2cD2S9o"
   },
   "source": [
    "#**EDA**"
   ]
  },
  {
   "cell_type": "code",
   "execution_count": null,
   "metadata": {
    "colab": {
     "base_uri": "https://localhost:8080/",
     "height": 472
    },
    "id": "WxXep8unzj8T",
    "outputId": "d1ae5a94-0faf-4130-ec04-b777a6a9daf5"
   },
   "outputs": [],
   "source": [
    "counter = Counter(labels)\n",
    "sorted_counts = dict(sorted(counter.items()))\n",
    "plt.bar(sorted_counts.keys(), sorted_counts.values(), color='skyblue')\n",
    "plt.xlabel('Class')\n",
    "plt.ylabel('Count')\n",
    "plt.title('Count of Each Class in the Dataset')\n",
    "plt.xticks(range(3))\n",
    "plt.show()"
   ]
  },
  {
   "cell_type": "code",
   "execution_count": 8,
   "metadata": {
    "id": "AgbTDA9wQEWw"
   },
   "outputs": [],
   "source": [
    "labels = np.array(labels,dtype='uint8')\n",
    "data = np.array(data,dtype='uint8')\n",
    "data_cropped = np.array(data_cropped,dtype='uint8')"
   ]
  },
  {
   "cell_type": "code",
   "execution_count": null,
   "metadata": {
    "colab": {
     "base_uri": "https://localhost:8080/",
     "height": 205
    },
    "id": "4l5LfN-uS8iz",
    "outputId": "fcd8e013-b734-4a25-c32b-3fbb4d15b40e"
   },
   "outputs": [],
   "source": [
    "image = np.squeeze(data[0])\n",
    "plt.subplot(1, 3, 1)\n",
    "plt.imshow(image, cmap='gray')\n",
    "plt.axis('off')\n",
    "plt.title(f\"Image at FR0\")\n",
    "\n",
    "image = np.squeeze(data[6066])\n",
    "plt.subplot(1, 3, 2)\n",
    "plt.imshow(image, cmap='gray')\n",
    "plt.axis('off')\n",
    "plt.title(f\"Image at FRI\")\n",
    "\n",
    "image = np.squeeze(data[11075])\n",
    "plt.subplot(1, 3, 3)\n",
    "plt.imshow(image, cmap='gray')\n",
    "plt.axis('off')\n",
    "plt.title(f\"Image at FRII\")\n",
    "\n",
    "\n",
    "plt.show()"
   ]
  },
  {
   "cell_type": "code",
   "execution_count": null,
   "metadata": {
    "colab": {
     "base_uri": "https://localhost:8080/",
     "height": 205
    },
    "id": "AwomotIWl0aV",
    "outputId": "850936fc-78fd-4f77-cafb-2842404953bd"
   },
   "outputs": [],
   "source": [
    "image = np.squeeze(data_cropped[0])\n",
    "plt.subplot(1, 3, 1)\n",
    "plt.imshow(image, cmap='gray')\n",
    "plt.axis('off')\n",
    "plt.title(f\"Image at FR0\")\n",
    "\n",
    "image = np.squeeze(data_cropped[6066])\n",
    "plt.subplot(1, 3, 2)\n",
    "plt.imshow(image, cmap='gray')\n",
    "plt.axis('off')\n",
    "plt.title(f\"Image at FRI\")\n",
    "\n",
    "image = np.squeeze(data_cropped[11075])\n",
    "plt.subplot(1, 3, 3)\n",
    "plt.imshow(image, cmap='gray')\n",
    "plt.axis('off')\n",
    "plt.title(f\"Image at FRII\")\n",
    "\n",
    "\n",
    "plt.show()"
   ]
  },
  {
   "cell_type": "code",
   "execution_count": null,
   "metadata": {},
   "outputs": [],
   "source": [
    "data.shape, data_cropped.shape"
   ]
  },
  {
   "cell_type": "code",
   "execution_count": null,
   "metadata": {
    "colab": {
     "base_uri": "https://localhost:8080/"
    },
    "id": "TFdup12Eh4El",
    "outputId": "f55e31f6-39a1-4abc-f222-a42e47a140a2"
   },
   "outputs": [],
   "source": [
    "np.min(data_cropped[0]), np.max(data_cropped[0])"
   ]
  },
  {
   "cell_type": "markdown",
   "metadata": {
    "id": "3javIkUqrHCu"
   },
   "source": [
    "#**Preprocessing**"
   ]
  },
  {
   "cell_type": "code",
   "execution_count": 13,
   "metadata": {
    "id": "zpeQhX80ruoD"
   },
   "outputs": [],
   "source": [
    "data_normalized = data_cropped / 255"
   ]
  },
  {
   "cell_type": "code",
   "execution_count": null,
   "metadata": {
    "colab": {
     "base_uri": "https://localhost:8080/"
    },
    "id": "5FNEuTr7r3vt",
    "outputId": "2b6030e1-9a1c-487a-e49f-1c972fd03314"
   },
   "outputs": [],
   "source": [
    "print(f'Min of original = {np.min(data_cropped[0])}')\n",
    "print(f'Max of original = {np.max(data_cropped[0])}')\n",
    "print(f'Min of original = {np.min(data_normalized[0])}')\n",
    "print(f'Max of original = {np.max(data_normalized[0])}')"
   ]
  },
  {
   "cell_type": "code",
   "execution_count": null,
   "metadata": {
    "colab": {
     "base_uri": "https://localhost:8080/",
     "height": 507
    },
    "id": "ctW2qI2Wwov1",
    "outputId": "80bf6a8c-7ce4-4e0a-c50a-607f825fa5a2"
   },
   "outputs": [],
   "source": [
    "cropped_flat = data_cropped.flatten()\n",
    "normalized_flat = data_normalized.flatten()\n",
    "\n",
    "plt.figure(figsize=(10, 5))\n",
    "\n",
    "plt.subplot(1, 2, 1)\n",
    "plt.boxplot(cropped_flat)\n",
    "plt.title(\"Original Pixel Values (0-255)\")\n",
    "plt.ylabel(\"Pixel Intensity\")\n",
    "\n",
    "plt.subplot(1, 2, 2)\n",
    "plt.boxplot(normalized_flat)\n",
    "plt.title(\"Normalized Pixel Values (0-1)\")\n",
    "plt.ylabel(\"Pixel Intensity\")\n",
    "\n",
    "plt.tight_layout()\n",
    "plt.show()"
   ]
  },
  {
   "cell_type": "markdown",
   "metadata": {
    "id": "IUaWnZu7n2LV"
   },
   "source": [
    "#**Splitting**"
   ]
  },
  {
   "cell_type": "code",
   "execution_count": null,
   "metadata": {
    "colab": {
     "base_uri": "https://localhost:8080/"
    },
    "id": "wo4aF9gKm17L",
    "outputId": "35d329ea-7127-49a8-b15b-45797487450d"
   },
   "outputs": [],
   "source": [
    "x = data_normalized\n",
    "y = labels\n",
    "x_train, x_test, y_train, y_test = train_test_split(x, y, test_size=0.3)\n",
    "\n",
    "x_train.shape, y_train.shape, x_test.shape, y_test.shape"
   ]
  },
  {
   "cell_type": "markdown",
   "metadata": {},
   "source": [
    "#**Model definition**"
   ]
  },
  {
   "cell_type": "code",
   "execution_count": 17,
   "metadata": {
    "id": "deVyf-K-2d2r"
   },
   "outputs": [],
   "source": [
    "model = keras.Sequential()\n",
    "model.add(keras.layers.Flatten())\n",
    "model.add(keras.layers.Dense(units=64, activation='relu'))\n",
    "model.add(keras.layers.Dense(units=64, activation='relu'))\n",
    "model.add(keras.layers.Dense(units=64, activation='relu'))\n",
    "model.add(keras.layers.Dense(units=64, activation='relu'))\n",
    "model.add(keras.layers.Dense(units=64, activation='relu'))\n",
    "model.add(keras.layers.Dense(units=32, activation='relu'))\n",
    "\n",
    "model.add(keras.layers.Dense(units=3, activation=keras.activations.softmax))"
   ]
  },
  {
   "cell_type": "code",
   "execution_count": 18,
   "metadata": {
    "id": "1dYkFhTg5QF7"
   },
   "outputs": [],
   "source": [
    "optimizer = keras.optimizers.Adam()\n",
    "loss = keras.losses.SparseCategoricalCrossentropy()\n",
    "metric = keras.metrics.CategoricalAccuracy()\n",
    "\n",
    "model.compile(optimizer=optimizer, loss=loss, metrics=['accuracy'])"
   ]
  },
  {
   "cell_type": "code",
   "execution_count": null,
   "metadata": {
    "colab": {
     "base_uri": "https://localhost:8080/",
     "height": 289
    },
    "id": "QtNV0W8m5uqE",
    "outputId": "7f5d9e36-2632-41e7-ce1a-84fca3148db1"
   },
   "outputs": [],
   "source": [
    "model.build(input_shape=(None, 50, 50))\n",
    "model.summary()"
   ]
  },
  {
   "cell_type": "code",
   "execution_count": null,
   "metadata": {
    "colab": {
     "base_uri": "https://localhost:8080/",
     "height": 1000
    },
    "id": "_ruBY4as6Kj7",
    "outputId": "c402ff72-9937-48fc-fd4c-262d41b7a1af"
   },
   "outputs": [],
   "source": [
    "hist = model.fit(x_train, y_train, batch_size=32, epochs=20, validation_data=(x_test, y_test))"
   ]
  },
  {
   "cell_type": "code",
   "execution_count": null,
   "metadata": {
    "id": "ZRqQ-fgq_uO_"
   },
   "outputs": [],
   "source": [
    "plt.axes().set_facecolor('gray')\n",
    "plt.grid('True')\n",
    "\n",
    "loss = hist.history['loss']\n",
    "val_loss = hist.history['val_loss']\n",
    "plt.plot(loss, color='green')\n",
    "plt.plot(val_loss, color='yellow')\n",
    "\n",
    "acc_train = hist.history['accuracy']\n",
    "val_acc_test = hist.history['val_accuracy']\n",
    "plt.plot(acc_train, color='blue')\n",
    "plt.plot(val_acc_test, color='red')\n",
    "\n",
    "\n",
    "\n",
    "plt.show()\n"
   ]
  },
  {
   "cell_type": "code",
   "execution_count": null,
   "metadata": {},
   "outputs": [],
   "source": [
    "y_pred_train = model.predict(x_train)\n",
    "y_pred_test = model.predict(x_test)\n",
    "\n",
    "index_train = random.randint(0, 9198)\n",
    "print(f'y_train: {y_train[index_train]} y_pred_train:{y_pred_train[index_train]}')\n",
    "\n",
    "index_test = random.randint(0, 3948)\n",
    "print(f'y_test: {y_test[index_test]} y_pred_test:{y_pred_test[index_test]}')"
   ]
  },
  {
   "cell_type": "markdown",
   "metadata": {},
   "source": [
    "#**CNN**"
   ]
  },
  {
   "cell_type": "code",
   "execution_count": null,
   "metadata": {},
   "outputs": [],
   "source": [
    "model_cnn = keras.Sequential()\n",
    "model_cnn.add(keras.layers.Conv2D(128, kernel_size=(5,5), strides=(1, 1),padding='valid', activation='relu', input_shape=(50, 50, 1)))\n",
    "model_cnn.add(keras.layers.MaxPool2D(pool_size=(2, 2)))\n",
    "model_cnn.add(keras.layers.Conv2D(128, kernel_size=(3,3), strides=(1, 1),padding='valid', activation='relu'))\n",
    "model_cnn.add(keras.layers.MaxPooling2D(pool_size=(2, 2)))\n",
    "model_cnn.add(keras.layers.Conv2D(128, kernel_size=(3,3), strides=(1, 1),padding='valid', activation='relu'))\n",
    "model_cnn.add(keras.layers.MaxPool2D(pool_size=(2, 2)))\n",
    "model_cnn.add(keras.layers.Conv2D(64, kernel_size=(3,3), strides=(1, 1),padding='valid', activation='relu'))\n",
    "model_cnn.add(keras.layers.AveragePooling2D(pool_size=(2, 2)))\n",
    "model_cnn.add(keras.layers.Conv2D(64, kernel_size=(3,3), strides=(1, 1),padding='same', activation='relu'))\n",
    "model_cnn.add(keras.layers.Conv2D(64, kernel_size=(3,3), strides=(1, 1),padding='same', activation='relu'))\n",
    "\n",
    "model_cnn.add(keras.layers.Flatten())\n",
    "model_cnn.add(keras.layers.Dense(units=256, activation='relu'))\n",
    "model_cnn.add(keras.layers.Dense(units=128, activation='relu'))\n",
    "model_cnn.add(keras.layers.Dense(units=64, activation='relu'))\n",
    "model_cnn.add(keras.layers.Dense(units=32, activation='relu'))\n",
    "\n",
    "model_cnn.add(keras.layers.Dense(units=3, activation=keras.activations.softmax))\n",
    "\n",
    "\n",
    "#Model Compiling\n",
    "optimizer = keras.optimizers.Adam()\n",
    "loss = keras.losses.SparseCategoricalCrossentropy()\n",
    "metric = [keras.metrics.CategoricalAccuracy()]\n",
    "\n",
    "model_cnn.compile(optimizer=optimizer, loss=loss, metrics=['accuracy'])\n",
    "\n",
    "\n",
    "#Builing and Summury\n",
    "model_cnn.build(input_shape=(None, 50, 50))\n",
    "model_cnn.summary()"
   ]
  },
  {
   "cell_type": "code",
   "execution_count": null,
   "metadata": {},
   "outputs": [],
   "source": [
    "hist = model_cnn.fit(x_train, y_train, batch_size=64, epochs=20, validation_data=(x_test, y_test))"
   ]
  },
  {
   "cell_type": "code",
   "execution_count": null,
   "metadata": {},
   "outputs": [],
   "source": [
    "acc_train = hist.history['accuracy']\n",
    "acc_test = hist.history['val_accuracy']\n",
    "loss_train = hist.history['loss']\n",
    "loss_test = hist.history['val_loss']\n",
    "\n",
    "plt.axes().set_facecolor('gray')\n",
    "plt.grid('True')\n",
    "\n",
    "\n",
    "plt.plot(loss_train, color='green', label='Train loss')\n",
    "plt.plot(loss_test, color='yellow', label='Test loss')\n",
    "plt.plot(acc_train, color='blue', label='Train acc')\n",
    "plt.plot(acc_test, color='red', label='Test acc')\n",
    "\n",
    "\n",
    "plt.show()"
   ]
  },
  {
   "cell_type": "code",
   "execution_count": null,
   "metadata": {},
   "outputs": [],
   "source": [
    "y_pred_train = model_cnn.predict(x_train)\n",
    "y_pred_test = model_cnn.predict(x_test)\n",
    "\n",
    "\n",
    "index_train = random.randint(0, 9198)\n",
    "print(f'y_train: {y_train[index_train]} y_pred_train:{y_pred_train[index_train]}')\n",
    "\n",
    "index_test = random.randint(0, 3942)\n",
    "print(f'y_test: {y_test[index_test]} y_pred_test:{y_pred_test[index_test]}')\n"
   ]
  },
  {
   "cell_type": "code",
   "execution_count": null,
   "metadata": {},
   "outputs": [],
   "source": [
    "type(y_pred_test), y_pred_test.shape, type(y_pred_train), y_pred_train.shape"
   ]
  },
  {
   "cell_type": "code",
   "execution_count": 30,
   "metadata": {},
   "outputs": [],
   "source": [
    "def softmax(x):\n",
    "    ex = np.exp(x - np.max(x, axis=1, keepdims=True))\n",
    "    return ex\n",
    "    "
   ]
  },
  {
   "cell_type": "code",
   "execution_count": 31,
   "metadata": {},
   "outputs": [],
   "source": [
    "soft_y_train = softmax(y_pred_train)\n",
    "y_pred_label_train = np.argmax(soft_y_train, axis=1)\n",
    "y_pred_label_train = y_pred_label_train.reshape(-1,1)\n",
    "\n",
    "soft_y_test = softmax(y_pred_test)\n",
    "y_pred_label_test = np.argmax(soft_y_test, axis=1)\n",
    "y_pred_label_test = y_pred_label_test.reshape(-1,1)"
   ]
  },
  {
   "cell_type": "markdown",
   "metadata": {},
   "source": [
    "#**CNN by BatchNorm**"
   ]
  },
  {
   "cell_type": "code",
   "execution_count": null,
   "metadata": {},
   "outputs": [],
   "source": [
    "model_cnn_batch = keras.Sequential()\n",
    "\n",
    "#Conv2D + BatchNorm + Activation\n",
    "model_cnn_batch.add(keras.layers.Conv2D(128, kernel_size=(3,3), strides=(1, 1),padding='valid', input_shape=(50, 50, 1)))\n",
    "model_cnn_batch.add(keras.layers.BatchNormalization())\n",
    "model_cnn_batch.add(keras.layers.Activation('relu'))\n",
    "\n",
    "#Maxpooling\n",
    "model_cnn_batch.add(keras.layers.MaxPool2D(pool_size=(2, 2)))\n",
    "\n",
    "\n",
    "#Conv2D + BatchNorm + Activation\n",
    "model_cnn_batch.add(keras.layers.Conv2D(128, kernel_size=(3,3), strides=(1, 1),padding='valid', input_shape=(50, 50, 1)))\n",
    "model_cnn_batch.add(keras.layers.BatchNormalization())\n",
    "model_cnn_batch.add(keras.layers.Activation('relu'))\n",
    "\n",
    "#Maxpooling\n",
    "model_cnn_batch.add(keras.layers.MaxPool2D(pool_size=(2, 2)))\n",
    "\n",
    "\n",
    "#Conv2D + BatchNorm + Activation\n",
    "model_cnn_batch.add(keras.layers.Conv2D(128, kernel_size=(3,3), strides=(1, 1),padding='valid', input_shape=(50, 50, 1)))\n",
    "model_cnn_batch.add(keras.layers.BatchNormalization())\n",
    "model_cnn_batch.add(keras.layers.Activation('relu'))\n",
    "\n",
    "#Maxpooling\n",
    "model_cnn_batch.add(keras.layers.MaxPool2D(pool_size=(2, 2)))\n",
    "\n",
    "\n",
    "#Flatten\n",
    "model_cnn_batch.add(keras.layers.Flatten())\n",
    "model_cnn_batch.add(keras.layers.Dense(units=256, activation='relu'))\n",
    "\n",
    "model_cnn_batch.add(keras.layers.Dense(units=3, activation=keras.activations.softmax))\n",
    "\n",
    "\n",
    "#Model Compiling\n",
    "optimizer = keras.optimizers.Adam()\n",
    "loss = keras.losses.SparseCategoricalCrossentropy()\n",
    "metric = [keras.metrics.CategoricalAccuracy()]\n",
    "\n",
    "model_cnn_batch.compile(optimizer=optimizer, loss=loss, metrics=['accuracy'])\n",
    "\n",
    "\n",
    "#Builing and Summury\n",
    "model_cnn_batch.build(input_shape=(None, 50, 50))\n",
    "model_cnn_batch.summary()"
   ]
  },
  {
   "cell_type": "code",
   "execution_count": null,
   "metadata": {},
   "outputs": [],
   "source": [
    "hist = model_cnn_batch.fit(x_train, y_train, batch_size=64, epochs=20, validation_data=(x_test, y_test))"
   ]
  },
  {
   "cell_type": "code",
   "execution_count": null,
   "metadata": {},
   "outputs": [],
   "source": [
    "acc_train = hist.history['accuracy']\n",
    "acc_test = hist.history['val_accuracy']\n",
    "loss_train = hist.history['loss']\n",
    "loss_test = hist.history['val_loss']\n",
    "\n",
    "plt.axes().set_facecolor('gray')\n",
    "plt.grid('True')\n",
    "\n",
    "\n",
    "plt.plot(loss_train, color='green', label='Train loss')\n",
    "plt.plot(loss_test, color='yellow', label='Test loss')\n",
    "plt.plot(acc_train, color='blue', label='Train acc')\n",
    "plt.plot(acc_test, color='red', label='Test acc')\n",
    "\n",
    "\n",
    "plt.show()"
   ]
  }
 ],
 "metadata": {
  "accelerator": "GPU",
  "colab": {
   "authorship_tag": "ABX9TyMILrhyJbl2A1zW9T13EV/J",
   "gpuType": "T4",
   "include_colab_link": true,
   "provenance": []
  },
  "kernelspec": {
   "display_name": "Python 3 (ipykernel)",
   "language": "python",
   "name": "python3"
  },
  "language_info": {
   "codemirror_mode": {
    "name": "ipython",
    "version": 3
   },
   "file_extension": ".py",
   "mimetype": "text/x-python",
   "name": "python",
   "nbconvert_exporter": "python",
   "pygments_lexer": "ipython3",
   "version": "3.9.19"
  }
 },
 "nbformat": 4,
 "nbformat_minor": 1
}
