{
  "cells": [
    {
      "cell_type": "code",
      "execution_count": 1,
      "metadata": {
        "id": "at5bJWeFFBEv"
      },
      "outputs": [
        {
          "name": "stderr",
          "output_type": "stream",
          "text": [
            "2024-09-06 20:15:51.782732: I tensorflow/stream_executor/platform/default/dso_loader.cc:49] Successfully opened dynamic library libcudart.so.10.1\n"
          ]
        }
      ],
      "source": [
        "from imutils import paths\n",
        "import tensorflow as tf\n",
        "from tensorflow import keras\n",
        "import numpy as np\n",
        "import pandas as pd\n",
        "import matplotlib.pyplot as plt\n",
        "from collections import Counter\n",
        "from sklearn.model_selection import train_test_split\n",
        "import random"
      ]
    },
    {
      "cell_type": "code",
      "execution_count": 2,
      "metadata": {},
      "outputs": [
        {
          "name": "stdout",
          "output_type": "stream",
          "text": [
            "Num GPUs Available:  1\n"
          ]
        },
        {
          "name": "stderr",
          "output_type": "stream",
          "text": [
            "2024-09-06 20:15:53.450522: I tensorflow/compiler/jit/xla_cpu_device.cc:41] Not creating XLA devices, tf_xla_enable_xla_devices not set\n"
          ]
        }
      ],
      "source": [
        "print(\"Num GPUs Available: \", len(tf.config.list_physical_devices('GPU')))"
      ]
    },
    {
      "cell_type": "code",
      "execution_count": 3,
      "metadata": {},
      "outputs": [
        {
          "name": "stderr",
          "output_type": "stream",
          "text": [
            "2024-09-06 20:15:53.451733: I tensorflow/stream_executor/platform/default/dso_loader.cc:49] Successfully opened dynamic library libcuda.so.1\n",
            "2024-09-06 20:15:53.468490: I tensorflow/stream_executor/cuda/cuda_gpu_executor.cc:941] successful NUMA node read from SysFS had negative value (-1), but there must be at least one NUMA node, so returning NUMA node zero\n",
            "2024-09-06 20:15:53.468616: I tensorflow/core/common_runtime/gpu/gpu_device.cc:1720] Found device 0 with properties: \n",
            "pciBusID: 0000:01:00.0 name: Quadro P2000 computeCapability: 6.1\n",
            "coreClock: 1.607GHz coreCount: 6 deviceMemorySize: 3.94GiB deviceMemoryBandwidth: 89.53GiB/s\n",
            "2024-09-06 20:15:53.468635: I tensorflow/stream_executor/platform/default/dso_loader.cc:49] Successfully opened dynamic library libcudart.so.10.1\n",
            "2024-09-06 20:15:53.470245: I tensorflow/stream_executor/platform/default/dso_loader.cc:49] Successfully opened dynamic library libcublas.so.10\n",
            "2024-09-06 20:15:53.470286: I tensorflow/stream_executor/platform/default/dso_loader.cc:49] Successfully opened dynamic library libcublasLt.so.10\n",
            "2024-09-06 20:15:53.471611: I tensorflow/stream_executor/platform/default/dso_loader.cc:49] Successfully opened dynamic library libcufft.so.10\n",
            "2024-09-06 20:15:53.471856: I tensorflow/stream_executor/platform/default/dso_loader.cc:49] Successfully opened dynamic library libcurand.so.10\n",
            "2024-09-06 20:15:53.473510: I tensorflow/stream_executor/platform/default/dso_loader.cc:49] Successfully opened dynamic library libcusolver.so.10\n",
            "2024-09-06 20:15:53.474446: I tensorflow/stream_executor/platform/default/dso_loader.cc:49] Successfully opened dynamic library libcusparse.so.10\n",
            "2024-09-06 20:15:53.477976: I tensorflow/stream_executor/platform/default/dso_loader.cc:49] Successfully opened dynamic library libcudnn.so.7\n",
            "2024-09-06 20:15:53.478141: I tensorflow/stream_executor/cuda/cuda_gpu_executor.cc:941] successful NUMA node read from SysFS had negative value (-1), but there must be at least one NUMA node, so returning NUMA node zero\n",
            "2024-09-06 20:15:53.478368: I tensorflow/stream_executor/cuda/cuda_gpu_executor.cc:941] successful NUMA node read from SysFS had negative value (-1), but there must be at least one NUMA node, so returning NUMA node zero\n",
            "2024-09-06 20:15:53.478458: I tensorflow/core/common_runtime/gpu/gpu_device.cc:1862] Adding visible gpu devices: 0\n"
          ]
        },
        {
          "data": {
            "text/plain": [
              "[PhysicalDevice(name='/physical_device:GPU:0', device_type='GPU')]"
            ]
          },
          "execution_count": 3,
          "metadata": {},
          "output_type": "execute_result"
        }
      ],
      "source": [
        "tf.config.list_physical_devices('GPU')"
      ]
    },
    {
      "cell_type": "markdown",
      "metadata": {},
      "source": [
        "#**Fetching**"
      ]
    },
    {
      "cell_type": "code",
      "execution_count": 4,
      "metadata": {
        "colab": {
          "base_uri": "https://localhost:8080/"
        },
        "id": "5M1CL73yFqJd",
        "outputId": "196459b5-efd5-4c82-d3fe-307d9dcfb9f4"
      },
      "outputs": [
        {
          "name": "stderr",
          "output_type": "stream",
          "text": [
            "2024-09-06 20:15:53.519298: I tensorflow/core/platform/cpu_feature_guard.cc:142] This TensorFlow binary is optimized with oneAPI Deep Neural Network Library (oneDNN) to use the following CPU instructions in performance-critical operations:  SSE4.1 SSE4.2 AVX AVX2 FMA\n",
            "To enable them in other operations, rebuild TensorFlow with the appropriate compiler flags.\n",
            "2024-09-06 20:15:53.520460: I tensorflow/compiler/jit/xla_gpu_device.cc:99] Not creating XLA devices, tf_xla_enable_xla_devices not set\n",
            "2024-09-06 20:15:53.520864: I tensorflow/stream_executor/cuda/cuda_gpu_executor.cc:941] successful NUMA node read from SysFS had negative value (-1), but there must be at least one NUMA node, so returning NUMA node zero\n",
            "2024-09-06 20:15:53.521044: I tensorflow/core/common_runtime/gpu/gpu_device.cc:1720] Found device 0 with properties: \n",
            "pciBusID: 0000:01:00.0 name: Quadro P2000 computeCapability: 6.1\n",
            "coreClock: 1.607GHz coreCount: 6 deviceMemorySize: 3.94GiB deviceMemoryBandwidth: 89.53GiB/s\n",
            "2024-09-06 20:15:53.521094: I tensorflow/stream_executor/platform/default/dso_loader.cc:49] Successfully opened dynamic library libcudart.so.10.1\n",
            "2024-09-06 20:15:53.521156: I tensorflow/stream_executor/platform/default/dso_loader.cc:49] Successfully opened dynamic library libcublas.so.10\n",
            "2024-09-06 20:15:53.521204: I tensorflow/stream_executor/platform/default/dso_loader.cc:49] Successfully opened dynamic library libcublasLt.so.10\n",
            "2024-09-06 20:15:53.521230: I tensorflow/stream_executor/platform/default/dso_loader.cc:49] Successfully opened dynamic library libcufft.so.10\n",
            "2024-09-06 20:15:53.521251: I tensorflow/stream_executor/platform/default/dso_loader.cc:49] Successfully opened dynamic library libcurand.so.10\n",
            "2024-09-06 20:15:53.521272: I tensorflow/stream_executor/platform/default/dso_loader.cc:49] Successfully opened dynamic library libcusolver.so.10\n",
            "2024-09-06 20:15:53.521293: I tensorflow/stream_executor/platform/default/dso_loader.cc:49] Successfully opened dynamic library libcusparse.so.10\n",
            "2024-09-06 20:15:53.521314: I tensorflow/stream_executor/platform/default/dso_loader.cc:49] Successfully opened dynamic library libcudnn.so.7\n",
            "2024-09-06 20:15:53.521454: I tensorflow/stream_executor/cuda/cuda_gpu_executor.cc:941] successful NUMA node read from SysFS had negative value (-1), but there must be at least one NUMA node, so returning NUMA node zero\n",
            "2024-09-06 20:15:53.521654: I tensorflow/stream_executor/cuda/cuda_gpu_executor.cc:941] successful NUMA node read from SysFS had negative value (-1), but there must be at least one NUMA node, so returning NUMA node zero\n",
            "2024-09-06 20:15:53.521774: I tensorflow/core/common_runtime/gpu/gpu_device.cc:1862] Adding visible gpu devices: 0\n",
            "2024-09-06 20:15:53.521812: I tensorflow/stream_executor/platform/default/dso_loader.cc:49] Successfully opened dynamic library libcudart.so.10.1\n",
            "2024-09-06 20:15:53.966655: I tensorflow/core/common_runtime/gpu/gpu_device.cc:1261] Device interconnect StreamExecutor with strength 1 edge matrix:\n",
            "2024-09-06 20:15:53.966685: I tensorflow/core/common_runtime/gpu/gpu_device.cc:1267]      0 \n",
            "2024-09-06 20:15:53.966691: I tensorflow/core/common_runtime/gpu/gpu_device.cc:1280] 0:   N \n",
            "2024-09-06 20:15:53.966896: I tensorflow/stream_executor/cuda/cuda_gpu_executor.cc:941] successful NUMA node read from SysFS had negative value (-1), but there must be at least one NUMA node, so returning NUMA node zero\n",
            "2024-09-06 20:15:53.967078: I tensorflow/stream_executor/cuda/cuda_gpu_executor.cc:941] successful NUMA node read from SysFS had negative value (-1), but there must be at least one NUMA node, so returning NUMA node zero\n",
            "2024-09-06 20:15:53.967215: I tensorflow/stream_executor/cuda/cuda_gpu_executor.cc:941] successful NUMA node read from SysFS had negative value (-1), but there must be at least one NUMA node, so returning NUMA node zero\n",
            "2024-09-06 20:15:53.967313: I tensorflow/core/common_runtime/gpu/gpu_device.cc:1406] Created TensorFlow device (/job:localhost/replica:0/task:0/device:GPU:0 with 3577 MB memory) -> physical GPU (device: 0, name: Quadro P2000, pci bus id: 0000:01:00.0, compute capability: 6.1)\n"
          ]
        },
        {
          "name": "stdout",
          "output_type": "stream",
          "text": [
            "Loaded FR0... 6066 files has loaded.\n"
          ]
        }
      ],
      "source": [
        "# Reading FRI Images\n",
        "imagePaths = list(paths.list_images(r\"/media/gunner/5A300FFA300FDC3F/My Projects/Temp/Data-Mining/Dataset/FR0\"))\n",
        "\n",
        "data = []\n",
        "data_cropped = []\n",
        "labels = []\n",
        "label = 0\n",
        "counter_0 = 0\n",
        "\n",
        "for imagePath in imagePaths:\n",
        "  image = tf.io.read_file(imagePath)\n",
        "  image = tf.image.decode_image(image, channels=1)\n",
        "  data.append(image)\n",
        "  image = tf.image.crop_to_bounding_box(image, 124, 124, 50, 50)\n",
        "  data_cropped.append(image)\n",
        "  labels.append(label)\n",
        "  counter_0 += 1\n",
        "print(f'Loaded FR0... {counter_0} files has loaded.')"
      ]
    },
    {
      "cell_type": "code",
      "execution_count": 5,
      "metadata": {
        "colab": {
          "base_uri": "https://localhost:8080/"
        },
        "id": "9NmnZ6cZjobL",
        "outputId": "11ef93bc-1237-41bc-b595-1c382c54d63a"
      },
      "outputs": [
        {
          "name": "stdout",
          "output_type": "stream",
          "text": [
            "Loaded FRI... 5008 files has loaded.\n"
          ]
        }
      ],
      "source": [
        "# Reading FRI Images\n",
        "imagePaths = list(paths.list_images(r\"/media/gunner/5A300FFA300FDC3F/My Projects/Temp/Data-Mining/Dataset/FRI\"))\n",
        "\n",
        "\n",
        "label = 1\n",
        "counter_1 = 0\n",
        "\n",
        "for imagePath in imagePaths:\n",
        "  image = tf.io.read_file(imagePath)\n",
        "  image = tf.image.decode_image(image, channels=1)\n",
        "  data.append(image)\n",
        "  image = tf.image.crop_to_bounding_box(image, 124, 124, 50, 50)\n",
        "  data_cropped.append(image)\n",
        "  labels.append(label)\n",
        "  counter_1 += 1\n",
        "print(f'Loaded FRI... {counter_1} files has loaded.')"
      ]
    },
    {
      "cell_type": "code",
      "execution_count": 6,
      "metadata": {
        "colab": {
          "base_uri": "https://localhost:8080/"
        },
        "id": "Ni70OrxGP6CG",
        "outputId": "c29db458-124f-4459-f61e-0578e0806de0"
      },
      "outputs": [
        {
          "name": "stdout",
          "output_type": "stream",
          "text": [
            "Loaded FRII... 2066 files has loaded.\n"
          ]
        }
      ],
      "source": [
        "# Reading FRI Images\n",
        "imagePaths = list(paths.list_images(r\"/media/gunner/5A300FFA300FDC3F/My Projects/Temp/Data-Mining/Dataset/FRII\"))\n",
        "\n",
        "label = 2\n",
        "counter_2 = 0\n",
        "\n",
        "for imagePath in imagePaths:\n",
        "  image = tf.io.read_file(imagePath)\n",
        "  image = tf.image.decode_image(image, channels=1)\n",
        "  data.append(image)\n",
        "  image = tf.image.crop_to_bounding_box(image, 124, 124, 50, 50)\n",
        "  data_cropped.append(image)\n",
        "  labels.append(label)\n",
        "  counter_2 += 1\n",
        "print(f'Loaded FRII... {counter_2} files has loaded.')"
      ]
    },
    {
      "cell_type": "markdown",
      "metadata": {
        "id": "C_EYq2cD2S9o"
      },
      "source": [
        "#**EDA**"
      ]
    },
    {
      "cell_type": "code",
      "execution_count": 7,
      "metadata": {
        "colab": {
          "base_uri": "https://localhost:8080/",
          "height": 472
        },
        "id": "WxXep8unzj8T",
        "outputId": "d1ae5a94-0faf-4130-ec04-b777a6a9daf5"
      },
      "outputs": [
        {
          "data": {
            "image/png": "[encoded data removed]",
            "text/plain": [
              "<Figure size 640x480 with 1 Axes>"
            ]
          },
          "metadata": {},
          "output_type": "display_data"
        }
      ],
      "source": [
        "counter = Counter(labels)\n",
        "sorted_counts = dict(sorted(counter.items()))\n",
        "plt.bar(sorted_counts.keys(), sorted_counts.values(), color='skyblue')\n",
        "plt.xlabel('Class')\n",
        "plt.ylabel('Count')\n",
        "plt.title('Count of Each Class in the Dataset')\n",
        "plt.xticks(range(3))\n",
        "plt.show()"
      ]
    },
    {
      "cell_type": "code",
      "execution_count": 8,
      "metadata": {
        "id": "AgbTDA9wQEWw"
      },
      "outputs": [],
      "source": [
        "labels = np.array(labels,dtype='uint8')\n",
        "data = np.array(data,dtype='uint8')\n",
        "data_cropped = np.array(data_cropped,dtype='uint8')"
      ]
    },
    {
      "cell_type": "code",
      "execution_count": 9,
      "metadata": {
        "colab": {
          "base_uri": "https://localhost:8080/",
          "height": 205
        },
        "id": "4l5LfN-uS8iz",
        "outputId": "fcd8e013-b734-4a25-c32b-3fbb4d15b40e"
      },
      "outputs": [
        {
          "data": {
            "image/png": "[encoded data removed]",
            "text/plain": [
              "<Figure size 640x480 with 3 Axes>"
            ]
          },
          "metadata": {},
          "output_type": "display_data"
        }
      ],
      "source": [
        "image = np.squeeze(data[0])\n",
        "plt.subplot(1, 3, 1)\n",
        "plt.imshow(image, cmap='gray')\n",
        "plt.axis('off')\n",
        "plt.title(f\"Image at FR0\")\n",
        "\n",
        "image = np.squeeze(data[6066])\n",
        "plt.subplot(1, 3, 2)\n",
        "plt.imshow(image, cmap='gray')\n",
        "plt.axis('off')\n",
        "plt.title(f\"Image at FRI\")\n",
        "\n",
        "image = np.squeeze(data[11075])\n",
        "plt.subplot(1, 3, 3)\n",
        "plt.imshow(image, cmap='gray')\n",
        "plt.axis('off')\n",
        "plt.title(f\"Image at FRII\")\n",
        "\n",
        "\n",
        "plt.show()"
      ]
    },
    {
      "cell_type": "code",
      "execution_count": 10,
      "metadata": {
        "colab": {
          "base_uri": "https://localhost:8080/",
          "height": 205
        },
        "id": "AwomotIWl0aV",
        "outputId": "850936fc-78fd-4f77-cafb-2842404953bd"
      },
      "outputs": [
        {
          "data": {
            "image/png": "[encoded data removed]",
            "text/plain": [
              "<Figure size 640x480 with 3 Axes>"
            ]
          },
          "metadata": {},
          "output_type": "display_data"
        }
      ],
      "source": [
        "image = np.squeeze(data_cropped[0])\n",
        "plt.subplot(1, 3, 1)\n",
        "plt.imshow(image, cmap='gray')\n",
        "plt.axis('off')\n",
        "plt.title(f\"Image at FR0\")\n",
        "\n",
        "image = np.squeeze(data_cropped[6066])\n",
        "plt.subplot(1, 3, 2)\n",
        "plt.imshow(image, cmap='gray')\n",
        "plt.axis('off')\n",
        "plt.title(f\"Image at FRI\")\n",
        "\n",
        "image = np.squeeze(data_cropped[11075])\n",
        "plt.subplot(1, 3, 3)\n",
        "plt.imshow(image, cmap='gray')\n",
        "plt.axis('off')\n",
        "plt.title(f\"Image at FRII\")\n",
        "\n",
        "\n",
        "plt.show()"
      ]
    },
    {
      "cell_type": "code",
      "execution_count": 11,
      "metadata": {},
      "outputs": [
        {
          "data": {
            "text/plain": [
              "((13140, 300, 300, 1), (13140, 50, 50, 1))"
            ]
          },
          "execution_count": 11,
          "metadata": {},
          "output_type": "execute_result"
        }
      ],
      "source": [
        "data.shape, data_cropped.shape"
      ]
    },
    {
      "cell_type": "code",
      "execution_count": 12,
      "metadata": {
        "colab": {
          "base_uri": "https://localhost:8080/"
        },
        "id": "TFdup12Eh4El",
        "outputId": "f55e31f6-39a1-4abc-f222-a42e47a140a2"
      },
      "outputs": [
        {
          "data": {
            "text/plain": [
              "(0, 248)"
            ]
          },
          "execution_count": 12,
          "metadata": {},
          "output_type": "execute_result"
        }
      ],
      "source": [
        "np.min(data_cropped[0]), np.max(data_cropped[0])"
      ]
    },
    {
      "cell_type": "markdown",
      "metadata": {
        "id": "3javIkUqrHCu"
      },
      "source": [
        "#**Preprocessing**"
      ]
    },
    {
      "cell_type": "code",
      "execution_count": 13,
      "metadata": {
        "id": "zpeQhX80ruoD"
      },
      "outputs": [],
      "source": [
        "data_normalized = data_cropped / 255"
      ]
    },
    {
      "cell_type": "code",
      "execution_count": 14,
      "metadata": {
        "colab": {
          "base_uri": "https://localhost:8080/"
        },
        "id": "5FNEuTr7r3vt",
        "outputId": "2b6030e1-9a1c-487a-e49f-1c972fd03314"
      },
      "outputs": [
        {
          "name": "stdout",
          "output_type": "stream",
          "text": [
            "Min of original = 0\n",
            "Max of original = 248\n",
            "Min of original = 0.0\n",
            "Max of original = 0.9725490196078431\n"
          ]
        }
      ],
      "source": [
        "print(f'Min of original = {np.min(data_cropped[0])}')\n",
        "print(f'Max of original = {np.max(data_cropped[0])}')\n",
        "print(f'Min of original = {np.min(data_normalized[0])}')\n",
        "print(f'Max of original = {np.max(data_normalized[0])}')"
      ]
    },
    {
      "cell_type": "code",
      "execution_count": 15,
      "metadata": {
        "colab": {
          "base_uri": "https://localhost:8080/",
          "height": 507
        },
        "id": "ctW2qI2Wwov1",
        "outputId": "80bf6a8c-7ce4-4e0a-c50a-607f825fa5a2"
      },
      "outputs": [
        {
          "data": {
            "image/png": "[encoded data removed]",
            "text/plain": [
              "<Figure size 1000x500 with 2 Axes>"
            ]
          },
          "metadata": {},
          "output_type": "display_data"
        }
      ],
      "source": [
        "cropped_flat = data_cropped.flatten()\n",
        "normalized_flat = data_normalized.flatten()\n",
        "\n",
        "plt.figure(figsize=(10, 5))\n",
        "\n",
        "plt.subplot(1, 2, 1)\n",
        "plt.boxplot(cropped_flat)\n",
        "plt.title(\"Original Pixel Values (0-255)\")\n",
        "plt.ylabel(\"Pixel Intensity\")\n",
        "\n",
        "plt.subplot(1, 2, 2)\n",
        "plt.boxplot(normalized_flat)\n",
        "plt.title(\"Normalized Pixel Values (0-1)\")\n",
        "plt.ylabel(\"Pixel Intensity\")\n",
        "\n",
        "plt.tight_layout()\n",
        "plt.show()"
      ]
    },
    {
      "cell_type": "markdown",
      "metadata": {
        "id": "IUaWnZu7n2LV"
      },
      "source": [
        "#**Splitting**"
      ]
    },
    {
      "cell_type": "code",
      "execution_count": 16,
      "metadata": {
        "colab": {
          "base_uri": "https://localhost:8080/"
        },
        "id": "wo4aF9gKm17L",
        "outputId": "35d329ea-7127-49a8-b15b-45797487450d"
      },
      "outputs": [
        {
          "data": {
            "text/plain": [
              "((9198, 50, 50, 1), (9198,), (3942, 50, 50, 1), (3942,))"
            ]
          },
          "execution_count": 16,
          "metadata": {},
          "output_type": "execute_result"
        }
      ],
      "source": [
        "x = data_normalized\n",
        "y = labels\n",
        "x_train, x_test, y_train, y_test = train_test_split(x, y, test_size=0.3)\n",
        "\n",
        "x_train.shape, y_train.shape, x_test.shape, y_test.shape"
      ]
    },
    {
      "cell_type": "markdown",
      "metadata": {},
      "source": [
        "#**Modelling**"
      ]
    },
    {
      "cell_type": "code",
      "execution_count": 17,
      "metadata": {
        "id": "deVyf-K-2d2r"
      },
      "outputs": [],
      "source": [
        "model = keras.Sequential()\n",
        "model.add(keras.layers.Flatten())\n",
        "model.add(keras.layers.Dense(units=128, activation='relu'))\n",
        "model.add(keras.layers.Dense(units=128, activation='relu'))\n",
        "model.add(keras.layers.Dense(units=3, activation=keras.activations.softmax))"
      ]
    },
    {
      "cell_type": "code",
      "execution_count": 18,
      "metadata": {
        "id": "1dYkFhTg5QF7"
      },
      "outputs": [],
      "source": [
        "optimizer = keras.optimizers.Adam()\n",
        "loss = keras.losses.SparseCategoricalCrossentropy()\n",
        "metric = keras.metrics.CategoricalAccuracy()\n",
        "\n",
        "model.compile(optimizer=optimizer, loss=loss, metrics=['accuracy'])"
      ]
    },
    {
      "cell_type": "code",
      "execution_count": 19,
      "metadata": {
        "colab": {
          "base_uri": "https://localhost:8080/",
          "height": 289
        },
        "id": "QtNV0W8m5uqE",
        "outputId": "7f5d9e36-2632-41e7-ce1a-84fca3148db1"
      },
      "outputs": [
        {
          "name": "stdout",
          "output_type": "stream",
          "text": [
            "Model: \"sequential\"\n",
            "_________________________________________________________________\n",
            "Layer (type)                 Output Shape              Param #   \n",
            "=================================================================\n",
            "flatten (Flatten)            (None, 2500)              0         \n",
            "_________________________________________________________________\n",
            "dense (Dense)                (None, 128)               320128    \n",
            "_________________________________________________________________\n",
            "dense_1 (Dense)              (None, 128)               16512     \n",
            "_________________________________________________________________\n",
            "dense_2 (Dense)              (None, 3)                 387       \n",
            "=================================================================\n",
            "Total params: 337,027\n",
            "Trainable params: 337,027\n",
            "Non-trainable params: 0\n",
            "_________________________________________________________________\n"
          ]
        }
      ],
      "source": [
        "model.build(input_shape=(None, 50, 50))\n",
        "model.summary()"
      ]
    },
    {
      "cell_type": "code",
      "execution_count": 24,
      "metadata": {
        "colab": {
          "base_uri": "https://localhost:8080/",
          "height": 1000
        },
        "id": "_ruBY4as6Kj7",
        "outputId": "c402ff72-9937-48fc-fd4c-262d41b7a1af"
      },
      "outputs": [
        {
          "name": "stdout",
          "output_type": "stream",
          "text": [
            "Epoch 1/100\n",
            "144/144 [==============================] - 0s 3ms/step - loss: 0.0614 - accuracy: 0.9777 - val_loss: 1.5392 - val_accuracy: 0.8179\n",
            "Epoch 2/100\n",
            "144/144 [==============================] - 0s 3ms/step - loss: 0.0651 - accuracy: 0.9783 - val_loss: 1.5946 - val_accuracy: 0.8026\n",
            "Epoch 3/100\n",
            "144/144 [==============================] - 0s 3ms/step - loss: 0.0602 - accuracy: 0.9793 - val_loss: 1.6415 - val_accuracy: 0.8196\n",
            "Epoch 4/100\n",
            "144/144 [==============================] - 0s 3ms/step - loss: 0.0656 - accuracy: 0.9776 - val_loss: 1.6453 - val_accuracy: 0.8133\n",
            "Epoch 5/100\n",
            "144/144 [==============================] - 1s 4ms/step - loss: 0.0912 - accuracy: 0.9696 - val_loss: 1.4863 - val_accuracy: 0.8118\n",
            "Epoch 6/100\n",
            "144/144 [==============================] - 1s 4ms/step - loss: 0.0604 - accuracy: 0.9804 - val_loss: 1.5915 - val_accuracy: 0.7981\n",
            "Epoch 7/100\n",
            "144/144 [==============================] - 0s 3ms/step - loss: 0.0633 - accuracy: 0.9770 - val_loss: 1.6240 - val_accuracy: 0.8120\n",
            "Epoch 8/100\n",
            "144/144 [==============================] - 0s 3ms/step - loss: 0.0579 - accuracy: 0.9803 - val_loss: 1.6541 - val_accuracy: 0.8128\n",
            "Epoch 9/100\n",
            "144/144 [==============================] - 0s 3ms/step - loss: 0.0622 - accuracy: 0.9785 - val_loss: 1.6904 - val_accuracy: 0.8059\n",
            "Epoch 10/100\n",
            "144/144 [==============================] - 0s 3ms/step - loss: 0.0631 - accuracy: 0.9799 - val_loss: 1.6585 - val_accuracy: 0.8047\n",
            "Epoch 11/100\n",
            "144/144 [==============================] - 0s 3ms/step - loss: 0.0606 - accuracy: 0.9795 - val_loss: 1.7059 - val_accuracy: 0.8075\n",
            "Epoch 12/100\n",
            "144/144 [==============================] - 0s 3ms/step - loss: 0.0566 - accuracy: 0.9804 - val_loss: 1.7578 - val_accuracy: 0.8141\n",
            "Epoch 13/100\n",
            "144/144 [==============================] - 0s 3ms/step - loss: 0.0536 - accuracy: 0.9816 - val_loss: 1.8130 - val_accuracy: 0.8039\n",
            "Epoch 14/100\n",
            "144/144 [==============================] - 1s 4ms/step - loss: 0.0516 - accuracy: 0.9828 - val_loss: 1.8327 - val_accuracy: 0.8092\n",
            "Epoch 15/100\n",
            "144/144 [==============================] - 0s 3ms/step - loss: 0.0581 - accuracy: 0.9813 - val_loss: 1.8392 - val_accuracy: 0.8047\n",
            "Epoch 16/100\n",
            "144/144 [==============================] - 0s 3ms/step - loss: 0.0589 - accuracy: 0.9800 - val_loss: 1.8799 - val_accuracy: 0.7978\n",
            "Epoch 17/100\n",
            "144/144 [==============================] - 0s 3ms/step - loss: 0.0491 - accuracy: 0.9835 - val_loss: 2.0849 - val_accuracy: 0.7861\n",
            "Epoch 18/100\n",
            "144/144 [==============================] - 0s 3ms/step - loss: 0.0534 - accuracy: 0.9829 - val_loss: 1.9441 - val_accuracy: 0.8123\n",
            "Epoch 19/100\n",
            "144/144 [==============================] - 0s 3ms/step - loss: 0.0474 - accuracy: 0.9835 - val_loss: 1.9746 - val_accuracy: 0.8120\n",
            "Epoch 20/100\n",
            "144/144 [==============================] - 0s 3ms/step - loss: 0.0644 - accuracy: 0.9791 - val_loss: 2.0442 - val_accuracy: 0.7755\n",
            "Epoch 21/100\n",
            "144/144 [==============================] - 0s 3ms/step - loss: 0.1086 - accuracy: 0.9699 - val_loss: 1.7441 - val_accuracy: 0.8039\n",
            "Epoch 22/100\n",
            "144/144 [==============================] - 0s 3ms/step - loss: 0.0711 - accuracy: 0.9750 - val_loss: 1.6841 - val_accuracy: 0.8077\n",
            "Epoch 23/100\n",
            "144/144 [==============================] - 0s 3ms/step - loss: 0.0576 - accuracy: 0.9804 - val_loss: 1.7001 - val_accuracy: 0.8194\n",
            "Epoch 24/100\n",
            "144/144 [==============================] - 0s 3ms/step - loss: 0.0507 - accuracy: 0.9836 - val_loss: 1.8025 - val_accuracy: 0.8118\n",
            "Epoch 25/100\n",
            "144/144 [==============================] - 0s 3ms/step - loss: 0.0578 - accuracy: 0.9800 - val_loss: 1.8173 - val_accuracy: 0.8130\n",
            "Epoch 26/100\n",
            "144/144 [==============================] - 0s 3ms/step - loss: 0.0461 - accuracy: 0.9843 - val_loss: 1.8918 - val_accuracy: 0.8049\n",
            "Epoch 27/100\n",
            "144/144 [==============================] - 0s 3ms/step - loss: 0.0454 - accuracy: 0.9843 - val_loss: 1.8899 - val_accuracy: 0.8100\n",
            "Epoch 28/100\n",
            "144/144 [==============================] - 0s 3ms/step - loss: 0.0502 - accuracy: 0.9823 - val_loss: 1.9057 - val_accuracy: 0.8049\n",
            "Epoch 29/100\n",
            "144/144 [==============================] - 0s 3ms/step - loss: 0.0471 - accuracy: 0.9841 - val_loss: 1.9546 - val_accuracy: 0.8072\n",
            "Epoch 30/100\n",
            "144/144 [==============================] - 0s 3ms/step - loss: 0.0529 - accuracy: 0.9827 - val_loss: 1.9834 - val_accuracy: 0.8163\n",
            "Epoch 31/100\n",
            "144/144 [==============================] - 0s 3ms/step - loss: 0.0441 - accuracy: 0.9847 - val_loss: 2.0190 - val_accuracy: 0.8123\n",
            "Epoch 32/100\n",
            "144/144 [==============================] - 0s 3ms/step - loss: 0.0501 - accuracy: 0.9821 - val_loss: 2.0877 - val_accuracy: 0.8100\n",
            "Epoch 33/100\n",
            "144/144 [==============================] - 0s 3ms/step - loss: 0.0643 - accuracy: 0.9821 - val_loss: 1.9696 - val_accuracy: 0.8024\n",
            "Epoch 34/100\n",
            "144/144 [==============================] - 0s 3ms/step - loss: 0.0639 - accuracy: 0.9773 - val_loss: 1.8871 - val_accuracy: 0.8135\n",
            "Epoch 35/100\n",
            "144/144 [==============================] - 0s 3ms/step - loss: 0.0540 - accuracy: 0.9820 - val_loss: 1.9283 - val_accuracy: 0.8077\n",
            "Epoch 36/100\n",
            "144/144 [==============================] - 0s 3ms/step - loss: 0.0519 - accuracy: 0.9812 - val_loss: 1.8950 - val_accuracy: 0.8054\n",
            "Epoch 37/100\n",
            "144/144 [==============================] - 0s 3ms/step - loss: 0.0449 - accuracy: 0.9855 - val_loss: 1.8824 - val_accuracy: 0.8113\n",
            "Epoch 38/100\n",
            "144/144 [==============================] - 0s 3ms/step - loss: 0.0420 - accuracy: 0.9850 - val_loss: 1.9598 - val_accuracy: 0.8100\n",
            "Epoch 39/100\n",
            "144/144 [==============================] - 0s 3ms/step - loss: 0.0432 - accuracy: 0.9852 - val_loss: 2.0502 - val_accuracy: 0.7968\n",
            "Epoch 40/100\n",
            "144/144 [==============================] - 0s 3ms/step - loss: 0.0432 - accuracy: 0.9853 - val_loss: 2.0016 - val_accuracy: 0.8072\n",
            "Epoch 41/100\n",
            "144/144 [==============================] - 0s 3ms/step - loss: 0.0397 - accuracy: 0.9861 - val_loss: 2.0552 - val_accuracy: 0.8067\n",
            "Epoch 42/100\n",
            "144/144 [==============================] - 0s 3ms/step - loss: 0.0400 - accuracy: 0.9861 - val_loss: 2.1598 - val_accuracy: 0.7897\n",
            "Epoch 43/100\n",
            "144/144 [==============================] - 0s 3ms/step - loss: 0.0469 - accuracy: 0.9828 - val_loss: 2.0572 - val_accuracy: 0.8097\n",
            "Epoch 44/100\n",
            "144/144 [==============================] - 0s 3ms/step - loss: 0.0429 - accuracy: 0.9841 - val_loss: 2.1404 - val_accuracy: 0.8067\n",
            "Epoch 45/100\n",
            "144/144 [==============================] - 0s 3ms/step - loss: 0.0402 - accuracy: 0.9848 - val_loss: 2.1495 - val_accuracy: 0.7965\n",
            "Epoch 46/100\n",
            "144/144 [==============================] - 0s 3ms/step - loss: 0.0413 - accuracy: 0.9854 - val_loss: 2.2325 - val_accuracy: 0.8039\n",
            "Epoch 47/100\n",
            "144/144 [==============================] - 0s 3ms/step - loss: 0.0376 - accuracy: 0.9854 - val_loss: 2.2743 - val_accuracy: 0.8090\n",
            "Epoch 48/100\n",
            "144/144 [==============================] - 0s 3ms/step - loss: 0.0385 - accuracy: 0.9871 - val_loss: 2.2712 - val_accuracy: 0.8047\n",
            "Epoch 49/100\n",
            "144/144 [==============================] - 0s 3ms/step - loss: 0.0634 - accuracy: 0.9827 - val_loss: 2.1927 - val_accuracy: 0.7864\n",
            "Epoch 50/100\n",
            "144/144 [==============================] - 0s 3ms/step - loss: 0.0985 - accuracy: 0.9714 - val_loss: 1.7589 - val_accuracy: 0.7978\n",
            "Epoch 51/100\n",
            "144/144 [==============================] - 0s 3ms/step - loss: 0.0512 - accuracy: 0.9827 - val_loss: 1.7998 - val_accuracy: 0.8082\n",
            "Epoch 52/100\n",
            "144/144 [==============================] - 0s 3ms/step - loss: 0.0370 - accuracy: 0.9877 - val_loss: 1.8785 - val_accuracy: 0.8075\n",
            "Epoch 53/100\n",
            "144/144 [==============================] - 0s 3ms/step - loss: 0.0378 - accuracy: 0.9867 - val_loss: 1.8877 - val_accuracy: 0.8133\n",
            "Epoch 54/100\n",
            "144/144 [==============================] - 0s 3ms/step - loss: 0.0337 - accuracy: 0.9877 - val_loss: 1.9362 - val_accuracy: 0.8075\n",
            "Epoch 55/100\n",
            "144/144 [==============================] - 0s 3ms/step - loss: 0.0406 - accuracy: 0.9856 - val_loss: 2.0089 - val_accuracy: 0.8095\n",
            "Epoch 56/100\n",
            "144/144 [==============================] - 0s 3ms/step - loss: 0.0447 - accuracy: 0.9843 - val_loss: 1.9306 - val_accuracy: 0.8070\n",
            "Epoch 57/100\n",
            "144/144 [==============================] - 0s 3ms/step - loss: 0.0348 - accuracy: 0.9875 - val_loss: 2.0208 - val_accuracy: 0.7991\n",
            "Epoch 58/100\n",
            "144/144 [==============================] - 0s 3ms/step - loss: 0.0416 - accuracy: 0.9837 - val_loss: 2.0079 - val_accuracy: 0.8087\n",
            "Epoch 59/100\n",
            "144/144 [==============================] - 0s 3ms/step - loss: 0.0385 - accuracy: 0.9863 - val_loss: 2.0248 - val_accuracy: 0.8095\n",
            "Epoch 60/100\n",
            "144/144 [==============================] - 0s 3ms/step - loss: 0.0386 - accuracy: 0.9861 - val_loss: 2.0332 - val_accuracy: 0.8029\n",
            "Epoch 61/100\n",
            "144/144 [==============================] - 0s 3ms/step - loss: 0.0321 - accuracy: 0.9893 - val_loss: 2.1082 - val_accuracy: 0.8042\n",
            "Epoch 62/100\n",
            "144/144 [==============================] - 0s 3ms/step - loss: 0.0341 - accuracy: 0.9879 - val_loss: 2.0795 - val_accuracy: 0.8113\n",
            "Epoch 63/100\n",
            "144/144 [==============================] - 0s 3ms/step - loss: 0.0407 - accuracy: 0.9859 - val_loss: 2.2086 - val_accuracy: 0.8016\n",
            "Epoch 64/100\n",
            "144/144 [==============================] - 0s 3ms/step - loss: 0.0644 - accuracy: 0.9768 - val_loss: 2.0272 - val_accuracy: 0.7965\n",
            "Epoch 65/100\n",
            "144/144 [==============================] - 0s 3ms/step - loss: 0.0372 - accuracy: 0.9858 - val_loss: 2.1567 - val_accuracy: 0.8044\n",
            "Epoch 66/100\n",
            "144/144 [==============================] - 0s 3ms/step - loss: 0.0368 - accuracy: 0.9861 - val_loss: 2.1414 - val_accuracy: 0.8100\n",
            "Epoch 67/100\n",
            "144/144 [==============================] - 0s 3ms/step - loss: 0.0355 - accuracy: 0.9874 - val_loss: 2.2437 - val_accuracy: 0.8011\n",
            "Epoch 68/100\n",
            "144/144 [==============================] - 0s 3ms/step - loss: 0.0321 - accuracy: 0.9883 - val_loss: 2.3065 - val_accuracy: 0.8006\n",
            "Epoch 69/100\n",
            "144/144 [==============================] - 0s 3ms/step - loss: 0.0338 - accuracy: 0.9868 - val_loss: 2.3095 - val_accuracy: 0.8070\n",
            "Epoch 70/100\n",
            "144/144 [==============================] - 0s 3ms/step - loss: 0.0285 - accuracy: 0.9896 - val_loss: 2.3342 - val_accuracy: 0.8006\n",
            "Epoch 71/100\n",
            "144/144 [==============================] - 0s 3ms/step - loss: 0.0303 - accuracy: 0.9886 - val_loss: 2.4573 - val_accuracy: 0.7927\n",
            "Epoch 72/100\n",
            "144/144 [==============================] - 0s 3ms/step - loss: 0.0614 - accuracy: 0.9789 - val_loss: 2.2712 - val_accuracy: 0.7856\n",
            "Epoch 73/100\n",
            "144/144 [==============================] - 0s 3ms/step - loss: 0.0435 - accuracy: 0.9849 - val_loss: 2.1922 - val_accuracy: 0.8042\n",
            "Epoch 74/100\n",
            "144/144 [==============================] - 0s 3ms/step - loss: 0.0398 - accuracy: 0.9856 - val_loss: 2.2399 - val_accuracy: 0.8075\n",
            "Epoch 75/100\n",
            "144/144 [==============================] - 0s 3ms/step - loss: 0.0363 - accuracy: 0.9868 - val_loss: 2.2802 - val_accuracy: 0.8052\n",
            "Epoch 76/100\n",
            "144/144 [==============================] - 0s 3ms/step - loss: 0.0321 - accuracy: 0.9880 - val_loss: 2.3089 - val_accuracy: 0.8026\n",
            "Epoch 77/100\n",
            "144/144 [==============================] - 0s 3ms/step - loss: 0.0269 - accuracy: 0.9896 - val_loss: 2.3692 - val_accuracy: 0.7996\n",
            "Epoch 78/100\n",
            "144/144 [==============================] - 0s 3ms/step - loss: 0.0278 - accuracy: 0.9903 - val_loss: 2.4387 - val_accuracy: 0.8082\n",
            "Epoch 79/100\n",
            "144/144 [==============================] - 0s 3ms/step - loss: 0.0332 - accuracy: 0.9875 - val_loss: 2.4836 - val_accuracy: 0.7917\n",
            "Epoch 80/100\n",
            "144/144 [==============================] - 0s 3ms/step - loss: 0.0394 - accuracy: 0.9861 - val_loss: 2.4062 - val_accuracy: 0.7905\n",
            "Epoch 81/100\n",
            "144/144 [==============================] - 0s 3ms/step - loss: 0.0372 - accuracy: 0.9864 - val_loss: 2.3942 - val_accuracy: 0.7851\n",
            "Epoch 82/100\n",
            "144/144 [==============================] - 0s 3ms/step - loss: 0.0432 - accuracy: 0.9843 - val_loss: 2.3745 - val_accuracy: 0.7986\n",
            "Epoch 83/100\n",
            "144/144 [==============================] - 0s 3ms/step - loss: 0.0355 - accuracy: 0.9874 - val_loss: 2.4220 - val_accuracy: 0.8026\n",
            "Epoch 84/100\n",
            "144/144 [==============================] - 1s 4ms/step - loss: 0.0270 - accuracy: 0.9905 - val_loss: 2.4600 - val_accuracy: 0.7991\n",
            "Epoch 85/100\n",
            "144/144 [==============================] - 0s 3ms/step - loss: 0.0359 - accuracy: 0.9871 - val_loss: 2.4299 - val_accuracy: 0.8113\n",
            "Epoch 86/100\n",
            "144/144 [==============================] - 0s 3ms/step - loss: 0.0373 - accuracy: 0.9859 - val_loss: 2.4195 - val_accuracy: 0.8042\n",
            "Epoch 87/100\n",
            "144/144 [==============================] - 0s 3ms/step - loss: 0.0299 - accuracy: 0.9883 - val_loss: 2.4504 - val_accuracy: 0.8009\n",
            "Epoch 88/100\n",
            "144/144 [==============================] - 0s 3ms/step - loss: 0.0260 - accuracy: 0.9904 - val_loss: 2.4485 - val_accuracy: 0.8072\n",
            "Epoch 89/100\n",
            "144/144 [==============================] - 0s 3ms/step - loss: 0.0308 - accuracy: 0.9885 - val_loss: 2.4962 - val_accuracy: 0.7998\n",
            "Epoch 90/100\n",
            "144/144 [==============================] - 0s 3ms/step - loss: 0.0314 - accuracy: 0.9874 - val_loss: 2.5152 - val_accuracy: 0.7933\n",
            "Epoch 91/100\n",
            "144/144 [==============================] - 0s 3ms/step - loss: 0.0281 - accuracy: 0.9890 - val_loss: 2.5121 - val_accuracy: 0.8006\n",
            "Epoch 92/100\n",
            "144/144 [==============================] - 0s 3ms/step - loss: 0.0339 - accuracy: 0.9880 - val_loss: 2.5501 - val_accuracy: 0.8052\n",
            "Epoch 93/100\n",
            "144/144 [==============================] - 0s 3ms/step - loss: 0.0360 - accuracy: 0.9872 - val_loss: 2.5615 - val_accuracy: 0.8037\n",
            "Epoch 94/100\n",
            "144/144 [==============================] - 0s 3ms/step - loss: 0.0249 - accuracy: 0.9901 - val_loss: 2.5758 - val_accuracy: 0.8070\n",
            "Epoch 95/100\n",
            "144/144 [==============================] - 0s 3ms/step - loss: 0.0264 - accuracy: 0.9908 - val_loss: 2.6546 - val_accuracy: 0.8080\n",
            "Epoch 96/100\n",
            "144/144 [==============================] - 0s 3ms/step - loss: 0.0288 - accuracy: 0.9887 - val_loss: 2.5925 - val_accuracy: 0.7884\n",
            "Epoch 97/100\n",
            "144/144 [==============================] - 0s 3ms/step - loss: 0.0265 - accuracy: 0.9902 - val_loss: 2.6741 - val_accuracy: 0.8047\n",
            "Epoch 98/100\n",
            "144/144 [==============================] - 0s 3ms/step - loss: 0.0318 - accuracy: 0.9884 - val_loss: 2.6644 - val_accuracy: 0.8090\n",
            "Epoch 99/100\n",
            "144/144 [==============================] - 0s 3ms/step - loss: 0.0258 - accuracy: 0.9901 - val_loss: 2.6826 - val_accuracy: 0.7998\n",
            "Epoch 100/100\n",
            "144/144 [==============================] - 0s 3ms/step - loss: 0.0400 - accuracy: 0.9853 - val_loss: 2.6824 - val_accuracy: 0.7981\n"
          ]
        }
      ],
      "source": [
        "hist = model.fit(x_train, y_train, batch_size=64, epochs=100, validation_data=(x_test, y_test))"
      ]
    },
    {
      "cell_type": "code",
      "execution_count": 25,
      "metadata": {
        "id": "PBt_Sasw6clg"
      },
      "outputs": [],
      "source": [
        "index = random.randint(0, 3942)\n",
        "test_image = x_test[index]"
      ]
    },
    {
      "cell_type": "code",
      "execution_count": 26,
      "metadata": {
        "id": "CpXnT7kt7wra"
      },
      "outputs": [
        {
          "data": {
            "text/plain": [
              "(1, 2500)"
            ]
          },
          "execution_count": 26,
          "metadata": {},
          "output_type": "execute_result"
        }
      ],
      "source": [
        "test_data = np.reshape(test_image, (-1, 2500))\n",
        "test_data.shape"
      ]
    },
    {
      "cell_type": "code",
      "execution_count": 27,
      "metadata": {
        "id": "ZRqQ-fgq_uO_"
      },
      "outputs": [
        {
          "data": {
            "image/png": "[encoded data removed]",
            "text/plain": [
              "<Figure size 640x480 with 1 Axes>"
            ]
          },
          "metadata": {},
          "output_type": "display_data"
        }
      ],
      "source": [
        "loss = hist.history['loss']\n",
        "val_loss = hist.history['val_loss']\n",
        "\n",
        "plt.plot(loss, color='blue')\n",
        "plt.plot(val_loss, color='red')\n",
        "plt.show()\n"
      ]
    },
    {
      "cell_type": "code",
      "execution_count": 28,
      "metadata": {
        "id": "ICuixQVhE4vj"
      },
      "outputs": [
        {
          "data": {
            "image/png": "[encoded data removed]",
            "text/plain": [
              "<Figure size 640x480 with 1 Axes>"
            ]
          },
          "metadata": {},
          "output_type": "display_data"
        }
      ],
      "source": [
        "acc_train = hist.history['accuracy']\n",
        "val_acc_test = hist.history['val_accuracy']\n",
        "\n",
        "plt.plot(acc_train, color='blue')\n",
        "plt.plot(val_acc_test, color='red')\n",
        "plt.show()"
      ]
    },
    {
      "cell_type": "markdown",
      "metadata": {},
      "source": [
        "#**CNN**"
      ]
    },
    {
      "cell_type": "code",
      "execution_count": 29,
      "metadata": {},
      "outputs": [],
      "source": [
        "model_cnn = keras.Sequential()\n",
        "model_cnn.add(keras.layers.Conv2D(32, kernel_size=(3,3), strides=(1, 1),padding='valid', activation='relu', input_shape=(50, 50, 1)))\n",
        "model_cnn.add(keras.layers.Flatten())\n",
        "model_cnn.add(keras.layers.Dense(units=128, activation='relu'))\n",
        "model_cnn.add(keras.layers.Dense(units=3, activation=keras.activations.softmax))"
      ]
    },
    {
      "cell_type": "code",
      "execution_count": 30,
      "metadata": {},
      "outputs": [],
      "source": [
        "optimizer = keras.optimizers.Adam()\n",
        "loss = keras.losses.SparseCategoricalCrossentropy()\n",
        "metric = [keras.metrics.CategoricalAccuracy()]\n",
        "\n",
        "model_cnn.compile(optimizer=optimizer, loss=loss, metrics=['accuracy'])"
      ]
    },
    {
      "cell_type": "code",
      "execution_count": null,
      "metadata": {},
      "outputs": [],
      "source": [
        "model_cnn.build(input_shape=(None, 50, 50))\n",
        "model_cnn.summary()"
      ]
    },
    {
      "cell_type": "code",
      "execution_count": null,
      "metadata": {},
      "outputs": [],
      "source": [
        "hist = model_cnn.fit(x_train, y_train, batch_size=64, epochs=10, validation_data=(x_test, y_test))"
      ]
    },
    {
      "cell_type": "code",
      "execution_count": null,
      "metadata": {},
      "outputs": [],
      "source": [
        "acc_train = hist.history['accuracy']\n",
        "acc_test = hist.history['val_accuracy']\n",
        "\n",
        "plt.plot(acc_train, color='blue')\n",
        "plt.plot(acc_test, color='red')\n",
        "plt.show()"
      ]
    },
    {
      "cell_type": "code",
      "execution_count": null,
      "metadata": {},
      "outputs": [],
      "source": []
    }
  ],
  "metadata": {
    "accelerator": "GPU",
    "colab": {
      "authorship_tag": "ABX9TyMILrhyJbl2A1zW9T13EV/J",
      "gpuType": "T4",
      "include_colab_link": true,
      "provenance": []
    },
    "kernelspec": {
      "display_name": "Python 3",
      "name": "python3"
    },
    "language_info": {
      "codemirror_mode": {
        "name": "ipython",
        "version": 3
      },
      "file_extension": ".py",
      "mimetype": "text/x-python",
      "name": "python",
      "nbconvert_exporter": "python",
      "pygments_lexer": "ipython3",
      "version": "3.9.19"
    }
  },
  "nbformat": 4,
  "nbformat_minor": 0
}
