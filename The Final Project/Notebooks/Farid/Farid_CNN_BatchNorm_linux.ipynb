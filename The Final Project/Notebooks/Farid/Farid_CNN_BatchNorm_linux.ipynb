{
 "cells": [
  {
   "cell_type": "code",
   "execution_count": 22,
   "metadata": {
    "id": "at5bJWeFFBEv"
   },
   "outputs": [],
   "source": [
    "from imutils import paths\n",
    "import tensorflow as tf\n",
    "from tensorflow import keras\n",
    "import numpy as np\n",
    "import pandas as pd\n",
    "import matplotlib.pyplot as plt\n",
    "from collections import Counter\n",
    "from sklearn.model_selection import train_test_split\n",
    "import random\n",
    "from sklearn.metrics import accuracy_score, precision_score, recall_score\n",
    "from scipy.special import softmax\n"
   ]
  },
  {
   "cell_type": "code",
   "execution_count": 2,
   "metadata": {},
   "outputs": [
    {
     "name": "stdout",
     "output_type": "stream",
     "text": [
      "Num GPUs Available:  1\n"
     ]
    },
    {
     "name": "stderr",
     "output_type": "stream",
     "text": [
      "2024-09-09 18:24:39.377079: I tensorflow/compiler/jit/xla_cpu_device.cc:41] Not creating XLA devices, tf_xla_enable_xla_devices not set\n",
      "2024-09-09 18:24:39.377963: I tensorflow/stream_executor/platform/default/dso_loader.cc:49] Successfully opened dynamic library libcuda.so.1\n",
      "2024-09-09 18:24:39.399812: I tensorflow/stream_executor/cuda/cuda_gpu_executor.cc:941] successful NUMA node read from SysFS had negative value (-1), but there must be at least one NUMA node, so returning NUMA node zero\n",
      "2024-09-09 18:24:39.399956: I tensorflow/core/common_runtime/gpu/gpu_device.cc:1720] Found device 0 with properties: \n",
      "pciBusID: 0000:01:00.0 name: Quadro P2000 computeCapability: 6.1\n",
      "coreClock: 1.607GHz coreCount: 6 deviceMemorySize: 3.94GiB deviceMemoryBandwidth: 89.53GiB/s\n",
      "2024-09-09 18:24:39.399990: I tensorflow/stream_executor/platform/default/dso_loader.cc:49] Successfully opened dynamic library libcudart.so.10.1\n",
      "2024-09-09 18:24:39.401808: I tensorflow/stream_executor/platform/default/dso_loader.cc:49] Successfully opened dynamic library libcublas.so.10\n",
      "2024-09-09 18:24:39.401941: I tensorflow/stream_executor/platform/default/dso_loader.cc:49] Successfully opened dynamic library libcublasLt.so.10\n",
      "2024-09-09 18:24:39.403645: I tensorflow/stream_executor/platform/default/dso_loader.cc:49] Successfully opened dynamic library libcufft.so.10\n",
      "2024-09-09 18:24:39.404082: I tensorflow/stream_executor/platform/default/dso_loader.cc:49] Successfully opened dynamic library libcurand.so.10\n",
      "2024-09-09 18:24:39.405997: I tensorflow/stream_executor/platform/default/dso_loader.cc:49] Successfully opened dynamic library libcusolver.so.10\n",
      "2024-09-09 18:24:39.407087: I tensorflow/stream_executor/platform/default/dso_loader.cc:49] Successfully opened dynamic library libcusparse.so.10\n",
      "2024-09-09 18:24:39.411554: I tensorflow/stream_executor/platform/default/dso_loader.cc:49] Successfully opened dynamic library libcudnn.so.7\n",
      "2024-09-09 18:24:39.412358: I tensorflow/stream_executor/cuda/cuda_gpu_executor.cc:941] successful NUMA node read from SysFS had negative value (-1), but there must be at least one NUMA node, so returning NUMA node zero\n",
      "2024-09-09 18:24:39.412974: I tensorflow/stream_executor/cuda/cuda_gpu_executor.cc:941] successful NUMA node read from SysFS had negative value (-1), but there must be at least one NUMA node, so returning NUMA node zero\n",
      "2024-09-09 18:24:39.413069: I tensorflow/core/common_runtime/gpu/gpu_device.cc:1862] Adding visible gpu devices: 0\n"
     ]
    }
   ],
   "source": [
    "print(\"Num GPUs Available: \", len(tf.config.list_physical_devices('GPU')))"
   ]
  },
  {
   "cell_type": "code",
   "execution_count": 3,
   "metadata": {},
   "outputs": [
    {
     "data": {
      "text/plain": [
       "[PhysicalDevice(name='/physical_device:GPU:0', device_type='GPU')]"
      ]
     },
     "execution_count": 3,
     "metadata": {},
     "output_type": "execute_result"
    }
   ],
   "source": [
    "tf.config.list_physical_devices('GPU')"
   ]
  },
  {
   "cell_type": "markdown",
   "metadata": {},
   "source": [
    "#**Fetching**"
   ]
  },
  {
   "cell_type": "code",
   "execution_count": 4,
   "metadata": {
    "colab": {
     "base_uri": "https://localhost:8080/"
    },
    "id": "5M1CL73yFqJd",
    "outputId": "196459b5-efd5-4c82-d3fe-307d9dcfb9f4"
   },
   "outputs": [
    {
     "name": "stderr",
     "output_type": "stream",
     "text": [
      "2024-09-09 18:24:39.454862: I tensorflow/core/platform/cpu_feature_guard.cc:142] This TensorFlow binary is optimized with oneAPI Deep Neural Network Library (oneDNN) to use the following CPU instructions in performance-critical operations:  SSE4.1 SSE4.2 AVX AVX2 FMA\n",
      "To enable them in other operations, rebuild TensorFlow with the appropriate compiler flags.\n",
      "2024-09-09 18:24:39.455981: I tensorflow/compiler/jit/xla_gpu_device.cc:99] Not creating XLA devices, tf_xla_enable_xla_devices not set\n",
      "2024-09-09 18:24:39.456329: I tensorflow/stream_executor/cuda/cuda_gpu_executor.cc:941] successful NUMA node read from SysFS had negative value (-1), but there must be at least one NUMA node, so returning NUMA node zero\n",
      "2024-09-09 18:24:39.456533: I tensorflow/core/common_runtime/gpu/gpu_device.cc:1720] Found device 0 with properties: \n",
      "pciBusID: 0000:01:00.0 name: Quadro P2000 computeCapability: 6.1\n",
      "coreClock: 1.607GHz coreCount: 6 deviceMemorySize: 3.94GiB deviceMemoryBandwidth: 89.53GiB/s\n",
      "2024-09-09 18:24:39.456609: I tensorflow/stream_executor/platform/default/dso_loader.cc:49] Successfully opened dynamic library libcudart.so.10.1\n",
      "2024-09-09 18:24:39.456713: I tensorflow/stream_executor/platform/default/dso_loader.cc:49] Successfully opened dynamic library libcublas.so.10\n",
      "2024-09-09 18:24:39.456742: I tensorflow/stream_executor/platform/default/dso_loader.cc:49] Successfully opened dynamic library libcublasLt.so.10\n",
      "2024-09-09 18:24:39.456762: I tensorflow/stream_executor/platform/default/dso_loader.cc:49] Successfully opened dynamic library libcufft.so.10\n",
      "2024-09-09 18:24:39.456783: I tensorflow/stream_executor/platform/default/dso_loader.cc:49] Successfully opened dynamic library libcurand.so.10\n",
      "2024-09-09 18:24:39.456803: I tensorflow/stream_executor/platform/default/dso_loader.cc:49] Successfully opened dynamic library libcusolver.so.10\n",
      "2024-09-09 18:24:39.456823: I tensorflow/stream_executor/platform/default/dso_loader.cc:49] Successfully opened dynamic library libcusparse.so.10\n",
      "2024-09-09 18:24:39.456844: I tensorflow/stream_executor/platform/default/dso_loader.cc:49] Successfully opened dynamic library libcudnn.so.7\n",
      "2024-09-09 18:24:39.457040: I tensorflow/stream_executor/cuda/cuda_gpu_executor.cc:941] successful NUMA node read from SysFS had negative value (-1), but there must be at least one NUMA node, so returning NUMA node zero\n",
      "2024-09-09 18:24:39.457266: I tensorflow/stream_executor/cuda/cuda_gpu_executor.cc:941] successful NUMA node read from SysFS had negative value (-1), but there must be at least one NUMA node, so returning NUMA node zero\n",
      "2024-09-09 18:24:39.457367: I tensorflow/core/common_runtime/gpu/gpu_device.cc:1862] Adding visible gpu devices: 0\n",
      "2024-09-09 18:24:39.457406: I tensorflow/stream_executor/platform/default/dso_loader.cc:49] Successfully opened dynamic library libcudart.so.10.1\n",
      "2024-09-09 18:24:40.064761: I tensorflow/core/common_runtime/gpu/gpu_device.cc:1261] Device interconnect StreamExecutor with strength 1 edge matrix:\n",
      "2024-09-09 18:24:40.064824: I tensorflow/core/common_runtime/gpu/gpu_device.cc:1267]      0 \n",
      "2024-09-09 18:24:40.064836: I tensorflow/core/common_runtime/gpu/gpu_device.cc:1280] 0:   N \n",
      "2024-09-09 18:24:40.065079: I tensorflow/stream_executor/cuda/cuda_gpu_executor.cc:941] successful NUMA node read from SysFS had negative value (-1), but there must be at least one NUMA node, so returning NUMA node zero\n",
      "2024-09-09 18:24:40.065313: I tensorflow/stream_executor/cuda/cuda_gpu_executor.cc:941] successful NUMA node read from SysFS had negative value (-1), but there must be at least one NUMA node, so returning NUMA node zero\n",
      "2024-09-09 18:24:40.065465: I tensorflow/stream_executor/cuda/cuda_gpu_executor.cc:941] successful NUMA node read from SysFS had negative value (-1), but there must be at least one NUMA node, so returning NUMA node zero\n",
      "2024-09-09 18:24:40.065568: I tensorflow/core/common_runtime/gpu/gpu_device.cc:1406] Created TensorFlow device (/job:localhost/replica:0/task:0/device:GPU:0 with 3577 MB memory) -> physical GPU (device: 0, name: Quadro P2000, pci bus id: 0000:01:00.0, compute capability: 6.1)\n"
     ]
    },
    {
     "name": "stdout",
     "output_type": "stream",
     "text": [
      "Loaded FR0... 6066 files has loaded.\n"
     ]
    }
   ],
   "source": [
    "# Reading FRI Images\n",
    "imagePaths = list(paths.list_images(r\"/media/gunner/5A300FFA300FDC3F/My Projects/Temp/Data-Mining/Dataset/FR0\"))\n",
    "\n",
    "data = []\n",
    "data_cropped = []\n",
    "labels = []\n",
    "label = 0\n",
    "counter_0 = 0\n",
    "\n",
    "for imagePath in imagePaths:\n",
    "  image = tf.io.read_file(imagePath)\n",
    "  image = tf.image.decode_image(image, channels=1)\n",
    "  data.append(image)\n",
    "  image = tf.image.crop_to_bounding_box(image, 124, 124, 50, 50)\n",
    "  data_cropped.append(image)\n",
    "  labels.append(label)\n",
    "  counter_0 += 1\n",
    "print(f'Loaded FR0... {counter_0} files has loaded.')"
   ]
  },
  {
   "cell_type": "code",
   "execution_count": 5,
   "metadata": {
    "colab": {
     "base_uri": "https://localhost:8080/"
    },
    "id": "9NmnZ6cZjobL",
    "outputId": "11ef93bc-1237-41bc-b595-1c382c54d63a"
   },
   "outputs": [
    {
     "name": "stdout",
     "output_type": "stream",
     "text": [
      "Loaded FRI... 5008 files has loaded.\n"
     ]
    }
   ],
   "source": [
    "# Reading FRI Images\n",
    "imagePaths = list(paths.list_images(r\"/media/gunner/5A300FFA300FDC3F/My Projects/Temp/Data-Mining/Dataset/FRI\"))\n",
    "\n",
    "\n",
    "label = 1\n",
    "counter_1 = 0\n",
    "\n",
    "for imagePath in imagePaths:\n",
    "  image = tf.io.read_file(imagePath)\n",
    "  image = tf.image.decode_image(image, channels=1)\n",
    "  data.append(image)\n",
    "  image = tf.image.crop_to_bounding_box(image, 124, 124, 50, 50)\n",
    "  data_cropped.append(image)\n",
    "  labels.append(label)\n",
    "  counter_1 += 1\n",
    "print(f'Loaded FRI... {counter_1} files has loaded.')"
   ]
  },
  {
   "cell_type": "code",
   "execution_count": 6,
   "metadata": {
    "colab": {
     "base_uri": "https://localhost:8080/"
    },
    "id": "Ni70OrxGP6CG",
    "outputId": "c29db458-124f-4459-f61e-0578e0806de0"
   },
   "outputs": [
    {
     "name": "stdout",
     "output_type": "stream",
     "text": [
      "Loaded FRII... 2066 files has loaded.\n"
     ]
    }
   ],
   "source": [
    "# Reading FRI Images\n",
    "imagePaths = list(paths.list_images(r\"/media/gunner/5A300FFA300FDC3F/My Projects/Temp/Data-Mining/Dataset/FRII\"))\n",
    "\n",
    "label = 2\n",
    "counter_2 = 0\n",
    "\n",
    "for imagePath in imagePaths:\n",
    "  image = tf.io.read_file(imagePath)\n",
    "  image = tf.image.decode_image(image, channels=1)\n",
    "  data.append(image)\n",
    "  image = tf.image.crop_to_bounding_box(image, 124, 124, 50, 50)\n",
    "  data_cropped.append(image)\n",
    "  labels.append(label)\n",
    "  counter_2 += 1\n",
    "print(f'Loaded FRII... {counter_2} files has loaded.')"
   ]
  },
  {
   "cell_type": "markdown",
   "metadata": {
    "id": "C_EYq2cD2S9o"
   },
   "source": [
    "#**EDA**"
   ]
  },
  {
   "cell_type": "code",
   "execution_count": 7,
   "metadata": {
    "colab": {
     "base_uri": "https://localhost:8080/",
     "height": 472
    },
    "id": "WxXep8unzj8T",
    "outputId": "d1ae5a94-0faf-4130-ec04-b777a6a9daf5"
   },
   "outputs": [
    {
     "data": {
      "image/png": "[encoded data removed]",
      "text/plain": [
       "<Figure size 640x480 with 1 Axes>"
      ]
     },
     "metadata": {},
     "output_type": "display_data"
    }
   ],
   "source": [
    "counter = Counter(labels)\n",
    "sorted_counts = dict(sorted(counter.items()))\n",
    "plt.bar(sorted_counts.keys(), sorted_counts.values(), color='skyblue')\n",
    "plt.xlabel('Class')\n",
    "plt.ylabel('Count')\n",
    "plt.title('Count of Each Class in the Dataset')\n",
    "plt.xticks(range(3))\n",
    "plt.show()"
   ]
  },
  {
   "cell_type": "code",
   "execution_count": 8,
   "metadata": {
    "id": "AgbTDA9wQEWw"
   },
   "outputs": [],
   "source": [
    "labels = np.array(labels,dtype='uint8')\n",
    "data = np.array(data,dtype='uint8')\n",
    "data_cropped = np.array(data_cropped,dtype='uint8')"
   ]
  },
  {
   "cell_type": "code",
   "execution_count": 9,
   "metadata": {
    "colab": {
     "base_uri": "https://localhost:8080/",
     "height": 205
    },
    "id": "4l5LfN-uS8iz",
    "outputId": "fcd8e013-b734-4a25-c32b-3fbb4d15b40e"
   },
   "outputs": [
    {
     "data": {
      "image/png": "[encoded data removed]",
      "text/plain": [
       "<Figure size 640x480 with 3 Axes>"
      ]
     },
     "metadata": {},
     "output_type": "display_data"
    }
   ],
   "source": [
    "image = np.squeeze(data[0])\n",
    "plt.subplot(1, 3, 1)\n",
    "plt.imshow(image, cmap='gray')\n",
    "plt.axis('off')\n",
    "plt.title(f\"Image at FR0\")\n",
    "\n",
    "image = np.squeeze(data[6066])\n",
    "plt.subplot(1, 3, 2)\n",
    "plt.imshow(image, cmap='gray')\n",
    "plt.axis('off')\n",
    "plt.title(f\"Image at FRI\")\n",
    "\n",
    "image = np.squeeze(data[11075])\n",
    "plt.subplot(1, 3, 3)\n",
    "plt.imshow(image, cmap='gray')\n",
    "plt.axis('off')\n",
    "plt.title(f\"Image at FRII\")\n",
    "\n",
    "\n",
    "plt.show()"
   ]
  },
  {
   "cell_type": "code",
   "execution_count": 10,
   "metadata": {
    "colab": {
     "base_uri": "https://localhost:8080/",
     "height": 205
    },
    "id": "AwomotIWl0aV",
    "outputId": "850936fc-78fd-4f77-cafb-2842404953bd"
   },
   "outputs": [
    {
     "data": {
      "image/png": "[encoded data removed]",
      "text/plain": [
       "<Figure size 640x480 with 3 Axes>"
      ]
     },
     "metadata": {},
     "output_type": "display_data"
    }
   ],
   "source": [
    "image = np.squeeze(data_cropped[0])\n",
    "plt.subplot(1, 3, 1)\n",
    "plt.imshow(image, cmap='gray')\n",
    "plt.axis('off')\n",
    "plt.title(f\"Image at FR0\")\n",
    "\n",
    "image = np.squeeze(data_cropped[6066])\n",
    "plt.subplot(1, 3, 2)\n",
    "plt.imshow(image, cmap='gray')\n",
    "plt.axis('off')\n",
    "plt.title(f\"Image at FRI\")\n",
    "\n",
    "image = np.squeeze(data_cropped[11075])\n",
    "plt.subplot(1, 3, 3)\n",
    "plt.imshow(image, cmap='gray')\n",
    "plt.axis('off')\n",
    "plt.title(f\"Image at FRII\")\n",
    "\n",
    "\n",
    "plt.show()"
   ]
  },
  {
   "cell_type": "code",
   "execution_count": 11,
   "metadata": {},
   "outputs": [
    {
     "data": {
      "text/plain": [
       "((13140, 300, 300, 1), (13140, 50, 50, 1))"
      ]
     },
     "execution_count": 11,
     "metadata": {},
     "output_type": "execute_result"
    }
   ],
   "source": [
    "data.shape, data_cropped.shape"
   ]
  },
  {
   "cell_type": "code",
   "execution_count": 12,
   "metadata": {
    "colab": {
     "base_uri": "https://localhost:8080/"
    },
    "id": "TFdup12Eh4El",
    "outputId": "f55e31f6-39a1-4abc-f222-a42e47a140a2"
   },
   "outputs": [
    {
     "data": {
      "text/plain": [
       "(0, 248)"
      ]
     },
     "execution_count": 12,
     "metadata": {},
     "output_type": "execute_result"
    }
   ],
   "source": [
    "np.min(data_cropped[0]), np.max(data_cropped[0])"
   ]
  },
  {
   "cell_type": "markdown",
   "metadata": {
    "id": "3javIkUqrHCu"
   },
   "source": [
    "#**Preprocessing**"
   ]
  },
  {
   "cell_type": "code",
   "execution_count": 13,
   "metadata": {
    "id": "zpeQhX80ruoD"
   },
   "outputs": [],
   "source": [
    "data_normalized = data_cropped / 255"
   ]
  },
  {
   "cell_type": "code",
   "execution_count": 14,
   "metadata": {
    "colab": {
     "base_uri": "https://localhost:8080/"
    },
    "id": "5FNEuTr7r3vt",
    "outputId": "2b6030e1-9a1c-487a-e49f-1c972fd03314"
   },
   "outputs": [
    {
     "name": "stdout",
     "output_type": "stream",
     "text": [
      "Min of original = 0\n",
      "Max of original = 248\n",
      "Min of original = 0.0\n",
      "Max of original = 0.9725490196078431\n"
     ]
    }
   ],
   "source": [
    "print(f'Min of original = {np.min(data_cropped[0])}')\n",
    "print(f'Max of original = {np.max(data_cropped[0])}')\n",
    "print(f'Min of original = {np.min(data_normalized[0])}')\n",
    "print(f'Max of original = {np.max(data_normalized[0])}')"
   ]
  },
  {
   "cell_type": "code",
   "execution_count": 15,
   "metadata": {
    "colab": {
     "base_uri": "https://localhost:8080/",
     "height": 507
    },
    "id": "ctW2qI2Wwov1",
    "outputId": "80bf6a8c-7ce4-4e0a-c50a-607f825fa5a2"
   },
   "outputs": [
    {
     "data": {
      "image/png": "[encoded data removed]",
      "text/plain": [
       "<Figure size 1000x500 with 2 Axes>"
      ]
     },
     "metadata": {},
     "output_type": "display_data"
    }
   ],
   "source": [
    "cropped_flat = data_cropped.flatten()\n",
    "normalized_flat = data_normalized.flatten()\n",
    "\n",
    "plt.figure(figsize=(10, 5))\n",
    "\n",
    "plt.subplot(1, 2, 1)\n",
    "plt.boxplot(cropped_flat)\n",
    "plt.title(\"Original Pixel Values (0-255)\")\n",
    "plt.ylabel(\"Pixel Intensity\")\n",
    "\n",
    "plt.subplot(1, 2, 2)\n",
    "plt.boxplot(normalized_flat)\n",
    "plt.title(\"Normalized Pixel Values (0-1)\")\n",
    "plt.ylabel(\"Pixel Intensity\")\n",
    "\n",
    "plt.tight_layout()\n",
    "plt.show()"
   ]
  },
  {
   "cell_type": "markdown",
   "metadata": {
    "id": "IUaWnZu7n2LV"
   },
   "source": [
    "#**Splitting**"
   ]
  },
  {
   "cell_type": "code",
   "execution_count": 16,
   "metadata": {
    "colab": {
     "base_uri": "https://localhost:8080/"
    },
    "id": "wo4aF9gKm17L",
    "outputId": "35d329ea-7127-49a8-b15b-45797487450d"
   },
   "outputs": [
    {
     "data": {
      "text/plain": [
       "((9198, 50, 50, 1), (9198,), (3942, 50, 50, 1), (3942,))"
      ]
     },
     "execution_count": 16,
     "metadata": {},
     "output_type": "execute_result"
    }
   ],
   "source": [
    "x = data_normalized\n",
    "y = labels\n",
    "x_train, x_test, y_train, y_test = train_test_split(x, y, test_size=0.3)\n",
    "\n",
    "x_train.shape, y_train.shape, x_test.shape, y_test.shape"
   ]
  },
  {
   "cell_type": "markdown",
   "metadata": {},
   "source": [
    "#**CNN by BatchNorm**"
   ]
  },
  {
   "cell_type": "code",
   "execution_count": 1,
   "metadata": {},
   "outputs": [
    {
     "ename": "NameError",
     "evalue": "name 'keras' is not defined",
     "output_type": "error",
     "traceback": [
      "\u001b[0;31m---------------------------------------------------------------------------\u001b[0m",
      "\u001b[0;31mNameError\u001b[0m                                 Traceback (most recent call last)",
      "Cell \u001b[0;32mIn[1], line 1\u001b[0m\n\u001b[0;32m----> 1\u001b[0m model_cnn_batch \u001b[38;5;241m=\u001b[39m \u001b[43mkeras\u001b[49m\u001b[38;5;241m.\u001b[39mSequential()\n\u001b[1;32m      3\u001b[0m \u001b[38;5;66;03m#Conv2D + BatchNorm + Activation\u001b[39;00m\n\u001b[1;32m      4\u001b[0m model_cnn_batch\u001b[38;5;241m.\u001b[39madd(keras\u001b[38;5;241m.\u001b[39mlayers\u001b[38;5;241m.\u001b[39mConv2D(\u001b[38;5;241m128\u001b[39m, kernel_size\u001b[38;5;241m=\u001b[39m(\u001b[38;5;241m3\u001b[39m,\u001b[38;5;241m3\u001b[39m), strides\u001b[38;5;241m=\u001b[39m(\u001b[38;5;241m1\u001b[39m, \u001b[38;5;241m1\u001b[39m),padding\u001b[38;5;241m=\u001b[39m\u001b[38;5;124m'\u001b[39m\u001b[38;5;124mvalid\u001b[39m\u001b[38;5;124m'\u001b[39m, input_shape\u001b[38;5;241m=\u001b[39m(\u001b[38;5;241m50\u001b[39m, \u001b[38;5;241m50\u001b[39m, \u001b[38;5;241m1\u001b[39m)))\n",
      "\u001b[0;31mNameError\u001b[0m: name 'keras' is not defined"
     ]
    }
   ],
   "source": [
    "model_cnn_batch = keras.Sequential()\n",
    "\n",
    "#Conv2D + BatchNorm + Activation\n",
    "model_cnn_batch.add(keras.layers.Conv2D(128, kernel_size=(3,3), strides=(1, 1),padding='valid', input_shape=(50, 50, 1)))\n",
    "model_cnn_batch.add(keras.layers.BatchNormalization())\n",
    "model_cnn_batch.add(keras.layers.Activation('relu'))\n",
    "\n",
    "#Maxpooling\n",
    "model_cnn_batch.add(keras.layers.MaxPool2D(pool_size=(2, 2)))\n",
    "\n",
    "\n",
    "#Conv2D + BatchNorm + Activation\n",
    "model_cnn_batch.add(keras.layers.Conv2D(128, kernel_size=(3,3), strides=(1, 1),padding='valid', input_shape=(50, 50, 1)))\n",
    "model_cnn_batch.add(keras.layers.BatchNormalization())\n",
    "model_cnn_batch.add(keras.layers.Activation('relu'))\n",
    "\n",
    "#Maxpooling\n",
    "model_cnn_batch.add(keras.layers.MaxPool2D(pool_size=(2, 2)))\n",
    "\n",
    "\n",
    "#Conv2D + BatchNorm + Activation\n",
    "model_cnn_batch.add(keras.layers.Conv2D(128, kernel_size=(3,3), strides=(1, 1),padding='valid', input_shape=(50, 50, 1)))\n",
    "model_cnn_batch.add(keras.layers.BatchNormalization())\n",
    "model_cnn_batch.add(keras.layers.Activation('relu'))\n",
    "\n",
    "#Maxpooling\n",
    "model_cnn_batch.add(keras.layers.MaxPool2D(pool_size=(2, 2)))\n",
    "\n",
    "\n",
    "#Flatten\n",
    "model_cnn_batch.add(keras.layers.Flatten())\n",
    "model_cnn_batch.add(keras.layers.Dense(units=128, activation='relu'))\n",
    "model_cnn_batch.add(keras.layers.Dense(units=128, activation='relu'))\n",
    "model_cnn_batch.add(keras.layers.Dense(units=64, activation='relu'))\n",
    "model_cnn_batch.add(keras.layers.Dense(units=32, activation='relu'))\n",
    "\n",
    "\n",
    "#Model Compiling\n",
    "optimizer = keras.optimizers.Adam()\n",
    "loss = keras.losses.SparseCategoricalCrossentropy()\n",
    "metric = [keras.metrics.CategoricalAccuracy()]\n",
    "\n",
    "model_cnn_batch.compile(optimizer=optimizer, loss=loss, metrics=['accuracy'])\n",
    "\n",
    "\n",
    "#Builing and Summury\n",
    "model_cnn_batch.build(input_shape=(None, 50, 50))\n",
    "model_cnn_batch.summary()"
   ]
  },
  {
   "cell_type": "code",
   "execution_count": 34,
   "metadata": {},
   "outputs": [
    {
     "name": "stdout",
     "output_type": "stream",
     "text": [
      "Epoch 1/20\n",
      "144/144 [==============================] - 25s 121ms/step - loss: 1.0003 - accuracy: 0.6944 - val_loss: 0.8938 - val_accuracy: 0.5743\n",
      "Epoch 2/20\n",
      "144/144 [==============================] - 8s 54ms/step - loss: 0.4629 - accuracy: 0.8258 - val_loss: 1.2315 - val_accuracy: 0.2083\n",
      "Epoch 3/20\n",
      "144/144 [==============================] - 8s 54ms/step - loss: 0.4388 - accuracy: 0.8357 - val_loss: 1.6084 - val_accuracy: 0.2968\n",
      "Epoch 4/20\n",
      "144/144 [==============================] - 8s 54ms/step - loss: 0.4020 - accuracy: 0.8473 - val_loss: 1.2950 - val_accuracy: 0.4239\n",
      "Epoch 5/20\n",
      "144/144 [==============================] - 8s 54ms/step - loss: 0.4209 - accuracy: 0.8366 - val_loss: 0.4964 - val_accuracy: 0.8049\n",
      "Epoch 6/20\n",
      "144/144 [==============================] - 8s 54ms/step - loss: 0.4184 - accuracy: 0.8449 - val_loss: 0.4300 - val_accuracy: 0.8354\n",
      "Epoch 7/20\n",
      "144/144 [==============================] - 8s 54ms/step - loss: 0.3856 - accuracy: 0.8534 - val_loss: 1.6665 - val_accuracy: 0.4784\n",
      "Epoch 8/20\n",
      "144/144 [==============================] - 8s 54ms/step - loss: 0.3636 - accuracy: 0.8635 - val_loss: 0.4125 - val_accuracy: 0.8440\n",
      "Epoch 9/20\n",
      "144/144 [==============================] - 8s 54ms/step - loss: 0.3643 - accuracy: 0.8619 - val_loss: 0.3915 - val_accuracy: 0.8486\n",
      "Epoch 10/20\n",
      "144/144 [==============================] - 8s 54ms/step - loss: 0.3367 - accuracy: 0.8755 - val_loss: 1.2739 - val_accuracy: 0.4782\n",
      "Epoch 11/20\n",
      "144/144 [==============================] - 8s 54ms/step - loss: 0.3246 - accuracy: 0.8737 - val_loss: 0.5140 - val_accuracy: 0.8125\n",
      "Epoch 12/20\n",
      "144/144 [==============================] - 8s 54ms/step - loss: 0.3120 - accuracy: 0.8833 - val_loss: 0.4416 - val_accuracy: 0.8318\n",
      "Epoch 13/20\n",
      "144/144 [==============================] - 8s 54ms/step - loss: 0.3063 - accuracy: 0.8871 - val_loss: 1.9591 - val_accuracy: 0.4541\n",
      "Epoch 14/20\n",
      "144/144 [==============================] - 8s 54ms/step - loss: 0.3051 - accuracy: 0.8840 - val_loss: 1.4772 - val_accuracy: 0.4538\n",
      "Epoch 15/20\n",
      "144/144 [==============================] - 8s 54ms/step - loss: 0.2698 - accuracy: 0.8970 - val_loss: 2.0294 - val_accuracy: 0.4701\n",
      "Epoch 16/20\n",
      "144/144 [==============================] - 8s 54ms/step - loss: 0.2558 - accuracy: 0.9102 - val_loss: 1.1280 - val_accuracy: 0.5208\n",
      "Epoch 17/20\n",
      "144/144 [==============================] - 8s 54ms/step - loss: 0.2469 - accuracy: 0.9069 - val_loss: 0.6606 - val_accuracy: 0.7922\n",
      "Epoch 18/20\n",
      "144/144 [==============================] - 8s 54ms/step - loss: 0.2338 - accuracy: 0.9159 - val_loss: 1.5153 - val_accuracy: 0.4434\n",
      "Epoch 19/20\n",
      "144/144 [==============================] - 8s 54ms/step - loss: 0.2068 - accuracy: 0.9233 - val_loss: 1.9457 - val_accuracy: 0.4696\n",
      "Epoch 20/20\n",
      "144/144 [==============================] - 8s 54ms/step - loss: 0.2025 - accuracy: 0.9313 - val_loss: 2.1775 - val_accuracy: 0.4594\n"
     ]
    }
   ],
   "source": [
    "hist = model_cnn_batch.fit(x_train, y_train, batch_size=64, epochs=20, validation_data=(x_test, y_test))"
   ]
  },
  {
   "cell_type": "code",
   "execution_count": 35,
   "metadata": {},
   "outputs": [
    {
     "data": {
      "image/png": "[encoded data removed]",
      "text/plain": [
       "<Figure size 640x480 with 1 Axes>"
      ]
     },
     "metadata": {},
     "output_type": "display_data"
    }
   ],
   "source": [
    "acc_train = hist.history['accuracy']\n",
    "acc_test = hist.history['val_accuracy']\n",
    "loss_train = hist.history['loss']\n",
    "loss_test = hist.history['val_loss']\n",
    "\n",
    "plt.axes().set_facecolor('gray')\n",
    "plt.grid('True')\n",
    "\n",
    "\n",
    "plt.plot(loss_train, color='green', label='Train loss')\n",
    "plt.plot(loss_test, color='yellow', label='Test loss')\n",
    "plt.plot(acc_train, color='blue', label='Train acc')\n",
    "plt.plot(acc_test, color='red', label='Test acc')\n",
    "\n",
    "\n",
    "plt.show()"
   ]
  },
  {
   "cell_type": "code",
   "execution_count": 37,
   "metadata": {},
   "outputs": [
    {
     "name": "stdout",
     "output_type": "stream",
     "text": [
      "y_train: 0 y_pred_train:[0.08793691 0.82523966 0.08682337]\n",
      "y_test: 1 y_pred_test:[1.0070265e-04 9.8232645e-01 1.7572848e-02]\n"
     ]
    }
   ],
   "source": [
    "y_pred_train = model_cnn_batch.predict(x_train)\n",
    "y_pred_test = model_cnn_batch.predict(x_test)\n",
    "\n",
    "index_train = random.randint(0, 9198)\n",
    "print(f'y_train: {y_train[index_train]} y_pred_train:{y_pred_train[index_train]}')\n",
    "\n",
    "index_test = random.randint(0, 3948)\n",
    "print(f'y_test: {y_test[index_test]} y_pred_test:{y_pred_test[index_test]}')"
   ]
  },
  {
   "cell_type": "code",
   "execution_count": 38,
   "metadata": {},
   "outputs": [
    {
     "data": {
      "text/plain": [
       "((3942,), (9198,))"
      ]
     },
     "execution_count": 38,
     "metadata": {},
     "output_type": "execute_result"
    }
   ],
   "source": [
    "y_pred_train_smax = softmax(y_pred_train, axis=1)\n",
    "y_pred_test_smax = softmax(y_pred_test, axis=1)\n",
    "\n",
    "y_pred_train_smax = np.argmax(y_pred_train_smax, axis=1)\n",
    "y_pred_test_smax = np.argmax(y_pred_test_smax, axis=1)\n",
    "\n",
    "\n",
    "y_pred_test_smax.shape, y_pred_train_smax.shape"
   ]
  },
  {
   "cell_type": "code",
   "execution_count": 39,
   "metadata": {},
   "outputs": [
    {
     "name": "stdout",
     "output_type": "stream",
     "text": [
      "y_train: 1 y_pred_train:2\n",
      "y_test: 0 y_pred_test:1\n"
     ]
    }
   ],
   "source": [
    "index_train = random.randint(0, 9198)\n",
    "acc_train = accuracy_score(y_train, y_pred_train_smax)\n",
    "acc_test = accuracy_score(y_test, y_pred_test_smax)\n",
    "\n",
    "p = precision_score(y_test, y_pred_test_smax, average='micro')\n",
    "r = recall_score(y_test, y_pred_test_smax, average='micro')\n",
    "\n",
    "\n",
    "print(f'Acc Train: {acc_train} - Acc Test: {acc_test} - Percision: {p} - Recall: {r}')\n",
    "print(f'y_train: {y_train[index_train]} y_pred_train:{y_pred_train_smax[index_train]}')\n",
    "\n",
    "index_test = random.randint(0, 3948)\n",
    "print(f'y_test: {y_test[index_test]} y_pred_test:{y_pred_test_smax[index_test]}')"
   ]
  },
  {
   "cell_type": "code",
   "execution_count": 40,
   "metadata": {},
   "outputs": [
    {
     "name": "stdout",
     "output_type": "stream",
     "text": [
      "Acc Train: 0.49369428136551424 - Acc Test: 0.45941146626078133 - Percision: 0.45941146626078133 - Recall: 0.45941146626078133\n"
     ]
    }
   ],
   "source": [
    "\n",
    "acc_train = accuracy_score(y_train, y_pred_train_smax)\n",
    "acc_test = accuracy_score(y_test, y_pred_test_smax)\n",
    "\n",
    "p = precision_score(y_test, y_pred_test_smax, average='micro')\n",
    "r = recall_score(y_test, y_pred_test_smax, average='micro')\n",
    "\n",
    "\n",
    "print(f'Acc Train: {acc_train} - Acc Test: {acc_test} - Percision: {p} - Recall: {r}')"
   ]
  },
  {
   "cell_type": "code",
   "execution_count": null,
   "metadata": {},
   "outputs": [],
   "source": []
  }
 ],
 "metadata": {
  "accelerator": "GPU",
  "colab": {
   "authorship_tag": "ABX9TyMILrhyJbl2A1zW9T13EV/J",
   "gpuType": "T4",
   "include_colab_link": true,
   "provenance": []
  },
  "kernelspec": {
   "display_name": "Python 3 (ipykernel)",
   "language": "python",
   "name": "python3"
  },
  "language_info": {
   "codemirror_mode": {
    "name": "ipython",
    "version": 3
   },
   "file_extension": ".py",
   "mimetype": "text/x-python",
   "name": "python",
   "nbconvert_exporter": "python",
   "pygments_lexer": "ipython3",
   "version": "3.9.19"
  }
 },
 "nbformat": 4,
 "nbformat_minor": 1
}
