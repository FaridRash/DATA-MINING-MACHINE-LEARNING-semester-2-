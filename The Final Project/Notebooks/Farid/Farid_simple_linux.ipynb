{
 "cells": [
  {
   "cell_type": "code",
   "execution_count": 1,
   "metadata": {
    "id": "at5bJWeFFBEv"
   },
   "outputs": [
    {
     "name": "stderr",
     "output_type": "stream",
     "text": [
      "2024-09-17 15:32:47.752138: I tensorflow/stream_executor/platform/default/dso_loader.cc:49] Successfully opened dynamic library libcudart.so.10.1\n"
     ]
    }
   ],
   "source": [
    "from imutils import paths\n",
    "import tensorflow as tf\n",
    "from tensorflow import keras\n",
    "import numpy as np\n",
    "import pandas as pd\n",
    "import matplotlib.pyplot as plt\n",
    "from collections import Counter\n",
    "from sklearn.model_selection import train_test_split\n",
    "import random\n",
    "from sklearn.metrics import accuracy_score, precision_score, recall_score\n",
    "from scipy.special import softmax\n",
    "from sklearn.metrics import ConfusionMatrixDisplay\n",
    "from sklearn.metrics import confusion_matrix\n"
   ]
  },
  {
   "cell_type": "code",
   "execution_count": 2,
   "metadata": {},
   "outputs": [
    {
     "name": "stdout",
     "output_type": "stream",
     "text": [
      "Num GPUs Available:  0\n"
     ]
    },
    {
     "name": "stderr",
     "output_type": "stream",
     "text": [
      "2024-09-17 15:32:49.647799: I tensorflow/compiler/jit/xla_cpu_device.cc:41] Not creating XLA devices, tf_xla_enable_xla_devices not set\n",
      "2024-09-17 15:32:49.648969: I tensorflow/stream_executor/platform/default/dso_loader.cc:49] Successfully opened dynamic library libcuda.so.1\n",
      "2024-09-17 15:32:49.656048: E tensorflow/stream_executor/cuda/cuda_driver.cc:328] failed call to cuInit: CUDA_ERROR_UNKNOWN: unknown error\n",
      "2024-09-17 15:32:49.656069: I tensorflow/stream_executor/cuda/cuda_diagnostics.cc:169] retrieving CUDA diagnostic information for host: gunner-ThinkPad-P52\n",
      "2024-09-17 15:32:49.656075: I tensorflow/stream_executor/cuda/cuda_diagnostics.cc:176] hostname: gunner-ThinkPad-P52\n",
      "2024-09-17 15:32:49.656159: I tensorflow/stream_executor/cuda/cuda_diagnostics.cc:200] libcuda reported version is: 535.171.4\n",
      "2024-09-17 15:32:49.656179: I tensorflow/stream_executor/cuda/cuda_diagnostics.cc:204] kernel reported version is: 535.171.4\n",
      "2024-09-17 15:32:49.656185: I tensorflow/stream_executor/cuda/cuda_diagnostics.cc:310] kernel version seems to match DSO: 535.171.4\n"
     ]
    }
   ],
   "source": [
    "print(\"Num GPUs Available: \", len(tf.config.list_physical_devices('GPU')))"
   ]
  },
  {
   "cell_type": "code",
   "execution_count": 3,
   "metadata": {},
   "outputs": [
    {
     "data": {
      "text/plain": [
       "[]"
      ]
     },
     "execution_count": 3,
     "metadata": {},
     "output_type": "execute_result"
    }
   ],
   "source": [
    "tf.config.list_physical_devices('GPU')"
   ]
  },
  {
   "cell_type": "markdown",
   "metadata": {},
   "source": [
    "#**Fetching**"
   ]
  },
  {
   "cell_type": "code",
   "execution_count": 4,
   "metadata": {
    "colab": {
     "base_uri": "https://localhost:8080/"
    },
    "id": "5M1CL73yFqJd",
    "outputId": "196459b5-efd5-4c82-d3fe-307d9dcfb9f4"
   },
   "outputs": [
    {
     "name": "stderr",
     "output_type": "stream",
     "text": [
      "2024-09-17 15:32:49.692706: I tensorflow/core/platform/cpu_feature_guard.cc:142] This TensorFlow binary is optimized with oneAPI Deep Neural Network Library (oneDNN) to use the following CPU instructions in performance-critical operations:  SSE4.1 SSE4.2 AVX AVX2 FMA\n",
      "To enable them in other operations, rebuild TensorFlow with the appropriate compiler flags.\n",
      "2024-09-17 15:32:49.693546: I tensorflow/compiler/jit/xla_gpu_device.cc:99] Not creating XLA devices, tf_xla_enable_xla_devices not set\n"
     ]
    },
    {
     "name": "stdout",
     "output_type": "stream",
     "text": [
      "Loaded FR0... 6066 files has loaded.\n"
     ]
    }
   ],
   "source": [
    "# Reading FRI Images\n",
    "imagePaths = list(paths.list_images(r\"/media/gunner/5A300FFA300FDC3F/My Projects/Temp/Data-Mining/Dataset/FR0\"))\n",
    "\n",
    "data = []\n",
    "data_cropped = []\n",
    "labels = []\n",
    "label = 0\n",
    "counter_0 = 0\n",
    "\n",
    "for imagePath in imagePaths:\n",
    "  image = tf.io.read_file(imagePath)\n",
    "  image = tf.image.decode_image(image, channels=1)\n",
    "  data.append(image)\n",
    "  image = tf.image.crop_to_bounding_box(image, 124, 124, 50, 50)\n",
    "  data_cropped.append(image)\n",
    "  labels.append(label)\n",
    "  counter_0 += 1\n",
    "print(f'Loaded FR0... {counter_0} files has loaded.')"
   ]
  },
  {
   "cell_type": "code",
   "execution_count": 5,
   "metadata": {
    "colab": {
     "base_uri": "https://localhost:8080/"
    },
    "id": "9NmnZ6cZjobL",
    "outputId": "11ef93bc-1237-41bc-b595-1c382c54d63a"
   },
   "outputs": [
    {
     "name": "stdout",
     "output_type": "stream",
     "text": [
      "Loaded FRI... 5008 files has loaded.\n"
     ]
    }
   ],
   "source": [
    "# Reading FRI Images\n",
    "imagePaths = list(paths.list_images(r\"/media/gunner/5A300FFA300FDC3F/My Projects/Temp/Data-Mining/Dataset/FRI\"))\n",
    "\n",
    "\n",
    "label = 1\n",
    "counter_1 = 0\n",
    "\n",
    "for imagePath in imagePaths:\n",
    "  image = tf.io.read_file(imagePath)\n",
    "  image = tf.image.decode_image(image, channels=1)\n",
    "  data.append(image)\n",
    "  image = tf.image.crop_to_bounding_box(image, 124, 124, 50, 50)\n",
    "  data_cropped.append(image)\n",
    "  labels.append(label)\n",
    "  counter_1 += 1\n",
    "print(f'Loaded FRI... {counter_1} files has loaded.')"
   ]
  },
  {
   "cell_type": "code",
   "execution_count": 6,
   "metadata": {
    "colab": {
     "base_uri": "https://localhost:8080/"
    },
    "id": "Ni70OrxGP6CG",
    "outputId": "c29db458-124f-4459-f61e-0578e0806de0"
   },
   "outputs": [
    {
     "name": "stdout",
     "output_type": "stream",
     "text": [
      "Loaded FRII... 2066 files has loaded.\n"
     ]
    }
   ],
   "source": [
    "# Reading FRI Images\n",
    "imagePaths = list(paths.list_images(r\"/media/gunner/5A300FFA300FDC3F/My Projects/Temp/Data-Mining/Dataset/FRII\"))\n",
    "\n",
    "label = 2\n",
    "counter_2 = 0\n",
    "\n",
    "for imagePath in imagePaths:\n",
    "  image = tf.io.read_file(imagePath)\n",
    "  image = tf.image.decode_image(image, channels=1)\n",
    "  data.append(image)\n",
    "  image = tf.image.crop_to_bounding_box(image, 124, 124, 50, 50)\n",
    "  data_cropped.append(image)\n",
    "  labels.append(label)\n",
    "  counter_2 += 1\n",
    "print(f'Loaded FRII... {counter_2} files has loaded.')"
   ]
  },
  {
   "cell_type": "markdown",
   "metadata": {
    "id": "C_EYq2cD2S9o"
   },
   "source": [
    "#**EDA**"
   ]
  },
  {
   "cell_type": "code",
   "execution_count": 7,
   "metadata": {
    "colab": {
     "base_uri": "https://localhost:8080/",
     "height": 472
    },
    "id": "WxXep8unzj8T",
    "outputId": "d1ae5a94-0faf-4130-ec04-b777a6a9daf5"
   },
   "outputs": [
    {
     "data": {
      "image/png": "[encoded data removed]",
      "text/plain": [
       "<Figure size 640x480 with 1 Axes>"
      ]
     },
     "metadata": {},
     "output_type": "display_data"
    }
   ],
   "source": [
    "counter = Counter(labels)\n",
    "sorted_counts = dict(sorted(counter.items()))\n",
    "plt.bar(sorted_counts.keys(), sorted_counts.values(), color='skyblue')\n",
    "plt.xlabel('Class')\n",
    "plt.ylabel('Count')\n",
    "plt.title('Count of Each Class in the Dataset')\n",
    "plt.xticks(range(3))\n",
    "plt.show()"
   ]
  },
  {
   "cell_type": "code",
   "execution_count": 8,
   "metadata": {
    "id": "AgbTDA9wQEWw"
   },
   "outputs": [],
   "source": [
    "labels = np.array(labels,dtype='uint8')\n",
    "data = np.array(data,dtype='uint8')\n",
    "data_cropped = np.array(data_cropped,dtype='uint8')"
   ]
  },
  {
   "cell_type": "code",
   "execution_count": 9,
   "metadata": {
    "colab": {
     "base_uri": "https://localhost:8080/",
     "height": 205
    },
    "id": "4l5LfN-uS8iz",
    "outputId": "fcd8e013-b734-4a25-c32b-3fbb4d15b40e"
   },
   "outputs": [
    {
     "data": {
      "image/png": "[encoded data removed]",
      "text/plain": [
       "<Figure size 640x480 with 3 Axes>"
      ]
     },
     "metadata": {},
     "output_type": "display_data"
    }
   ],
   "source": [
    "image = np.squeeze(data[0])\n",
    "plt.subplot(1, 3, 1)\n",
    "plt.imshow(image, cmap='gray')\n",
    "plt.axis('off')\n",
    "plt.title(f\"Image at FR0\")\n",
    "\n",
    "image = np.squeeze(data[6066])\n",
    "plt.subplot(1, 3, 2)\n",
    "plt.imshow(image, cmap='gray')\n",
    "plt.axis('off')\n",
    "plt.title(f\"Image at FRI\")\n",
    "\n",
    "image = np.squeeze(data[11075])\n",
    "plt.subplot(1, 3, 3)\n",
    "plt.imshow(image, cmap='gray')\n",
    "plt.axis('off')\n",
    "plt.title(f\"Image at FRII\")\n",
    "\n",
    "\n",
    "plt.show()"
   ]
  },
  {
   "cell_type": "code",
   "execution_count": 10,
   "metadata": {
    "colab": {
     "base_uri": "https://localhost:8080/",
     "height": 205
    },
    "id": "AwomotIWl0aV",
    "outputId": "850936fc-78fd-4f77-cafb-2842404953bd"
   },
   "outputs": [
    {
     "data": {
      "image/png": "[encoded data removed]",
      "text/plain": [
       "<Figure size 640x480 with 3 Axes>"
      ]
     },
     "metadata": {},
     "output_type": "display_data"
    }
   ],
   "source": [
    "image = np.squeeze(data_cropped[0])\n",
    "plt.subplot(1, 3, 1)\n",
    "plt.imshow(image, cmap='gray')\n",
    "plt.axis('off')\n",
    "plt.title(f\"Image at FR0\")\n",
    "\n",
    "image = np.squeeze(data_cropped[6066])\n",
    "plt.subplot(1, 3, 2)\n",
    "plt.imshow(image, cmap='gray')\n",
    "plt.axis('off')\n",
    "plt.title(f\"Image at FRI\")\n",
    "\n",
    "image = np.squeeze(data_cropped[11075])\n",
    "plt.subplot(1, 3, 3)\n",
    "plt.imshow(image, cmap='gray')\n",
    "plt.axis('off')\n",
    "plt.title(f\"Image at FRII\")\n",
    "\n",
    "\n",
    "plt.show()"
   ]
  },
  {
   "cell_type": "code",
   "execution_count": 11,
   "metadata": {},
   "outputs": [
    {
     "data": {
      "text/plain": [
       "((13140, 300, 300, 1), (13140, 50, 50, 1))"
      ]
     },
     "execution_count": 11,
     "metadata": {},
     "output_type": "execute_result"
    }
   ],
   "source": [
    "data.shape, data_cropped.shape"
   ]
  },
  {
   "cell_type": "code",
   "execution_count": 12,
   "metadata": {
    "colab": {
     "base_uri": "https://localhost:8080/"
    },
    "id": "TFdup12Eh4El",
    "outputId": "f55e31f6-39a1-4abc-f222-a42e47a140a2"
   },
   "outputs": [
    {
     "data": {
      "text/plain": [
       "(0, 248)"
      ]
     },
     "execution_count": 12,
     "metadata": {},
     "output_type": "execute_result"
    }
   ],
   "source": [
    "np.min(data_cropped[0]), np.max(data_cropped[0])"
   ]
  },
  {
   "cell_type": "markdown",
   "metadata": {
    "id": "3javIkUqrHCu"
   },
   "source": [
    "#**Preprocessing**"
   ]
  },
  {
   "cell_type": "code",
   "execution_count": 13,
   "metadata": {
    "id": "zpeQhX80ruoD"
   },
   "outputs": [],
   "source": [
    "data_normalized = data_cropped / 255"
   ]
  },
  {
   "cell_type": "code",
   "execution_count": 14,
   "metadata": {
    "colab": {
     "base_uri": "https://localhost:8080/"
    },
    "id": "5FNEuTr7r3vt",
    "outputId": "2b6030e1-9a1c-487a-e49f-1c972fd03314"
   },
   "outputs": [
    {
     "name": "stdout",
     "output_type": "stream",
     "text": [
      "Min of original = 0\n",
      "Max of original = 248\n",
      "Min of original = 0.0\n",
      "Max of original = 0.9725490196078431\n"
     ]
    }
   ],
   "source": [
    "print(f'Min of original = {np.min(data_cropped[0])}')\n",
    "print(f'Max of original = {np.max(data_cropped[0])}')\n",
    "print(f'Min of original = {np.min(data_normalized[0])}')\n",
    "print(f'Max of original = {np.max(data_normalized[0])}')"
   ]
  },
  {
   "cell_type": "code",
   "execution_count": 15,
   "metadata": {
    "colab": {
     "base_uri": "https://localhost:8080/",
     "height": 507
    },
    "id": "ctW2qI2Wwov1",
    "outputId": "80bf6a8c-7ce4-4e0a-c50a-607f825fa5a2"
   },
   "outputs": [
    {
     "data": {
      "image/png": "[encoded data removed]",
      "text/plain": [
       "<Figure size 1000x500 with 2 Axes>"
      ]
     },
     "metadata": {},
     "output_type": "display_data"
    }
   ],
   "source": [
    "cropped_flat = data_cropped.flatten()\n",
    "normalized_flat = data_normalized.flatten()\n",
    "\n",
    "plt.figure(figsize=(10, 5))\n",
    "\n",
    "plt.subplot(1, 2, 1)\n",
    "plt.boxplot(cropped_flat)\n",
    "plt.title(\"Original Pixel Values (0-255)\")\n",
    "plt.ylabel(\"Pixel Intensity\")\n",
    "\n",
    "plt.subplot(1, 2, 2)\n",
    "plt.boxplot(normalized_flat)\n",
    "plt.title(\"Normalized Pixel Values (0-1)\")\n",
    "plt.ylabel(\"Pixel Intensity\")\n",
    "\n",
    "plt.tight_layout()\n",
    "plt.show()"
   ]
  },
  {
   "cell_type": "markdown",
   "metadata": {
    "id": "IUaWnZu7n2LV"
   },
   "source": [
    "#**Splitting**"
   ]
  },
  {
   "cell_type": "code",
   "execution_count": 16,
   "metadata": {
    "colab": {
     "base_uri": "https://localhost:8080/"
    },
    "id": "wo4aF9gKm17L",
    "outputId": "35d329ea-7127-49a8-b15b-45797487450d"
   },
   "outputs": [
    {
     "data": {
      "text/plain": [
       "((9198, 50, 50, 1), (9198,), (3942, 50, 50, 1), (3942,))"
      ]
     },
     "execution_count": 16,
     "metadata": {},
     "output_type": "execute_result"
    }
   ],
   "source": [
    "x = data_normalized\n",
    "y = labels\n",
    "x_train, x_test, y_train, y_test = train_test_split(x, y, test_size=0.3)\n",
    "\n",
    "x_train.shape, y_train.shape, x_test.shape, y_test.shape"
   ]
  },
  {
   "cell_type": "code",
   "execution_count": 17,
   "metadata": {},
   "outputs": [],
   "source": [
    "x_train_flatten = tf.reshape(x_train, (9198, -1))\n",
    "x_test_flatten = tf.reshape(x_test, (3942, -1))"
   ]
  },
  {
   "cell_type": "code",
   "execution_count": 18,
   "metadata": {},
   "outputs": [
    {
     "data": {
      "text/plain": [
       "(TensorShape([9198, 2500]),\n",
       " (9198, 50, 50, 1),\n",
       " TensorShape([3942, 2500]),\n",
       " (3942, 50, 50, 1))"
      ]
     },
     "execution_count": 18,
     "metadata": {},
     "output_type": "execute_result"
    }
   ],
   "source": [
    "x_train_flatten.shape, x_train.shape, x_test_flatten.shape, x_test.shape"
   ]
  },
  {
   "cell_type": "markdown",
   "metadata": {},
   "source": [
    "#PCA"
   ]
  },
  {
   "cell_type": "code",
   "execution_count": 19,
   "metadata": {},
   "outputs": [],
   "source": [
    "from sklearn.decomposition import PCA\n",
    "\n",
    "pca = PCA(n_components=32)\n",
    "\n",
    "x_train_pca = pca.fit_transform(x_train_flatten)\n",
    "x_test_pca = pca.transform(x_test_flatten)\n"
   ]
  },
  {
   "cell_type": "code",
   "execution_count": 20,
   "metadata": {},
   "outputs": [
    {
     "data": {
      "text/plain": [
       "(9198, 32)"
      ]
     },
     "execution_count": 20,
     "metadata": {},
     "output_type": "execute_result"
    }
   ],
   "source": [
    "x_train_pca.shape"
   ]
  },
  {
   "cell_type": "markdown",
   "metadata": {},
   "source": [
    "#**Model definition**"
   ]
  },
  {
   "cell_type": "code",
   "execution_count": 76,
   "metadata": {
    "id": "deVyf-K-2d2r"
   },
   "outputs": [
    {
     "name": "stdout",
     "output_type": "stream",
     "text": [
      "Model: \"sequential_5\"\n",
      "_________________________________________________________________\n",
      "Layer (type)                 Output Shape              Param #   \n",
      "=================================================================\n",
      "flatten_5 (Flatten)          (None, 32)                0         \n",
      "_________________________________________________________________\n",
      "dense_30 (Dense)             (None, 256)               8448      \n",
      "_________________________________________________________________\n",
      "dropout_23 (Dropout)         (None, 256)               0         \n",
      "_________________________________________________________________\n",
      "dense_31 (Dense)             (None, 128)               32896     \n",
      "_________________________________________________________________\n",
      "dropout_24 (Dropout)         (None, 128)               0         \n",
      "_________________________________________________________________\n",
      "dense_32 (Dense)             (None, 64)                8256      \n",
      "_________________________________________________________________\n",
      "dropout_25 (Dropout)         (None, 64)                0         \n",
      "_________________________________________________________________\n",
      "dense_33 (Dense)             (None, 32)                2080      \n",
      "_________________________________________________________________\n",
      "dropout_26 (Dropout)         (None, 32)                0         \n",
      "_________________________________________________________________\n",
      "dense_34 (Dense)             (None, 16)                528       \n",
      "_________________________________________________________________\n",
      "dropout_27 (Dropout)         (None, 16)                0         \n",
      "_________________________________________________________________\n",
      "dense_35 (Dense)             (None, 3)                 51        \n",
      "=================================================================\n",
      "Total params: 52,259\n",
      "Trainable params: 52,259\n",
      "Non-trainable params: 0\n",
      "_________________________________________________________________\n"
     ]
    }
   ],
   "source": [
    "model = keras.Sequential()\n",
    "model.add(keras.layers.Flatten())\n",
    "model.add(keras.layers.Dense(units=256, activation='relu', input_shape=(32, 1)))\n",
    "model.add(keras.layers.Dropout(0.5))\n",
    "model.add(keras.layers.Dense(units=128, activation='relu'))\n",
    "model.add(keras.layers.Dropout(0.4))\n",
    "model.add(keras.layers.Dense(units=64, activation='relu'))\n",
    "model.add(keras.layers.Dropout(0.3))\n",
    "model.add(keras.layers.Dense(units=32, activation='relu'))\n",
    "model.add(keras.layers.Dropout(0.2))\n",
    "model.add(keras.layers.Dense(units=16, activation='relu'))\n",
    "model.add(keras.layers.Dropout(0.1))\n",
    "\n",
    "\n",
    "model.add(keras.layers.Dense(units=3, activation=keras.activations.softmax))\n",
    "\n",
    "\n",
    "#Model Compiling\n",
    "optimizer = keras.optimizers.Adam(learning_rate=0.0001)\n",
    "loss = keras.losses.SparseCategoricalCrossentropy()\n",
    "metric = keras.metrics.CategoricalAccuracy()\n",
    "\n",
    "model.compile(optimizer=optimizer, loss=loss, metrics=['accuracy'])\n",
    "\n",
    "\n",
    "#Builing and Summury\n",
    "model.build(input_shape=(None, 32))\n",
    "model.summary()"
   ]
  },
  {
   "cell_type": "code",
   "execution_count": 77,
   "metadata": {},
   "outputs": [],
   "source": [
    "early_stopping = tf.keras.callbacks.EarlyStopping(monitor='val_loss', patience=10, restore_best_weights=True)"
   ]
  },
  {
   "cell_type": "code",
   "execution_count": 78,
   "metadata": {
    "colab": {
     "base_uri": "https://localhost:8080/",
     "height": 1000
    },
    "id": "_ruBY4as6Kj7",
    "outputId": "c402ff72-9937-48fc-fd4c-262d41b7a1af"
   },
   "outputs": [
    {
     "name": "stdout",
     "output_type": "stream",
     "text": [
      "Epoch 1/50\n",
      "288/288 [==============================] - 1s 3ms/step - loss: 1.1394 - accuracy: 0.4375 - val_loss: 0.9913 - val_accuracy: 0.5870\n",
      "Epoch 2/50\n",
      "288/288 [==============================] - 1s 2ms/step - loss: 0.9673 - accuracy: 0.5535 - val_loss: 0.7696 - val_accuracy: 0.7212\n",
      "Epoch 3/50\n",
      "288/288 [==============================] - 1s 2ms/step - loss: 0.8007 - accuracy: 0.6692 - val_loss: 0.6463 - val_accuracy: 0.7593\n",
      "Epoch 4/50\n",
      "288/288 [==============================] - 1s 2ms/step - loss: 0.7000 - accuracy: 0.7235 - val_loss: 0.5829 - val_accuracy: 0.7770\n",
      "Epoch 5/50\n",
      "288/288 [==============================] - 1s 2ms/step - loss: 0.6473 - accuracy: 0.7400 - val_loss: 0.5565 - val_accuracy: 0.7818\n",
      "Epoch 6/50\n",
      "288/288 [==============================] - 1s 3ms/step - loss: 0.6249 - accuracy: 0.7567 - val_loss: 0.5424 - val_accuracy: 0.7902\n",
      "Epoch 7/50\n",
      "288/288 [==============================] - 1s 3ms/step - loss: 0.6173 - accuracy: 0.7543 - val_loss: 0.5338 - val_accuracy: 0.7940\n",
      "Epoch 8/50\n",
      "288/288 [==============================] - 1s 3ms/step - loss: 0.5929 - accuracy: 0.7598 - val_loss: 0.5226 - val_accuracy: 0.7948\n",
      "Epoch 9/50\n",
      "288/288 [==============================] - 1s 2ms/step - loss: 0.5878 - accuracy: 0.7710 - val_loss: 0.5132 - val_accuracy: 0.7998\n",
      "Epoch 10/50\n",
      "288/288 [==============================] - 1s 2ms/step - loss: 0.5879 - accuracy: 0.7740 - val_loss: 0.5047 - val_accuracy: 0.7998\n",
      "Epoch 11/50\n",
      "288/288 [==============================] - 1s 2ms/step - loss: 0.5713 - accuracy: 0.7758 - val_loss: 0.5001 - val_accuracy: 0.8031\n",
      "Epoch 12/50\n",
      "288/288 [==============================] - 1s 2ms/step - loss: 0.5573 - accuracy: 0.7867 - val_loss: 0.4926 - val_accuracy: 0.8044\n",
      "Epoch 13/50\n",
      "288/288 [==============================] - 1s 2ms/step - loss: 0.5498 - accuracy: 0.7865 - val_loss: 0.4883 - val_accuracy: 0.8064\n",
      "Epoch 14/50\n",
      "288/288 [==============================] - 1s 2ms/step - loss: 0.5618 - accuracy: 0.7855 - val_loss: 0.4821 - val_accuracy: 0.8080\n",
      "Epoch 15/50\n",
      "288/288 [==============================] - 1s 2ms/step - loss: 0.5396 - accuracy: 0.7931 - val_loss: 0.4775 - val_accuracy: 0.8105\n",
      "Epoch 16/50\n",
      "288/288 [==============================] - 1s 2ms/step - loss: 0.5436 - accuracy: 0.7937 - val_loss: 0.4749 - val_accuracy: 0.8113\n",
      "Epoch 17/50\n",
      "288/288 [==============================] - 1s 2ms/step - loss: 0.5165 - accuracy: 0.8060 - val_loss: 0.4725 - val_accuracy: 0.8090\n",
      "Epoch 18/50\n",
      "288/288 [==============================] - 1s 2ms/step - loss: 0.5180 - accuracy: 0.8015 - val_loss: 0.4698 - val_accuracy: 0.8146\n",
      "Epoch 19/50\n",
      "288/288 [==============================] - 1s 2ms/step - loss: 0.5201 - accuracy: 0.8011 - val_loss: 0.4686 - val_accuracy: 0.8138\n",
      "Epoch 20/50\n",
      "288/288 [==============================] - 1s 2ms/step - loss: 0.5091 - accuracy: 0.8089 - val_loss: 0.4631 - val_accuracy: 0.8189\n",
      "Epoch 21/50\n",
      "288/288 [==============================] - 1s 2ms/step - loss: 0.5074 - accuracy: 0.8153 - val_loss: 0.4629 - val_accuracy: 0.8171\n",
      "Epoch 22/50\n",
      "288/288 [==============================] - 1s 2ms/step - loss: 0.5065 - accuracy: 0.8123 - val_loss: 0.4626 - val_accuracy: 0.8194\n",
      "Epoch 23/50\n",
      "288/288 [==============================] - 1s 2ms/step - loss: 0.5184 - accuracy: 0.8069 - val_loss: 0.4598 - val_accuracy: 0.8189\n",
      "Epoch 24/50\n",
      "288/288 [==============================] - 1s 2ms/step - loss: 0.4885 - accuracy: 0.8121 - val_loss: 0.4556 - val_accuracy: 0.8222\n",
      "Epoch 25/50\n",
      "288/288 [==============================] - 1s 2ms/step - loss: 0.4916 - accuracy: 0.8187 - val_loss: 0.4567 - val_accuracy: 0.8227\n",
      "Epoch 26/50\n",
      "288/288 [==============================] - 1s 2ms/step - loss: 0.4909 - accuracy: 0.8144 - val_loss: 0.4544 - val_accuracy: 0.8212\n",
      "Epoch 27/50\n",
      "288/288 [==============================] - 1s 2ms/step - loss: 0.4970 - accuracy: 0.8090 - val_loss: 0.4539 - val_accuracy: 0.8227\n",
      "Epoch 28/50\n",
      "288/288 [==============================] - 1s 2ms/step - loss: 0.5044 - accuracy: 0.8111 - val_loss: 0.4523 - val_accuracy: 0.8227\n",
      "Epoch 29/50\n",
      "288/288 [==============================] - 1s 2ms/step - loss: 0.4793 - accuracy: 0.8231 - val_loss: 0.4555 - val_accuracy: 0.8222\n",
      "Epoch 30/50\n",
      "288/288 [==============================] - 1s 2ms/step - loss: 0.4864 - accuracy: 0.8178 - val_loss: 0.4504 - val_accuracy: 0.8237\n",
      "Epoch 31/50\n",
      "288/288 [==============================] - 1s 2ms/step - loss: 0.4901 - accuracy: 0.8132 - val_loss: 0.4518 - val_accuracy: 0.8255\n",
      "Epoch 32/50\n",
      "288/288 [==============================] - 1s 2ms/step - loss: 0.4722 - accuracy: 0.8201 - val_loss: 0.4482 - val_accuracy: 0.8232\n",
      "Epoch 33/50\n",
      "288/288 [==============================] - 1s 2ms/step - loss: 0.4890 - accuracy: 0.8213 - val_loss: 0.4458 - val_accuracy: 0.8278\n",
      "Epoch 34/50\n",
      "288/288 [==============================] - 1s 2ms/step - loss: 0.4780 - accuracy: 0.8183 - val_loss: 0.4453 - val_accuracy: 0.8242\n",
      "Epoch 35/50\n",
      "288/288 [==============================] - 1s 2ms/step - loss: 0.4795 - accuracy: 0.8197 - val_loss: 0.4414 - val_accuracy: 0.8270\n",
      "Epoch 36/50\n",
      "288/288 [==============================] - 1s 2ms/step - loss: 0.4753 - accuracy: 0.8301 - val_loss: 0.4428 - val_accuracy: 0.8275\n",
      "Epoch 37/50\n",
      "288/288 [==============================] - 1s 2ms/step - loss: 0.4758 - accuracy: 0.8170 - val_loss: 0.4446 - val_accuracy: 0.8247\n",
      "Epoch 38/50\n",
      "288/288 [==============================] - 1s 2ms/step - loss: 0.4700 - accuracy: 0.8226 - val_loss: 0.4421 - val_accuracy: 0.8260\n",
      "Epoch 39/50\n",
      "288/288 [==============================] - 1s 2ms/step - loss: 0.4688 - accuracy: 0.8294 - val_loss: 0.4438 - val_accuracy: 0.8260\n",
      "Epoch 40/50\n",
      "288/288 [==============================] - 1s 2ms/step - loss: 0.4671 - accuracy: 0.8259 - val_loss: 0.4425 - val_accuracy: 0.8250\n",
      "Epoch 41/50\n",
      "288/288 [==============================] - 1s 2ms/step - loss: 0.4572 - accuracy: 0.8331 - val_loss: 0.4422 - val_accuracy: 0.8247\n",
      "Epoch 42/50\n",
      "288/288 [==============================] - 1s 2ms/step - loss: 0.4667 - accuracy: 0.8226 - val_loss: 0.4392 - val_accuracy: 0.8275\n",
      "Epoch 43/50\n",
      "288/288 [==============================] - 1s 2ms/step - loss: 0.4816 - accuracy: 0.8242 - val_loss: 0.4414 - val_accuracy: 0.8278\n",
      "Epoch 44/50\n",
      "288/288 [==============================] - 1s 2ms/step - loss: 0.4629 - accuracy: 0.8276 - val_loss: 0.4370 - val_accuracy: 0.8298\n",
      "Epoch 45/50\n",
      "288/288 [==============================] - 1s 2ms/step - loss: 0.4699 - accuracy: 0.8225 - val_loss: 0.4391 - val_accuracy: 0.8278\n",
      "Epoch 46/50\n",
      "288/288 [==============================] - 1s 2ms/step - loss: 0.4815 - accuracy: 0.8152 - val_loss: 0.4368 - val_accuracy: 0.8288\n",
      "Epoch 47/50\n",
      "288/288 [==============================] - 1s 2ms/step - loss: 0.4523 - accuracy: 0.8316 - val_loss: 0.4364 - val_accuracy: 0.8290\n",
      "Epoch 48/50\n",
      "288/288 [==============================] - 1s 2ms/step - loss: 0.4485 - accuracy: 0.8312 - val_loss: 0.4379 - val_accuracy: 0.8283\n",
      "Epoch 49/50\n",
      "288/288 [==============================] - 1s 2ms/step - loss: 0.4465 - accuracy: 0.8303 - val_loss: 0.4351 - val_accuracy: 0.8283\n",
      "Epoch 50/50\n",
      "288/288 [==============================] - 1s 2ms/step - loss: 0.4437 - accuracy: 0.8430 - val_loss: 0.4331 - val_accuracy: 0.8321\n"
     ]
    }
   ],
   "source": [
    "import time\n",
    "\n",
    "start = time.perf_counter()\n",
    "hist = model.fit(x_train_pca, y_train, batch_size=32, epochs=50, validation_data=(x_test_pca, y_test), callbacks=early_stopping)\n",
    "end = time.perf_counter()"
   ]
  },
  {
   "cell_type": "code",
   "execution_count": 79,
   "metadata": {},
   "outputs": [
    {
     "data": {
      "text/plain": [
       "31.15151388200138"
      ]
     },
     "execution_count": 79,
     "metadata": {},
     "output_type": "execute_result"
    }
   ],
   "source": [
    "end - start"
   ]
  },
  {
   "cell_type": "code",
   "execution_count": 80,
   "metadata": {
    "id": "ZRqQ-fgq_uO_"
   },
   "outputs": [
    {
     "data": {
      "image/png": "[encoded data removed]",
      "text/plain": [
       "<Figure size 640x480 with 1 Axes>"
      ]
     },
     "metadata": {},
     "output_type": "display_data"
    }
   ],
   "source": [
    "plt.axes().set_facecolor('gray')\n",
    "plt.grid('True')\n",
    "\n",
    "loss = hist.history['loss']\n",
    "val_loss = hist.history['val_loss']\n",
    "plt.plot(loss, color='green')\n",
    "plt.plot(val_loss, color='yellow')\n",
    "\n",
    "acc_hist_train = hist.history['accuracy']\n",
    "val_acc_hist_test = hist.history['val_accuracy']\n",
    "plt.plot(acc_hist_train, color='blue')\n",
    "plt.plot(val_acc_hist_test, color='red')\n",
    "\n",
    "\n",
    "\n",
    "plt.show()\n"
   ]
  },
  {
   "cell_type": "code",
   "execution_count": 81,
   "metadata": {},
   "outputs": [
    {
     "name": "stdout",
     "output_type": "stream",
     "text": [
      "y_train: 1 y_pred_train:[0.10711178 0.62109506 0.2717931 ]\n",
      "y_test: 1 y_pred_test:[0.04655638 0.9222425  0.03120116]\n"
     ]
    }
   ],
   "source": [
    "y_pred_train = model.predict(x_train_pca)\n",
    "y_pred_test = model.predict(x_test_pca)\n",
    "\n",
    "index_train = random.randint(0, 9198)\n",
    "print(f'y_train: {y_train[index_train]} y_pred_train:{y_pred_train[index_train]}')\n",
    "\n",
    "index_test = random.randint(0, 3948)\n",
    "print(f'y_test: {y_test[index_test]} y_pred_test:{y_pred_test[index_test]}')"
   ]
  },
  {
   "cell_type": "code",
   "execution_count": 82,
   "metadata": {},
   "outputs": [
    {
     "data": {
      "text/plain": [
       "((3942,), (9198,))"
      ]
     },
     "execution_count": 82,
     "metadata": {},
     "output_type": "execute_result"
    }
   ],
   "source": [
    "\n",
    "y_pred_train_smax = softmax(y_pred_train, axis=1)\n",
    "y_pred_test_smax = softmax(y_pred_test, axis=1)\n",
    " \n",
    "y_pred_train_smax = np.argmax(y_pred_train_smax, axis=1)\n",
    "y_pred_test_smax = np.argmax(y_pred_test_smax, axis=1)\n",
    "\n",
    "\n",
    "y_pred_test_smax.shape, y_pred_train_smax.shape"
   ]
  },
  {
   "cell_type": "code",
   "execution_count": 83,
   "metadata": {},
   "outputs": [
    {
     "name": "stdout",
     "output_type": "stream",
     "text": [
      "y_train: 0 y_pred_train:0\n",
      "y_test: 1 y_pred_test:1\n"
     ]
    }
   ],
   "source": [
    "index_train = random.randint(0, 9198)\n",
    "print(f'y_train: {y_train[index_train]} y_pred_train:{y_pred_train_smax[index_train]}')\n",
    "\n",
    "index_test = random.randint(0, 3948)\n",
    "print(f'y_test: {y_test[index_test]} y_pred_test:{y_pred_test_smax[index_test]}')"
   ]
  },
  {
   "cell_type": "code",
   "execution_count": 84,
   "metadata": {},
   "outputs": [
    {
     "name": "stdout",
     "output_type": "stream",
     "text": [
      "Acc Train: 0.8540987171124157 - Acc Test: 0.8320649416539827 - Percision: 0.8320649416539827 - Recall: 0.8320649416539827\n"
     ]
    }
   ],
   "source": [
    "\n",
    "acc_train = accuracy_score(y_train, y_pred_train_smax)\n",
    "acc_test = accuracy_score(y_test, y_pred_test_smax)\n",
    "\n",
    "p = precision_score(y_test, y_pred_test_smax, average='micro')\n",
    "r = recall_score(y_test, y_pred_test_smax, average='micro')\n",
    "\n",
    "\n",
    "print(f'Acc Train: {acc_train} - Acc Test: {acc_test} - Percision: {p} - Recall: {r}')"
   ]
  },
  {
   "cell_type": "code",
   "execution_count": 85,
   "metadata": {},
   "outputs": [
    {
     "data": {
      "text/plain": [
       "<sklearn.metrics._plot.confusion_matrix.ConfusionMatrixDisplay at 0x748c610d2cd0>"
      ]
     },
     "execution_count": 85,
     "metadata": {},
     "output_type": "execute_result"
    },
    {
     "data": {
      "image/png": "[encoded data removed]",
      "text/plain": [
       "<Figure size 640x480 with 2 Axes>"
      ]
     },
     "metadata": {},
     "output_type": "display_data"
    }
   ],
   "source": [
    "con_mat_train = confusion_matrix(y_train, y_pred_train_smax)\n",
    "\n",
    "disp = ConfusionMatrixDisplay(con_mat_train)\n",
    "\n",
    "disp.plot()"
   ]
  },
  {
   "cell_type": "code",
   "execution_count": 86,
   "metadata": {},
   "outputs": [
    {
     "data": {
      "text/plain": [
       "<sklearn.metrics._plot.confusion_matrix.ConfusionMatrixDisplay at 0x748c60daadc0>"
      ]
     },
     "execution_count": 86,
     "metadata": {},
     "output_type": "execute_result"
    },
    {
     "data": {
      "image/png": "[encoded data removed]",
      "text/plain": [
       "<Figure size 640x480 with 2 Axes>"
      ]
     },
     "metadata": {},
     "output_type": "display_data"
    }
   ],
   "source": [
    "con_mat_test = confusion_matrix(y_test, y_pred_test_smax)\n",
    "\n",
    "disp = ConfusionMatrixDisplay(con_mat_test)\n",
    "\n",
    "disp.plot()"
   ]
  },
  {
   "cell_type": "code",
   "execution_count": null,
   "metadata": {},
   "outputs": [],
   "source": []
  },
  {
   "cell_type": "code",
   "execution_count": null,
   "metadata": {},
   "outputs": [],
   "source": []
  }
 ],
 "metadata": {
  "accelerator": "GPU",
  "colab": {
   "authorship_tag": "ABX9TyMILrhyJbl2A1zW9T13EV/J",
   "gpuType": "T4",
   "include_colab_link": true,
   "provenance": []
  },
  "kernelspec": {
   "display_name": "new_tf",
   "language": "python",
   "name": "python3"
  },
  "language_info": {
   "codemirror_mode": {
    "name": "ipython",
    "version": 3
   },
   "file_extension": ".py",
   "mimetype": "text/x-python",
   "name": "python",
   "nbconvert_exporter": "python",
   "pygments_lexer": "ipython3",
   "version": "3.9.19"
  }
 },
 "nbformat": 4,
 "nbformat_minor": 1
}
