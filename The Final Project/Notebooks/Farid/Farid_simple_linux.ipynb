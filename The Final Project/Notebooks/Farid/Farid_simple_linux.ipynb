{
 "cells": [
  {
   "cell_type": "code",
   "execution_count": 1,
   "metadata": {
    "id": "at5bJWeFFBEv"
   },
   "outputs": [
    {
     "name": "stderr",
     "output_type": "stream",
     "text": [
      "2024-09-17 02:27:47.809220: I tensorflow/stream_executor/platform/default/dso_loader.cc:49] Successfully opened dynamic library libcudart.so.10.1\n"
     ]
    }
   ],
   "source": [
    "from imutils import paths\n",
    "import tensorflow as tf\n",
    "from tensorflow import keras\n",
    "import numpy as np\n",
    "import pandas as pd\n",
    "import matplotlib.pyplot as plt\n",
    "from collections import Counter\n",
    "from sklearn.model_selection import train_test_split\n",
    "import random\n",
    "from sklearn.metrics import accuracy_score, precision_score, recall_score\n",
    "from scipy.special import softmax\n",
    "from sklearn.metrics import ConfusionMatrixDisplay\n",
    "from sklearn.metrics import confusion_matrix\n"
   ]
  },
  {
   "cell_type": "code",
   "execution_count": 2,
   "metadata": {},
   "outputs": [
    {
     "name": "stdout",
     "output_type": "stream",
     "text": [
      "Num GPUs Available:  1\n"
     ]
    },
    {
     "name": "stderr",
     "output_type": "stream",
     "text": [
      "2024-09-17 02:27:49.779238: I tensorflow/compiler/jit/xla_cpu_device.cc:41] Not creating XLA devices, tf_xla_enable_xla_devices not set\n",
      "2024-09-17 02:27:49.780478: I tensorflow/stream_executor/platform/default/dso_loader.cc:49] Successfully opened dynamic library libcuda.so.1\n",
      "2024-09-17 02:27:49.797448: I tensorflow/stream_executor/cuda/cuda_gpu_executor.cc:941] successful NUMA node read from SysFS had negative value (-1), but there must be at least one NUMA node, so returning NUMA node zero\n",
      "2024-09-17 02:27:49.797684: I tensorflow/core/common_runtime/gpu/gpu_device.cc:1720] Found device 0 with properties: \n",
      "pciBusID: 0000:01:00.0 name: Quadro P2000 computeCapability: 6.1\n",
      "coreClock: 1.607GHz coreCount: 6 deviceMemorySize: 3.94GiB deviceMemoryBandwidth: 89.53GiB/s\n",
      "2024-09-17 02:27:49.797712: I tensorflow/stream_executor/platform/default/dso_loader.cc:49] Successfully opened dynamic library libcudart.so.10.1\n",
      "2024-09-17 02:27:49.800122: I tensorflow/stream_executor/platform/default/dso_loader.cc:49] Successfully opened dynamic library libcublas.so.10\n",
      "2024-09-17 02:27:49.800257: I tensorflow/stream_executor/platform/default/dso_loader.cc:49] Successfully opened dynamic library libcublasLt.so.10\n",
      "2024-09-17 02:27:49.802807: I tensorflow/stream_executor/platform/default/dso_loader.cc:49] Successfully opened dynamic library libcufft.so.10\n",
      "2024-09-17 02:27:49.803530: I tensorflow/stream_executor/platform/default/dso_loader.cc:49] Successfully opened dynamic library libcurand.so.10\n",
      "2024-09-17 02:27:49.806068: I tensorflow/stream_executor/platform/default/dso_loader.cc:49] Successfully opened dynamic library libcusolver.so.10\n",
      "2024-09-17 02:27:49.807335: I tensorflow/stream_executor/platform/default/dso_loader.cc:49] Successfully opened dynamic library libcusparse.so.10\n",
      "2024-09-17 02:27:49.811961: I tensorflow/stream_executor/platform/default/dso_loader.cc:49] Successfully opened dynamic library libcudnn.so.7\n",
      "2024-09-17 02:27:49.812300: I tensorflow/stream_executor/cuda/cuda_gpu_executor.cc:941] successful NUMA node read from SysFS had negative value (-1), but there must be at least one NUMA node, so returning NUMA node zero\n",
      "2024-09-17 02:27:49.812758: I tensorflow/stream_executor/cuda/cuda_gpu_executor.cc:941] successful NUMA node read from SysFS had negative value (-1), but there must be at least one NUMA node, so returning NUMA node zero\n",
      "2024-09-17 02:27:49.812908: I tensorflow/core/common_runtime/gpu/gpu_device.cc:1862] Adding visible gpu devices: 0\n"
     ]
    }
   ],
   "source": [
    "print(\"Num GPUs Available: \", len(tf.config.list_physical_devices('GPU')))"
   ]
  },
  {
   "cell_type": "code",
   "execution_count": 3,
   "metadata": {},
   "outputs": [
    {
     "data": {
      "text/plain": [
       "[PhysicalDevice(name='/physical_device:GPU:0', device_type='GPU')]"
      ]
     },
     "execution_count": 3,
     "metadata": {},
     "output_type": "execute_result"
    }
   ],
   "source": [
    "tf.config.list_physical_devices('GPU')"
   ]
  },
  {
   "cell_type": "markdown",
   "metadata": {},
   "source": [
    "#**Fetching**"
   ]
  },
  {
   "cell_type": "code",
   "execution_count": 4,
   "metadata": {
    "colab": {
     "base_uri": "https://localhost:8080/"
    },
    "id": "5M1CL73yFqJd",
    "outputId": "196459b5-efd5-4c82-d3fe-307d9dcfb9f4"
   },
   "outputs": [
    {
     "name": "stderr",
     "output_type": "stream",
     "text": [
      "2024-09-17 02:27:49.856091: I tensorflow/core/platform/cpu_feature_guard.cc:142] This TensorFlow binary is optimized with oneAPI Deep Neural Network Library (oneDNN) to use the following CPU instructions in performance-critical operations:  SSE4.1 SSE4.2 AVX AVX2 FMA\n",
      "To enable them in other operations, rebuild TensorFlow with the appropriate compiler flags.\n",
      "2024-09-17 02:27:49.857085: I tensorflow/compiler/jit/xla_gpu_device.cc:99] Not creating XLA devices, tf_xla_enable_xla_devices not set\n",
      "2024-09-17 02:27:49.857531: I tensorflow/stream_executor/cuda/cuda_gpu_executor.cc:941] successful NUMA node read from SysFS had negative value (-1), but there must be at least one NUMA node, so returning NUMA node zero\n",
      "2024-09-17 02:27:49.857696: I tensorflow/core/common_runtime/gpu/gpu_device.cc:1720] Found device 0 with properties: \n",
      "pciBusID: 0000:01:00.0 name: Quadro P2000 computeCapability: 6.1\n",
      "coreClock: 1.607GHz coreCount: 6 deviceMemorySize: 3.94GiB deviceMemoryBandwidth: 89.53GiB/s\n",
      "2024-09-17 02:27:49.857738: I tensorflow/stream_executor/platform/default/dso_loader.cc:49] Successfully opened dynamic library libcudart.so.10.1\n",
      "2024-09-17 02:27:49.857793: I tensorflow/stream_executor/platform/default/dso_loader.cc:49] Successfully opened dynamic library libcublas.so.10\n",
      "2024-09-17 02:27:49.857816: I tensorflow/stream_executor/platform/default/dso_loader.cc:49] Successfully opened dynamic library libcublasLt.so.10\n",
      "2024-09-17 02:27:49.857837: I tensorflow/stream_executor/platform/default/dso_loader.cc:49] Successfully opened dynamic library libcufft.so.10\n",
      "2024-09-17 02:27:49.857857: I tensorflow/stream_executor/platform/default/dso_loader.cc:49] Successfully opened dynamic library libcurand.so.10\n",
      "2024-09-17 02:27:49.857877: I tensorflow/stream_executor/platform/default/dso_loader.cc:49] Successfully opened dynamic library libcusolver.so.10\n",
      "2024-09-17 02:27:49.857897: I tensorflow/stream_executor/platform/default/dso_loader.cc:49] Successfully opened dynamic library libcusparse.so.10\n",
      "2024-09-17 02:27:49.857917: I tensorflow/stream_executor/platform/default/dso_loader.cc:49] Successfully opened dynamic library libcudnn.so.7\n",
      "2024-09-17 02:27:49.858013: I tensorflow/stream_executor/cuda/cuda_gpu_executor.cc:941] successful NUMA node read from SysFS had negative value (-1), but there must be at least one NUMA node, so returning NUMA node zero\n",
      "2024-09-17 02:27:49.858265: I tensorflow/stream_executor/cuda/cuda_gpu_executor.cc:941] successful NUMA node read from SysFS had negative value (-1), but there must be at least one NUMA node, so returning NUMA node zero\n",
      "2024-09-17 02:27:49.858486: I tensorflow/core/common_runtime/gpu/gpu_device.cc:1862] Adding visible gpu devices: 0\n",
      "2024-09-17 02:27:49.858530: I tensorflow/stream_executor/platform/default/dso_loader.cc:49] Successfully opened dynamic library libcudart.so.10.1\n",
      "2024-09-17 02:27:50.447752: I tensorflow/core/common_runtime/gpu/gpu_device.cc:1261] Device interconnect StreamExecutor with strength 1 edge matrix:\n",
      "2024-09-17 02:27:50.447796: I tensorflow/core/common_runtime/gpu/gpu_device.cc:1267]      0 \n",
      "2024-09-17 02:27:50.447807: I tensorflow/core/common_runtime/gpu/gpu_device.cc:1280] 0:   N \n",
      "2024-09-17 02:27:50.448024: I tensorflow/stream_executor/cuda/cuda_gpu_executor.cc:941] successful NUMA node read from SysFS had negative value (-1), but there must be at least one NUMA node, so returning NUMA node zero\n",
      "2024-09-17 02:27:50.448227: I tensorflow/stream_executor/cuda/cuda_gpu_executor.cc:941] successful NUMA node read from SysFS had negative value (-1), but there must be at least one NUMA node, so returning NUMA node zero\n",
      "2024-09-17 02:27:50.448375: I tensorflow/stream_executor/cuda/cuda_gpu_executor.cc:941] successful NUMA node read from SysFS had negative value (-1), but there must be at least one NUMA node, so returning NUMA node zero\n",
      "2024-09-17 02:27:50.448480: I tensorflow/core/common_runtime/gpu/gpu_device.cc:1406] Created TensorFlow device (/job:localhost/replica:0/task:0/device:GPU:0 with 3577 MB memory) -> physical GPU (device: 0, name: Quadro P2000, pci bus id: 0000:01:00.0, compute capability: 6.1)\n"
     ]
    },
    {
     "name": "stdout",
     "output_type": "stream",
     "text": [
      "Loaded FR0... 6066 files has loaded.\n"
     ]
    }
   ],
   "source": [
    "# Reading FRI Images\n",
    "imagePaths = list(paths.list_images(r\"/media/gunner/5A300FFA300FDC3F/My Projects/Temp/Data-Mining/Dataset/FR0\"))\n",
    "\n",
    "data = []\n",
    "data_cropped = []\n",
    "labels = []\n",
    "label = 0\n",
    "counter_0 = 0\n",
    "\n",
    "for imagePath in imagePaths:\n",
    "  image = tf.io.read_file(imagePath)\n",
    "  image = tf.image.decode_image(image, channels=1)\n",
    "  data.append(image)\n",
    "  image = tf.image.crop_to_bounding_box(image, 124, 124, 50, 50)\n",
    "  data_cropped.append(image)\n",
    "  labels.append(label)\n",
    "  counter_0 += 1\n",
    "print(f'Loaded FR0... {counter_0} files has loaded.')"
   ]
  },
  {
   "cell_type": "code",
   "execution_count": 5,
   "metadata": {
    "colab": {
     "base_uri": "https://localhost:8080/"
    },
    "id": "9NmnZ6cZjobL",
    "outputId": "11ef93bc-1237-41bc-b595-1c382c54d63a"
   },
   "outputs": [
    {
     "name": "stdout",
     "output_type": "stream",
     "text": [
      "Loaded FRI... 5008 files has loaded.\n"
     ]
    }
   ],
   "source": [
    "# Reading FRI Images\n",
    "imagePaths = list(paths.list_images(r\"/media/gunner/5A300FFA300FDC3F/My Projects/Temp/Data-Mining/Dataset/FRI\"))\n",
    "\n",
    "\n",
    "label = 1\n",
    "counter_1 = 0\n",
    "\n",
    "for imagePath in imagePaths:\n",
    "  image = tf.io.read_file(imagePath)\n",
    "  image = tf.image.decode_image(image, channels=1)\n",
    "  data.append(image)\n",
    "  image = tf.image.crop_to_bounding_box(image, 124, 124, 50, 50)\n",
    "  data_cropped.append(image)\n",
    "  labels.append(label)\n",
    "  counter_1 += 1\n",
    "print(f'Loaded FRI... {counter_1} files has loaded.')"
   ]
  },
  {
   "cell_type": "code",
   "execution_count": 6,
   "metadata": {
    "colab": {
     "base_uri": "https://localhost:8080/"
    },
    "id": "Ni70OrxGP6CG",
    "outputId": "c29db458-124f-4459-f61e-0578e0806de0"
   },
   "outputs": [
    {
     "name": "stdout",
     "output_type": "stream",
     "text": [
      "Loaded FRII... 2066 files has loaded.\n"
     ]
    }
   ],
   "source": [
    "# Reading FRI Images\n",
    "imagePaths = list(paths.list_images(r\"/media/gunner/5A300FFA300FDC3F/My Projects/Temp/Data-Mining/Dataset/FRII\"))\n",
    "\n",
    "label = 2\n",
    "counter_2 = 0\n",
    "\n",
    "for imagePath in imagePaths:\n",
    "  image = tf.io.read_file(imagePath)\n",
    "  image = tf.image.decode_image(image, channels=1)\n",
    "  data.append(image)\n",
    "  image = tf.image.crop_to_bounding_box(image, 124, 124, 50, 50)\n",
    "  data_cropped.append(image)\n",
    "  labels.append(label)\n",
    "  counter_2 += 1\n",
    "print(f'Loaded FRII... {counter_2} files has loaded.')"
   ]
  },
  {
   "cell_type": "markdown",
   "metadata": {
    "id": "C_EYq2cD2S9o"
   },
   "source": [
    "#**EDA**"
   ]
  },
  {
   "cell_type": "code",
   "execution_count": 7,
   "metadata": {
    "colab": {
     "base_uri": "https://localhost:8080/",
     "height": 472
    },
    "id": "WxXep8unzj8T",
    "outputId": "d1ae5a94-0faf-4130-ec04-b777a6a9daf5"
   },
   "outputs": [
    {
     "data": {
      "image/png": "[encoded data removed]",
      "text/plain": [
       "<Figure size 640x480 with 1 Axes>"
      ]
     },
     "metadata": {},
     "output_type": "display_data"
    }
   ],
   "source": [
    "counter = Counter(labels)\n",
    "sorted_counts = dict(sorted(counter.items()))\n",
    "plt.bar(sorted_counts.keys(), sorted_counts.values(), color='skyblue')\n",
    "plt.xlabel('Class')\n",
    "plt.ylabel('Count')\n",
    "plt.title('Count of Each Class in the Dataset')\n",
    "plt.xticks(range(3))\n",
    "plt.show()"
   ]
  },
  {
   "cell_type": "code",
   "execution_count": 8,
   "metadata": {
    "id": "AgbTDA9wQEWw"
   },
   "outputs": [],
   "source": [
    "labels = np.array(labels,dtype='uint8')\n",
    "data = np.array(data,dtype='uint8')\n",
    "data_cropped = np.array(data_cropped,dtype='uint8')"
   ]
  },
  {
   "cell_type": "code",
   "execution_count": 9,
   "metadata": {
    "colab": {
     "base_uri": "https://localhost:8080/",
     "height": 205
    },
    "id": "4l5LfN-uS8iz",
    "outputId": "fcd8e013-b734-4a25-c32b-3fbb4d15b40e"
   },
   "outputs": [
    {
     "data": {
      "image/png": "[encoded data removed]",
      "text/plain": [
       "<Figure size 640x480 with 3 Axes>"
      ]
     },
     "metadata": {},
     "output_type": "display_data"
    }
   ],
   "source": [
    "image = np.squeeze(data[0])\n",
    "plt.subplot(1, 3, 1)\n",
    "plt.imshow(image, cmap='gray')\n",
    "plt.axis('off')\n",
    "plt.title(f\"Image at FR0\")\n",
    "\n",
    "image = np.squeeze(data[6066])\n",
    "plt.subplot(1, 3, 2)\n",
    "plt.imshow(image, cmap='gray')\n",
    "plt.axis('off')\n",
    "plt.title(f\"Image at FRI\")\n",
    "\n",
    "image = np.squeeze(data[11075])\n",
    "plt.subplot(1, 3, 3)\n",
    "plt.imshow(image, cmap='gray')\n",
    "plt.axis('off')\n",
    "plt.title(f\"Image at FRII\")\n",
    "\n",
    "\n",
    "plt.show()"
   ]
  },
  {
   "cell_type": "code",
   "execution_count": 10,
   "metadata": {
    "colab": {
     "base_uri": "https://localhost:8080/",
     "height": 205
    },
    "id": "AwomotIWl0aV",
    "outputId": "850936fc-78fd-4f77-cafb-2842404953bd"
   },
   "outputs": [
    {
     "data": {
      "image/png": "[encoded data removed]",
      "text/plain": [
       "<Figure size 640x480 with 3 Axes>"
      ]
     },
     "metadata": {},
     "output_type": "display_data"
    }
   ],
   "source": [
    "image = np.squeeze(data_cropped[0])\n",
    "plt.subplot(1, 3, 1)\n",
    "plt.imshow(image, cmap='gray')\n",
    "plt.axis('off')\n",
    "plt.title(f\"Image at FR0\")\n",
    "\n",
    "image = np.squeeze(data_cropped[6066])\n",
    "plt.subplot(1, 3, 2)\n",
    "plt.imshow(image, cmap='gray')\n",
    "plt.axis('off')\n",
    "plt.title(f\"Image at FRI\")\n",
    "\n",
    "image = np.squeeze(data_cropped[11075])\n",
    "plt.subplot(1, 3, 3)\n",
    "plt.imshow(image, cmap='gray')\n",
    "plt.axis('off')\n",
    "plt.title(f\"Image at FRII\")\n",
    "\n",
    "\n",
    "plt.show()"
   ]
  },
  {
   "cell_type": "code",
   "execution_count": 11,
   "metadata": {},
   "outputs": [
    {
     "data": {
      "text/plain": [
       "((13140, 300, 300, 1), (13140, 50, 50, 1))"
      ]
     },
     "execution_count": 11,
     "metadata": {},
     "output_type": "execute_result"
    }
   ],
   "source": [
    "data.shape, data_cropped.shape"
   ]
  },
  {
   "cell_type": "code",
   "execution_count": 12,
   "metadata": {
    "colab": {
     "base_uri": "https://localhost:8080/"
    },
    "id": "TFdup12Eh4El",
    "outputId": "f55e31f6-39a1-4abc-f222-a42e47a140a2"
   },
   "outputs": [
    {
     "data": {
      "text/plain": [
       "(0, 248)"
      ]
     },
     "execution_count": 12,
     "metadata": {},
     "output_type": "execute_result"
    }
   ],
   "source": [
    "np.min(data_cropped[0]), np.max(data_cropped[0])"
   ]
  },
  {
   "cell_type": "markdown",
   "metadata": {
    "id": "3javIkUqrHCu"
   },
   "source": [
    "#**Preprocessing**"
   ]
  },
  {
   "cell_type": "code",
   "execution_count": 13,
   "metadata": {
    "id": "zpeQhX80ruoD"
   },
   "outputs": [],
   "source": [
    "data_normalized = data_cropped / 255"
   ]
  },
  {
   "cell_type": "code",
   "execution_count": 14,
   "metadata": {
    "colab": {
     "base_uri": "https://localhost:8080/"
    },
    "id": "5FNEuTr7r3vt",
    "outputId": "2b6030e1-9a1c-487a-e49f-1c972fd03314"
   },
   "outputs": [
    {
     "name": "stdout",
     "output_type": "stream",
     "text": [
      "Min of original = 0\n",
      "Max of original = 248\n",
      "Min of original = 0.0\n",
      "Max of original = 0.9725490196078431\n"
     ]
    }
   ],
   "source": [
    "print(f'Min of original = {np.min(data_cropped[0])}')\n",
    "print(f'Max of original = {np.max(data_cropped[0])}')\n",
    "print(f'Min of original = {np.min(data_normalized[0])}')\n",
    "print(f'Max of original = {np.max(data_normalized[0])}')"
   ]
  },
  {
   "cell_type": "code",
   "execution_count": 15,
   "metadata": {
    "colab": {
     "base_uri": "https://localhost:8080/",
     "height": 507
    },
    "id": "ctW2qI2Wwov1",
    "outputId": "80bf6a8c-7ce4-4e0a-c50a-607f825fa5a2"
   },
   "outputs": [
    {
     "data": {
      "image/png": "[encoded data removed]",
      "text/plain": [
       "<Figure size 1000x500 with 2 Axes>"
      ]
     },
     "metadata": {},
     "output_type": "display_data"
    }
   ],
   "source": [
    "cropped_flat = data_cropped.flatten()\n",
    "normalized_flat = data_normalized.flatten()\n",
    "\n",
    "plt.figure(figsize=(10, 5))\n",
    "\n",
    "plt.subplot(1, 2, 1)\n",
    "plt.boxplot(cropped_flat)\n",
    "plt.title(\"Original Pixel Values (0-255)\")\n",
    "plt.ylabel(\"Pixel Intensity\")\n",
    "\n",
    "plt.subplot(1, 2, 2)\n",
    "plt.boxplot(normalized_flat)\n",
    "plt.title(\"Normalized Pixel Values (0-1)\")\n",
    "plt.ylabel(\"Pixel Intensity\")\n",
    "\n",
    "plt.tight_layout()\n",
    "plt.show()"
   ]
  },
  {
   "cell_type": "markdown",
   "metadata": {
    "id": "IUaWnZu7n2LV"
   },
   "source": [
    "#**Splitting**"
   ]
  },
  {
   "cell_type": "code",
   "execution_count": 16,
   "metadata": {
    "colab": {
     "base_uri": "https://localhost:8080/"
    },
    "id": "wo4aF9gKm17L",
    "outputId": "35d329ea-7127-49a8-b15b-45797487450d"
   },
   "outputs": [
    {
     "data": {
      "text/plain": [
       "((9198, 50, 50, 1), (9198,), (3942, 50, 50, 1), (3942,))"
      ]
     },
     "execution_count": 16,
     "metadata": {},
     "output_type": "execute_result"
    }
   ],
   "source": [
    "x = data_normalized\n",
    "y = labels\n",
    "x_train, x_test, y_train, y_test = train_test_split(x, y, test_size=0.3)\n",
    "\n",
    "x_train.shape, y_train.shape, x_test.shape, y_test.shape"
   ]
  },
  {
   "cell_type": "code",
   "execution_count": 17,
   "metadata": {},
   "outputs": [],
   "source": [
    "x_train_flatten = tf.reshape(x_train, (9198, -1))\n",
    "x_test_flatten = tf.reshape(x_test, (3942, -1))"
   ]
  },
  {
   "cell_type": "code",
   "execution_count": 18,
   "metadata": {},
   "outputs": [
    {
     "data": {
      "text/plain": [
       "(TensorShape([9198, 2500]),\n",
       " (9198, 50, 50, 1),\n",
       " TensorShape([3942, 2500]),\n",
       " (3942, 50, 50, 1))"
      ]
     },
     "execution_count": 18,
     "metadata": {},
     "output_type": "execute_result"
    }
   ],
   "source": [
    "x_train_flatten.shape, x_train.shape, x_test_flatten.shape, x_test.shape"
   ]
  },
  {
   "cell_type": "markdown",
   "metadata": {},
   "source": [
    "#PCA"
   ]
  },
  {
   "cell_type": "code",
   "execution_count": 19,
   "metadata": {},
   "outputs": [],
   "source": [
    "from sklearn.decomposition import PCA\n",
    "\n",
    "pca = PCA(n_components=32)\n",
    "\n",
    "x_train_pca = pca.fit_transform(x_train_flatten)\n",
    "x_test_pca = pca.transform(x_test_flatten)\n"
   ]
  },
  {
   "cell_type": "code",
   "execution_count": 20,
   "metadata": {},
   "outputs": [
    {
     "data": {
      "text/plain": [
       "(9198, 32)"
      ]
     },
     "execution_count": 20,
     "metadata": {},
     "output_type": "execute_result"
    }
   ],
   "source": [
    "x_train_pca.shape"
   ]
  },
  {
   "cell_type": "markdown",
   "metadata": {},
   "source": [
    "#**Model definition**"
   ]
  },
  {
   "cell_type": "code",
   "execution_count": 21,
   "metadata": {
    "id": "deVyf-K-2d2r"
   },
   "outputs": [
    {
     "name": "stdout",
     "output_type": "stream",
     "text": [
      "Model: \"sequential\"\n",
      "_________________________________________________________________\n",
      "Layer (type)                 Output Shape              Param #   \n",
      "=================================================================\n",
      "flatten (Flatten)            (None, 32)                0         \n",
      "_________________________________________________________________\n",
      "dense (Dense)                (None, 256)               8448      \n",
      "_________________________________________________________________\n",
      "dropout (Dropout)            (None, 256)               0         \n",
      "_________________________________________________________________\n",
      "dense_1 (Dense)              (None, 128)               32896     \n",
      "_________________________________________________________________\n",
      "dropout_1 (Dropout)          (None, 128)               0         \n",
      "_________________________________________________________________\n",
      "dense_2 (Dense)              (None, 64)                8256      \n",
      "_________________________________________________________________\n",
      "dropout_2 (Dropout)          (None, 64)                0         \n",
      "_________________________________________________________________\n",
      "dense_3 (Dense)              (None, 32)                2080      \n",
      "_________________________________________________________________\n",
      "dropout_3 (Dropout)          (None, 32)                0         \n",
      "_________________________________________________________________\n",
      "dense_4 (Dense)              (None, 16)                528       \n",
      "_________________________________________________________________\n",
      "dropout_4 (Dropout)          (None, 16)                0         \n",
      "_________________________________________________________________\n",
      "dense_5 (Dense)              (None, 8)                 136       \n",
      "_________________________________________________________________\n",
      "dense_6 (Dense)              (None, 3)                 27        \n",
      "=================================================================\n",
      "Total params: 52,371\n",
      "Trainable params: 52,371\n",
      "Non-trainable params: 0\n",
      "_________________________________________________________________\n"
     ]
    }
   ],
   "source": [
    "model = keras.Sequential()\n",
    "model.add(keras.layers.Flatten())\n",
    "model.add(keras.layers.Dense(units=256, activation='relu', input_shape=(32, 1)))\n",
    "model.add(keras.layers.Dropout(0.5))\n",
    "model.add(keras.layers.Dense(units=128, activation='relu'))\n",
    "model.add(keras.layers.Dropout(0.4))\n",
    "model.add(keras.layers.Dense(units=64, activation='relu'))\n",
    "model.add(keras.layers.Dropout(0.3))\n",
    "model.add(keras.layers.Dense(units=32, activation='relu'))\n",
    "model.add(keras.layers.Dropout(0.2))\n",
    "model.add(keras.layers.Dense(units=16, activation='relu'))\n",
    "model.add(keras.layers.Dropout(0.1))\n",
    "model.add(keras.layers.Dense(units=8, activation='relu'))\n",
    "\n",
    "model.add(keras.layers.Dense(units=3, activation=keras.activations.softmax))\n",
    "\n",
    "\n",
    "#Model Compiling\n",
    "optimizer = keras.optimizers.Adam()\n",
    "loss = keras.losses.SparseCategoricalCrossentropy()\n",
    "metric = keras.metrics.CategoricalAccuracy()\n",
    "\n",
    "model.compile(optimizer=optimizer, loss=loss, metrics=['accuracy'])\n",
    "\n",
    "\n",
    "#Builing and Summury\n",
    "model.build(input_shape=(None, 32))\n",
    "model.summary()"
   ]
  },
  {
   "cell_type": "code",
   "execution_count": 22,
   "metadata": {},
   "outputs": [],
   "source": [
    "early_stopping = tf.keras.callbacks.EarlyStopping(monitor='val_loss', patience=10, restore_best_weights=True)"
   ]
  },
  {
   "cell_type": "code",
   "execution_count": 23,
   "metadata": {
    "colab": {
     "base_uri": "https://localhost:8080/",
     "height": 1000
    },
    "id": "_ruBY4as6Kj7",
    "outputId": "c402ff72-9937-48fc-fd4c-262d41b7a1af"
   },
   "outputs": [
    {
     "name": "stdout",
     "output_type": "stream",
     "text": [
      "Epoch 1/30\n"
     ]
    },
    {
     "name": "stderr",
     "output_type": "stream",
     "text": [
      "2024-09-17 02:28:07.612299: I tensorflow/compiler/mlir/mlir_graph_optimization_pass.cc:116] None of the MLIR optimization passes are enabled (registered 2)\n",
      "2024-09-17 02:28:07.612622: I tensorflow/core/platform/profile_utils/cpu_utils.cc:112] CPU Frequency: 2599990000 Hz\n"
     ]
    },
    {
     "name": "stdout",
     "output_type": "stream",
     "text": [
      " 35/288 [==>...........................] - ETA: 0s - loss: 1.0783 - accuracy: 0.4517  "
     ]
    },
    {
     "name": "stderr",
     "output_type": "stream",
     "text": [
      "2024-09-17 02:28:07.993730: I tensorflow/stream_executor/platform/default/dso_loader.cc:49] Successfully opened dynamic library libcublas.so.10\n"
     ]
    },
    {
     "name": "stdout",
     "output_type": "stream",
     "text": [
      "288/288 [==============================] - 1s 3ms/step - loss: 0.8811 - accuracy: 0.6159 - val_loss: 0.5128 - val_accuracy: 0.8085\n",
      "Epoch 2/30\n",
      "288/288 [==============================] - 1s 2ms/step - loss: 0.5898 - accuracy: 0.7703 - val_loss: 0.4802 - val_accuracy: 0.8234\n",
      "Epoch 3/30\n",
      "288/288 [==============================] - 1s 2ms/step - loss: 0.5433 - accuracy: 0.7945 - val_loss: 0.4581 - val_accuracy: 0.8234\n",
      "Epoch 4/30\n",
      "288/288 [==============================] - 1s 2ms/step - loss: 0.5031 - accuracy: 0.8122 - val_loss: 0.4459 - val_accuracy: 0.8356\n",
      "Epoch 5/30\n",
      "288/288 [==============================] - 1s 2ms/step - loss: 0.4890 - accuracy: 0.8190 - val_loss: 0.4405 - val_accuracy: 0.8371\n",
      "Epoch 6/30\n",
      "288/288 [==============================] - 1s 2ms/step - loss: 0.4817 - accuracy: 0.8173 - val_loss: 0.4410 - val_accuracy: 0.8351\n",
      "Epoch 7/30\n",
      "288/288 [==============================] - 1s 3ms/step - loss: 0.4855 - accuracy: 0.8134 - val_loss: 0.4414 - val_accuracy: 0.8308\n",
      "Epoch 8/30\n",
      "288/288 [==============================] - 1s 3ms/step - loss: 0.4612 - accuracy: 0.8216 - val_loss: 0.4327 - val_accuracy: 0.8356\n",
      "Epoch 9/30\n",
      "288/288 [==============================] - 1s 3ms/step - loss: 0.4400 - accuracy: 0.8394 - val_loss: 0.4300 - val_accuracy: 0.8382\n",
      "Epoch 10/30\n",
      "288/288 [==============================] - 1s 3ms/step - loss: 0.4448 - accuracy: 0.8367 - val_loss: 0.4295 - val_accuracy: 0.8371\n",
      "Epoch 11/30\n",
      "288/288 [==============================] - 1s 2ms/step - loss: 0.4325 - accuracy: 0.8419 - val_loss: 0.4337 - val_accuracy: 0.8404\n",
      "Epoch 12/30\n",
      "288/288 [==============================] - 1s 2ms/step - loss: 0.4493 - accuracy: 0.8265 - val_loss: 0.4254 - val_accuracy: 0.8376\n",
      "Epoch 13/30\n",
      "288/288 [==============================] - 1s 2ms/step - loss: 0.4347 - accuracy: 0.8383 - val_loss: 0.4325 - val_accuracy: 0.8409\n",
      "Epoch 14/30\n",
      "288/288 [==============================] - 1s 2ms/step - loss: 0.4330 - accuracy: 0.8396 - val_loss: 0.4327 - val_accuracy: 0.8371\n",
      "Epoch 15/30\n",
      "288/288 [==============================] - 1s 2ms/step - loss: 0.4200 - accuracy: 0.8428 - val_loss: 0.4240 - val_accuracy: 0.8397\n",
      "Epoch 16/30\n",
      "288/288 [==============================] - 1s 2ms/step - loss: 0.4134 - accuracy: 0.8362 - val_loss: 0.4225 - val_accuracy: 0.8392\n",
      "Epoch 17/30\n",
      "288/288 [==============================] - 1s 2ms/step - loss: 0.4235 - accuracy: 0.8394 - val_loss: 0.4253 - val_accuracy: 0.8371\n",
      "Epoch 18/30\n",
      "288/288 [==============================] - 1s 2ms/step - loss: 0.4172 - accuracy: 0.8423 - val_loss: 0.4257 - val_accuracy: 0.8407\n",
      "Epoch 19/30\n",
      "288/288 [==============================] - 1s 2ms/step - loss: 0.4254 - accuracy: 0.8354 - val_loss: 0.4253 - val_accuracy: 0.8343\n",
      "Epoch 20/30\n",
      "288/288 [==============================] - 1s 2ms/step - loss: 0.4124 - accuracy: 0.8413 - val_loss: 0.4261 - val_accuracy: 0.8392\n",
      "Epoch 21/30\n",
      "288/288 [==============================] - 1s 2ms/step - loss: 0.4119 - accuracy: 0.8414 - val_loss: 0.4338 - val_accuracy: 0.8366\n",
      "Epoch 22/30\n",
      "288/288 [==============================] - 1s 2ms/step - loss: 0.4117 - accuracy: 0.8452 - val_loss: 0.4196 - val_accuracy: 0.8450\n",
      "Epoch 23/30\n",
      "288/288 [==============================] - 1s 2ms/step - loss: 0.4066 - accuracy: 0.8506 - val_loss: 0.4266 - val_accuracy: 0.8371\n",
      "Epoch 24/30\n",
      "288/288 [==============================] - 1s 2ms/step - loss: 0.4108 - accuracy: 0.8390 - val_loss: 0.4290 - val_accuracy: 0.8420\n",
      "Epoch 25/30\n",
      "288/288 [==============================] - 1s 2ms/step - loss: 0.3987 - accuracy: 0.8518 - val_loss: 0.4262 - val_accuracy: 0.8437\n",
      "Epoch 26/30\n",
      "288/288 [==============================] - 1s 2ms/step - loss: 0.4075 - accuracy: 0.8440 - val_loss: 0.4245 - val_accuracy: 0.8455\n",
      "Epoch 27/30\n",
      "288/288 [==============================] - 1s 3ms/step - loss: 0.3963 - accuracy: 0.8416 - val_loss: 0.4394 - val_accuracy: 0.8397\n",
      "Epoch 28/30\n",
      "288/288 [==============================] - 1s 2ms/step - loss: 0.3947 - accuracy: 0.8504 - val_loss: 0.4281 - val_accuracy: 0.8415\n",
      "Epoch 29/30\n",
      "288/288 [==============================] - 1s 2ms/step - loss: 0.3924 - accuracy: 0.8515 - val_loss: 0.4260 - val_accuracy: 0.8430\n",
      "Epoch 30/30\n",
      "288/288 [==============================] - 1s 2ms/step - loss: 0.3885 - accuracy: 0.8511 - val_loss: 0.4382 - val_accuracy: 0.8447\n"
     ]
    }
   ],
   "source": [
    "import time\n",
    "\n",
    "start = time.perf_counter()\n",
    "hist = model.fit(x_train_pca, y_train, batch_size=32, epochs=30, validation_data=(x_test_pca, y_test), callbacks=early_stopping)\n",
    "end = time.perf_counter()"
   ]
  },
  {
   "cell_type": "code",
   "execution_count": 24,
   "metadata": {},
   "outputs": [
    {
     "data": {
      "text/plain": [
       "20.438704579999467"
      ]
     },
     "execution_count": 24,
     "metadata": {},
     "output_type": "execute_result"
    }
   ],
   "source": [
    "end - start"
   ]
  },
  {
   "cell_type": "code",
   "execution_count": 25,
   "metadata": {
    "id": "ZRqQ-fgq_uO_"
   },
   "outputs": [
    {
     "data": {
      "image/png": "[encoded data removed]",
      "text/plain": [
       "<Figure size 640x480 with 1 Axes>"
      ]
     },
     "metadata": {},
     "output_type": "display_data"
    }
   ],
   "source": [
    "plt.axes().set_facecolor('gray')\n",
    "plt.grid('True')\n",
    "\n",
    "loss = hist.history['loss']\n",
    "val_loss = hist.history['val_loss']\n",
    "plt.plot(loss, color='green')\n",
    "plt.plot(val_loss, color='yellow')\n",
    "\n",
    "acc_hist_train = hist.history['accuracy']\n",
    "val_acc_hist_test = hist.history['val_accuracy']\n",
    "plt.plot(acc_hist_train, color='blue')\n",
    "plt.plot(val_acc_hist_test, color='red')\n",
    "\n",
    "\n",
    "\n",
    "plt.show()\n"
   ]
  },
  {
   "cell_type": "code",
   "execution_count": 26,
   "metadata": {},
   "outputs": [
    {
     "name": "stdout",
     "output_type": "stream",
     "text": [
      "y_train: 1 y_pred_train:[0.25057355 0.7156753  0.0337512 ]\n",
      "y_test: 2 y_pred_test:[7.19411910e-05 1.11411855e-01 8.88516247e-01]\n"
     ]
    }
   ],
   "source": [
    "y_pred_train = model.predict(x_train_pca)\n",
    "y_pred_test = model.predict(x_test_pca)\n",
    "\n",
    "index_train = random.randint(0, 9198)\n",
    "print(f'y_train: {y_train[index_train]} y_pred_train:{y_pred_train[index_train]}')\n",
    "\n",
    "index_test = random.randint(0, 3948)\n",
    "print(f'y_test: {y_test[index_test]} y_pred_test:{y_pred_test[index_test]}')"
   ]
  },
  {
   "cell_type": "code",
   "execution_count": 27,
   "metadata": {},
   "outputs": [
    {
     "data": {
      "text/plain": [
       "((3942,), (9198,))"
      ]
     },
     "execution_count": 27,
     "metadata": {},
     "output_type": "execute_result"
    }
   ],
   "source": [
    "\n",
    "y_pred_train_smax = softmax(y_pred_train, axis=1)\n",
    "y_pred_test_smax = softmax(y_pred_test, axis=1)\n",
    " \n",
    "y_pred_train_smax = np.argmax(y_pred_train_smax, axis=1)\n",
    "y_pred_test_smax = np.argmax(y_pred_test_smax, axis=1)\n",
    "\n",
    "\n",
    "y_pred_test_smax.shape, y_pred_train_smax.shape"
   ]
  },
  {
   "cell_type": "code",
   "execution_count": 28,
   "metadata": {},
   "outputs": [
    {
     "name": "stdout",
     "output_type": "stream",
     "text": [
      "y_train: 1 y_pred_train:1\n",
      "y_test: 0 y_pred_test:0\n"
     ]
    }
   ],
   "source": [
    "index_train = random.randint(0, 9198)\n",
    "print(f'y_train: {y_train[index_train]} y_pred_train:{y_pred_train_smax[index_train]}')\n",
    "\n",
    "index_test = random.randint(0, 3948)\n",
    "print(f'y_test: {y_test[index_test]} y_pred_test:{y_pred_test_smax[index_test]}')"
   ]
  },
  {
   "cell_type": "code",
   "execution_count": 29,
   "metadata": {},
   "outputs": [
    {
     "name": "stdout",
     "output_type": "stream",
     "text": [
      "Acc Train: 0.8741030658838878 - Acc Test: 0.8447488584474886 - Percision: 0.8447488584474886 - Recall: 0.8447488584474886\n"
     ]
    }
   ],
   "source": [
    "\n",
    "acc_train = accuracy_score(y_train, y_pred_train_smax)\n",
    "acc_test = accuracy_score(y_test, y_pred_test_smax)\n",
    "\n",
    "p = precision_score(y_test, y_pred_test_smax, average='micro')\n",
    "r = recall_score(y_test, y_pred_test_smax, average='micro')\n",
    "\n",
    "\n",
    "print(f'Acc Train: {acc_train} - Acc Test: {acc_test} - Percision: {p} - Recall: {r}')"
   ]
  },
  {
   "cell_type": "code",
   "execution_count": 30,
   "metadata": {},
   "outputs": [
    {
     "data": {
      "text/plain": [
       "<sklearn.metrics._plot.confusion_matrix.ConfusionMatrixDisplay at 0x7d64ac4c13a0>"
      ]
     },
     "execution_count": 30,
     "metadata": {},
     "output_type": "execute_result"
    },
    {
     "data": {
      "image/png": "[encoded data removed]",
      "text/plain": [
       "<Figure size 640x480 with 2 Axes>"
      ]
     },
     "metadata": {},
     "output_type": "display_data"
    }
   ],
   "source": [
    "con_mat_train = confusion_matrix(y_train, y_pred_train_smax)\n",
    "\n",
    "disp = ConfusionMatrixDisplay(con_mat_train)\n",
    "\n",
    "disp.plot()"
   ]
  },
  {
   "cell_type": "code",
   "execution_count": 31,
   "metadata": {},
   "outputs": [
    {
     "data": {
      "text/plain": [
       "<sklearn.metrics._plot.confusion_matrix.ConfusionMatrixDisplay at 0x7d64ac4c16a0>"
      ]
     },
     "execution_count": 31,
     "metadata": {},
     "output_type": "execute_result"
    },
    {
     "data": {
      "image/png": "[encoded data removed]",
      "text/plain": [
       "<Figure size 640x480 with 2 Axes>"
      ]
     },
     "metadata": {},
     "output_type": "display_data"
    }
   ],
   "source": [
    "con_mat_test = confusion_matrix(y_test, y_pred_test_smax)\n",
    "\n",
    "disp = ConfusionMatrixDisplay(con_mat_test)\n",
    "\n",
    "disp.plot()"
   ]
  },
  {
   "cell_type": "code",
   "execution_count": null,
   "metadata": {},
   "outputs": [],
   "source": []
  },
  {
   "cell_type": "code",
   "execution_count": null,
   "metadata": {},
   "outputs": [],
   "source": []
  }
 ],
 "metadata": {
  "accelerator": "GPU",
  "colab": {
   "authorship_tag": "ABX9TyMILrhyJbl2A1zW9T13EV/J",
   "gpuType": "T4",
   "include_colab_link": true,
   "provenance": []
  },
  "kernelspec": {
   "display_name": "new_tf",
   "language": "python",
   "name": "python3"
  },
  "language_info": {
   "codemirror_mode": {
    "name": "ipython",
    "version": 3
   },
   "file_extension": ".py",
   "mimetype": "text/x-python",
   "name": "python",
   "nbconvert_exporter": "python",
   "pygments_lexer": "ipython3",
   "version": "3.9.19"
  }
 },
 "nbformat": 4,
 "nbformat_minor": 1
}
